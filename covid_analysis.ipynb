{
 "cells": [
  {
   "cell_type": "code",
   "execution_count": 10,
   "metadata": {},
   "outputs": [
    {
     "data": {
      "text/html": [
       "<div>\n",
       "<style scoped>\n",
       "    .dataframe tbody tr th:only-of-type {\n",
       "        vertical-align: middle;\n",
       "    }\n",
       "\n",
       "    .dataframe tbody tr th {\n",
       "        vertical-align: top;\n",
       "    }\n",
       "\n",
       "    .dataframe thead th {\n",
       "        text-align: right;\n",
       "    }\n",
       "</style>\n",
       "<table border=\"1\" class=\"dataframe\">\n",
       "  <thead>\n",
       "    <tr style=\"text-align: right;\">\n",
       "      <th></th>\n",
       "      <th>Serial Number</th>\n",
       "      <th>Country</th>\n",
       "      <th>Total Cases</th>\n",
       "      <th>Total Deaths</th>\n",
       "      <th>Total Recovered</th>\n",
       "      <th>Active Cases</th>\n",
       "      <th>Total Test</th>\n",
       "      <th>Population</th>\n",
       "    </tr>\n",
       "  </thead>\n",
       "  <tbody>\n",
       "    <tr>\n",
       "      <th>0</th>\n",
       "      <td>1</td>\n",
       "      <td>USA</td>\n",
       "      <td>104,196,861</td>\n",
       "      <td>1,132,935</td>\n",
       "      <td>101,322,779</td>\n",
       "      <td>1,741,147</td>\n",
       "      <td>1,159,832,679</td>\n",
       "      <td>334,805,269</td>\n",
       "    </tr>\n",
       "    <tr>\n",
       "      <th>1</th>\n",
       "      <td>2</td>\n",
       "      <td>India</td>\n",
       "      <td>44,682,784</td>\n",
       "      <td>530,740</td>\n",
       "      <td>44,150,289</td>\n",
       "      <td>1,755</td>\n",
       "      <td>915,265,788</td>\n",
       "      <td>1,406,631,776</td>\n",
       "    </tr>\n",
       "    <tr>\n",
       "      <th>2</th>\n",
       "      <td>3</td>\n",
       "      <td>France</td>\n",
       "      <td>39,524,311</td>\n",
       "      <td>164,233</td>\n",
       "      <td>39,264,546</td>\n",
       "      <td>95,532</td>\n",
       "      <td>271,490,188</td>\n",
       "      <td>65,584,518</td>\n",
       "    </tr>\n",
       "    <tr>\n",
       "      <th>3</th>\n",
       "      <td>4</td>\n",
       "      <td>Germany</td>\n",
       "      <td>37,779,833</td>\n",
       "      <td>165,711</td>\n",
       "      <td>37,398,100</td>\n",
       "      <td>216,022</td>\n",
       "      <td>122,332,384</td>\n",
       "      <td>83,883,596</td>\n",
       "    </tr>\n",
       "    <tr>\n",
       "      <th>4</th>\n",
       "      <td>5</td>\n",
       "      <td>Brazil</td>\n",
       "      <td>36,824,580</td>\n",
       "      <td>697,074</td>\n",
       "      <td>35,919,372</td>\n",
       "      <td>208,134</td>\n",
       "      <td>63,776,166</td>\n",
       "      <td>215,353,593</td>\n",
       "    </tr>\n",
       "    <tr>\n",
       "      <th>5</th>\n",
       "      <td>6</td>\n",
       "      <td>Japan</td>\n",
       "      <td>32,588,442</td>\n",
       "      <td>68,399</td>\n",
       "      <td>21,567,425</td>\n",
       "      <td>10,952,618</td>\n",
       "      <td>92,144,639</td>\n",
       "      <td>125,584,838</td>\n",
       "    </tr>\n",
       "    <tr>\n",
       "      <th>6</th>\n",
       "      <td>7</td>\n",
       "      <td>S. Korea</td>\n",
       "      <td>30,197,066</td>\n",
       "      <td>33,486</td>\n",
       "      <td>29,740,877</td>\n",
       "      <td>422,703</td>\n",
       "      <td>15,804,065</td>\n",
       "      <td>51,329,899</td>\n",
       "    </tr>\n",
       "    <tr>\n",
       "      <th>7</th>\n",
       "      <td>8</td>\n",
       "      <td>Italy</td>\n",
       "      <td>25,453,789</td>\n",
       "      <td>186,833</td>\n",
       "      <td>25,014,986</td>\n",
       "      <td>251,970</td>\n",
       "      <td>265,478,247</td>\n",
       "      <td>60,262,770</td>\n",
       "    </tr>\n",
       "    <tr>\n",
       "      <th>8</th>\n",
       "      <td>9</td>\n",
       "      <td>UK</td>\n",
       "      <td>24,274,361</td>\n",
       "      <td>204,171</td>\n",
       "      <td>24,020,088</td>\n",
       "      <td>50,102</td>\n",
       "      <td>522,526,476</td>\n",
       "      <td>68,497,907</td>\n",
       "    </tr>\n",
       "    <tr>\n",
       "      <th>9</th>\n",
       "      <td>10</td>\n",
       "      <td>Russia</td>\n",
       "      <td>21,958,696</td>\n",
       "      <td>395,108</td>\n",
       "      <td>21,356,008</td>\n",
       "      <td>207,580</td>\n",
       "      <td>273,400,000</td>\n",
       "      <td>145,805,947</td>\n",
       "    </tr>\n",
       "  </tbody>\n",
       "</table>\n",
       "</div>"
      ],
      "text/plain": [
       "   Serial Number   Country  Total Cases Total Deaths Total Recovered  \\\n",
       "0              1       USA  104,196,861    1,132,935     101,322,779   \n",
       "1              2     India   44,682,784      530,740      44,150,289   \n",
       "2              3    France   39,524,311      164,233      39,264,546   \n",
       "3              4   Germany   37,779,833      165,711      37,398,100   \n",
       "4              5    Brazil   36,824,580      697,074      35,919,372   \n",
       "5              6     Japan   32,588,442       68,399      21,567,425   \n",
       "6              7  S. Korea   30,197,066       33,486      29,740,877   \n",
       "7              8     Italy   25,453,789      186,833      25,014,986   \n",
       "8              9        UK   24,274,361      204,171      24,020,088   \n",
       "9             10    Russia   21,958,696      395,108      21,356,008   \n",
       "\n",
       "  Active Cases     Total Test     Population  \n",
       "0    1,741,147  1,159,832,679    334,805,269  \n",
       "1        1,755    915,265,788  1,406,631,776  \n",
       "2       95,532    271,490,188     65,584,518  \n",
       "3      216,022    122,332,384     83,883,596  \n",
       "4      208,134     63,776,166    215,353,593  \n",
       "5   10,952,618     92,144,639    125,584,838  \n",
       "6      422,703     15,804,065     51,329,899  \n",
       "7      251,970    265,478,247     60,262,770  \n",
       "8       50,102    522,526,476     68,497,907  \n",
       "9      207,580    273,400,000    145,805,947  "
      ]
     },
     "execution_count": 10,
     "metadata": {},
     "output_type": "execute_result"
    }
   ],
   "source": [
    "import pandas as pd\n",
    "import numpy as np\n",
    "import matplotlib.pyplot as plt\n",
    "import seaborn as sns\n",
    "import plotly.express as px\n",
    "from wordcloud import WordCloud, STOPWORDS, ImageColorGenerator\n",
    "from sklearn.model_selection import train_test_split\n",
    "from sklearn.linear_model import PassiveAggressiveRegressor\n",
    "\n",
    "data = pd.read_csv(\"covid_worldwide.csv\", encoding = 'latin1')\n",
    "#dataset source: https://www.kaggle.com/datasets/themrityunjaypathak/covid-cases-and-deaths-worldwide?resource=download\n",
    "data.head(10)"
   ]
  },
  {
   "cell_type": "code",
   "execution_count": 26,
   "metadata": {},
   "outputs": [
    {
     "name": "stdout",
     "output_type": "stream",
     "text": [
      "<class 'pandas.core.frame.DataFrame'>\n",
      "Int64Index: 195 entries, 0 to 224\n",
      "Data columns (total 8 columns):\n",
      " #   Column           Non-Null Count  Dtype \n",
      "---  ------           --------------  ----- \n",
      " 0   Serial Number    195 non-null    int64 \n",
      " 1   Country          195 non-null    object\n",
      " 2   Total Cases      195 non-null    object\n",
      " 3   Total Deaths     195 non-null    object\n",
      " 4   Total Recovered  195 non-null    object\n",
      " 5   Active Cases     195 non-null    object\n",
      " 6   Total Test       195 non-null    object\n",
      " 7   Population       195 non-null    object\n",
      "dtypes: int64(1), object(7)\n",
      "memory usage: 13.7+ KB\n"
     ]
    }
   ],
   "source": [
    "data.isnull().sum()\n",
    "data = data.dropna()\n",
    "data.info()\n"
   ]
  },
  {
   "cell_type": "code",
   "execution_count": 12,
   "metadata": {},
   "outputs": [
    {
     "data": {
      "text/plain": [
       "(231, 8)"
      ]
     },
     "execution_count": 12,
     "metadata": {},
     "output_type": "execute_result"
    }
   ],
   "source": [
    "data.shape"
   ]
  },
  {
   "cell_type": "code",
   "execution_count": 24,
   "metadata": {},
   "outputs": [
    {
     "data": {
      "text/plain": [
       "Serial Number      231\n",
       "Country            231\n",
       "Total Cases        231\n",
       "Total Deaths       213\n",
       "Total Recovered    210\n",
       "Active Cases       181\n",
       "Total Test         212\n",
       "Population         228\n",
       "dtype: int64"
      ]
     },
     "execution_count": 24,
     "metadata": {},
     "output_type": "execute_result"
    }
   ],
   "source": [
    "data.nunique() "
   ]
  },
  {
   "cell_type": "code",
   "execution_count": 30,
   "metadata": {},
   "outputs": [
    {
     "data": {
      "text/html": [
       "<div>\n",
       "<style scoped>\n",
       "    .dataframe tbody tr th:only-of-type {\n",
       "        vertical-align: middle;\n",
       "    }\n",
       "\n",
       "    .dataframe tbody tr th {\n",
       "        vertical-align: top;\n",
       "    }\n",
       "\n",
       "    .dataframe thead th {\n",
       "        text-align: right;\n",
       "    }\n",
       "</style>\n",
       "<table border=\"1\" class=\"dataframe\">\n",
       "  <thead>\n",
       "    <tr style=\"text-align: right;\">\n",
       "      <th></th>\n",
       "      <th>Serial Number</th>\n",
       "      <th>Total Cases</th>\n",
       "      <th>Total Deaths</th>\n",
       "      <th>Total Recovered</th>\n",
       "      <th>Active Cases</th>\n",
       "      <th>Total Test</th>\n",
       "      <th>Population</th>\n",
       "    </tr>\n",
       "  </thead>\n",
       "  <tbody>\n",
       "    <tr>\n",
       "      <th>count</th>\n",
       "      <td>195.000000</td>\n",
       "      <td>1.950000e+02</td>\n",
       "      <td>1.950000e+02</td>\n",
       "      <td>1.950000e+02</td>\n",
       "      <td>1.950000e+02</td>\n",
       "      <td>1.950000e+02</td>\n",
       "      <td>1.950000e+02</td>\n",
       "    </tr>\n",
       "    <tr>\n",
       "      <th>mean</th>\n",
       "      <td>107.189744</td>\n",
       "      <td>3.329258e+06</td>\n",
       "      <td>3.378704e+04</td>\n",
       "      <td>3.197261e+06</td>\n",
       "      <td>9.821017e+04</td>\n",
       "      <td>3.375474e+07</td>\n",
       "      <td>3.207370e+07</td>\n",
       "    </tr>\n",
       "    <tr>\n",
       "      <th>std</th>\n",
       "      <td>64.303965</td>\n",
       "      <td>1.019503e+07</td>\n",
       "      <td>1.125272e+05</td>\n",
       "      <td>9.846399e+06</td>\n",
       "      <td>7.988122e+05</td>\n",
       "      <td>1.220386e+08</td>\n",
       "      <td>1.099820e+08</td>\n",
       "    </tr>\n",
       "    <tr>\n",
       "      <th>min</th>\n",
       "      <td>1.000000</td>\n",
       "      <td>1.403000e+03</td>\n",
       "      <td>1.000000e+00</td>\n",
       "      <td>4.380000e+02</td>\n",
       "      <td>0.000000e+00</td>\n",
       "      <td>7.850000e+03</td>\n",
       "      <td>4.965000e+03</td>\n",
       "    </tr>\n",
       "    <tr>\n",
       "      <th>25%</th>\n",
       "      <td>51.500000</td>\n",
       "      <td>3.786550e+04</td>\n",
       "      <td>3.130000e+02</td>\n",
       "      <td>3.469950e+04</td>\n",
       "      <td>7.800000e+01</td>\n",
       "      <td>4.010440e+05</td>\n",
       "      <td>1.100457e+06</td>\n",
       "    </tr>\n",
       "    <tr>\n",
       "      <th>50%</th>\n",
       "      <td>104.000000</td>\n",
       "      <td>2.977570e+05</td>\n",
       "      <td>3.155000e+03</td>\n",
       "      <td>2.889910e+05</td>\n",
       "      <td>1.253000e+03</td>\n",
       "      <td>2.610114e+06</td>\n",
       "      <td>6.844597e+06</td>\n",
       "    </tr>\n",
       "    <tr>\n",
       "      <th>75%</th>\n",
       "      <td>162.000000</td>\n",
       "      <td>1.723625e+06</td>\n",
       "      <td>1.687700e+04</td>\n",
       "      <td>1.708095e+06</td>\n",
       "      <td>1.084850e+04</td>\n",
       "      <td>1.477275e+07</td>\n",
       "      <td>2.782692e+07</td>\n",
       "    </tr>\n",
       "    <tr>\n",
       "      <th>max</th>\n",
       "      <td>225.000000</td>\n",
       "      <td>1.041969e+08</td>\n",
       "      <td>1.132935e+06</td>\n",
       "      <td>1.013228e+08</td>\n",
       "      <td>1.095262e+07</td>\n",
       "      <td>1.159833e+09</td>\n",
       "      <td>1.406632e+09</td>\n",
       "    </tr>\n",
       "  </tbody>\n",
       "</table>\n",
       "</div>"
      ],
      "text/plain": [
       "       Serial Number   Total Cases  Total Deaths  Total Recovered  \\\n",
       "count     195.000000  1.950000e+02  1.950000e+02     1.950000e+02   \n",
       "mean      107.189744  3.329258e+06  3.378704e+04     3.197261e+06   \n",
       "std        64.303965  1.019503e+07  1.125272e+05     9.846399e+06   \n",
       "min         1.000000  1.403000e+03  1.000000e+00     4.380000e+02   \n",
       "25%        51.500000  3.786550e+04  3.130000e+02     3.469950e+04   \n",
       "50%       104.000000  2.977570e+05  3.155000e+03     2.889910e+05   \n",
       "75%       162.000000  1.723625e+06  1.687700e+04     1.708095e+06   \n",
       "max       225.000000  1.041969e+08  1.132935e+06     1.013228e+08   \n",
       "\n",
       "       Active Cases    Total Test    Population  \n",
       "count  1.950000e+02  1.950000e+02  1.950000e+02  \n",
       "mean   9.821017e+04  3.375474e+07  3.207370e+07  \n",
       "std    7.988122e+05  1.220386e+08  1.099820e+08  \n",
       "min    0.000000e+00  7.850000e+03  4.965000e+03  \n",
       "25%    7.800000e+01  4.010440e+05  1.100457e+06  \n",
       "50%    1.253000e+03  2.610114e+06  6.844597e+06  \n",
       "75%    1.084850e+04  1.477275e+07  2.782692e+07  \n",
       "max    1.095262e+07  1.159833e+09  1.406632e+09  "
      ]
     },
     "execution_count": 30,
     "metadata": {},
     "output_type": "execute_result"
    }
   ],
   "source": [
    "data.describe()"
   ]
  },
  {
   "cell_type": "code",
   "execution_count": 48,
   "metadata": {},
   "outputs": [
    {
     "data": {
      "application/vnd.plotly.v1+json": {
       "config": {
        "plotlyServerURL": "https://plot.ly"
       },
       "data": [
        {
         "geo": "geo",
         "hovertemplate": "Total Cases=%{marker.color}<br>Country=%{location}<extra></extra>",
         "legendgroup": "",
         "locationmode": "country names",
         "locations": [
          "USA",
          "India",
          "France",
          "Germany",
          "Brazil",
          "Japan",
          "S. Korea",
          "Italy",
          "UK",
          "Russia",
          "Spain",
          "Vietnam",
          "Australia",
          "Argentina",
          "Taiwan",
          "Netherlands",
          "Iran",
          "Mexico",
          "Indonesia",
          "Poland",
          "Colombia",
          "Austria",
          "Greece",
          "Portugal",
          "Ukraine",
          "Chile",
          "Malaysia",
          "Israel",
          "Thailand",
          "Belgium",
          "Czechia",
          "Canada",
          "Peru",
          "Switzerland",
          "Philippines",
          "South Africa",
          "Romania",
          "Denmark",
          "Hong Kong",
          "Sweden",
          "Serbia",
          "Iraq",
          "Singapore",
          "Hungary",
          "New Zealand",
          "Bangladesh",
          "Slovakia",
          "Georgia",
          "Jordan",
          "Ireland",
          "Pakistan",
          "Norway",
          "Finland",
          "Kazakhstan",
          "Slovenia",
          "Lithuania",
          "Bulgaria",
          "Morocco",
          "Croatia",
          "Lebanon",
          "Guatemala",
          "Bolivia",
          "Costa Rica",
          "Cuba",
          "Ecuador",
          "UAE",
          "Uruguay",
          "Panama",
          "Mongolia",
          "Nepal",
          "Belarus",
          "Latvia",
          "Saudi Arabia",
          "Azerbaijan",
          "Bahrain",
          "Sri Lanka",
          "Kuwait",
          "Dominican Republic",
          "Cyprus",
          "Myanmar",
          "Palestine",
          "Estonia",
          "Moldova",
          "Venezuela",
          "Egypt",
          "Libya",
          "Ethiopia",
          "Qatar",
          "RÃ©union",
          "Armenia",
          "Bosnia and Herzegovina",
          "Oman",
          "North Macedonia",
          "Kenya",
          "Zambia",
          "Albania",
          "Botswana",
          "Luxembourg",
          "Montenegro",
          "Brunei",
          "Algeria",
          "Nigeria",
          "Zimbabwe",
          "Uzbekistan",
          "Mozambique",
          "Afghanistan",
          "Kyrgyzstan",
          "El Salvador",
          "Trinidad and Tobago",
          "Maldives",
          "Ghana",
          "Namibia",
          "Uganda",
          "Jamaica",
          "Cambodia",
          "Rwanda",
          "Cameroon",
          "Malta",
          "Barbados",
          "Angola",
          "Channel Islands",
          "French Guiana",
          "DRC",
          "Senegal",
          "Malawi",
          "Ivory Coast",
          "New Caledonia",
          "Eswatini",
          "Guyana",
          "Belize",
          "Fiji",
          "Madagascar",
          "Sudan",
          "Mauritania",
          "Cabo Verde",
          "Bhutan",
          "Syria",
          "Burundi",
          "Gabon",
          "Andorra",
          "Papua New Guinea",
          "CuraÃ§ao",
          "Aruba",
          "Mauritius",
          "Togo",
          "Guinea",
          "Bahamas",
          "Lesotho",
          "Haiti",
          "Mali",
          "Cayman Islands",
          "Saint Lucia",
          "Benin",
          "Somalia",
          "Congo",
          "San Marino",
          "Timor-Leste",
          "Burkina Faso",
          "Liechtenstein",
          "Gibraltar",
          "Grenada",
          "Bermuda",
          "South Sudan",
          "Equatorial Guinea",
          "Tonga",
          "Samoa",
          "Monaco",
          "Dominica",
          "Djibouti",
          "CAR",
          "Gambia",
          "Saint Martin",
          "Vanuatu",
          "Greenland",
          "Yemen",
          "Caribbean Netherlands",
          "Sint Maarten",
          "Eritrea",
          "Niger",
          "St. Vincent Grenadines",
          "Antigua and Barbuda",
          "Guinea-Bissau",
          "Liberia",
          "Chad",
          "Cook Islands",
          "Saint Kitts and Nevis",
          "Turks and Caicos",
          "Sao Tome and Principe",
          "Palau",
          "Nauru",
          "Anguilla",
          "Macao",
          "Saint Pierre Miquelon",
          "Wallis and Futuna",
          "Montserrat"
         ],
         "marker": {
          "color": [
           104196861,
           44682784,
           39524311,
           37779833,
           36824580,
           32588442,
           30197066,
           25453789,
           24274361,
           21958696,
           13731478,
           11526508,
           11295446,
           10037135,
           9569611,
           8582500,
           7564350,
           7368252,
           6730289,
           6380225,
           6356309,
           5780229,
           5708301,
           5563907,
           5370131,
           5118981,
           5036593,
           4786189,
           4726984,
           4691499,
           4590019,
           4550256,
           4481621,
           4385701,
           4073454,
           4055966,
           3325006,
           3173247,
           2877280,
           2693458,
           2471198,
           2465545,
           2217110,
           2192447,
           2182355,
           2037556,
           1860893,
           1814180,
           1746997,
           1700253,
           1576313,
           1477856,
           1458619,
           1405917,
           1321852,
           1296865,
           1295426,
           1272240,
           1267580,
           1228639,
           1227853,
           1187986,
           1186176,
           1112438,
           1051239,
           1049409,
           1032710,
           1029701,
           1007871,
           1001102,
           994037,
           975355,
           827962,
           827944,
           700452,
           671989,
           662858,
           660095,
           642663,
           633820,
           621008,
           613891,
           598673,
           551587,
           515645,
           507162,
           499531,
           492534,
           485895,
           446008,
           401384,
           399449,
           346428,
           342810,
           340763,
           334167,
           329227,
           297757,
           286355,
           275220,
           271378,
           266463,
           261606,
           250567,
           231994,
           208545,
           206592,
           201785,
           187908,
           185715,
           171112,
           170741,
           170400,
           153407,
           138693,
           133090,
           123993,
           117062,
           106157,
           105184,
           101116,
           98028,
           95514,
           88902,
           88559,
           87982,
           79845,
           74133,
           72950,
           70660,
           68820,
           67827,
           63742,
           63665,
           63229,
           62605,
           57453,
           53492,
           48981,
           47839,
           46750,
           45986,
           43993,
           41652,
           39354,
           38240,
           37491,
           34790,
           34076,
           32783,
           31472,
           29803,
           27989,
           27318,
           25375,
           23427,
           23415,
           22025,
           21340,
           20399,
           19680,
           18766,
           18368,
           17190,
           16734,
           16087,
           16056,
           15760,
           15690,
           15368,
           12586,
           12233,
           12014,
           11971,
           11945,
           11661,
           11010,
           10189,
           9931,
           9585,
           9106,
           8947,
           8062,
           7652,
           7011,
           6592,
           6522,
           6280,
           5986,
           4621,
           3904,
           3488,
           3452,
           3427,
           1403
          ],
          "coloraxis": "coloraxis",
          "size": [
           104196861,
           44682784,
           39524311,
           37779833,
           36824580,
           32588442,
           30197066,
           25453789,
           24274361,
           21958696,
           13731478,
           11526508,
           11295446,
           10037135,
           9569611,
           8582500,
           7564350,
           7368252,
           6730289,
           6380225,
           6356309,
           5780229,
           5708301,
           5563907,
           5370131,
           5118981,
           5036593,
           4786189,
           4726984,
           4691499,
           4590019,
           4550256,
           4481621,
           4385701,
           4073454,
           4055966,
           3325006,
           3173247,
           2877280,
           2693458,
           2471198,
           2465545,
           2217110,
           2192447,
           2182355,
           2037556,
           1860893,
           1814180,
           1746997,
           1700253,
           1576313,
           1477856,
           1458619,
           1405917,
           1321852,
           1296865,
           1295426,
           1272240,
           1267580,
           1228639,
           1227853,
           1187986,
           1186176,
           1112438,
           1051239,
           1049409,
           1032710,
           1029701,
           1007871,
           1001102,
           994037,
           975355,
           827962,
           827944,
           700452,
           671989,
           662858,
           660095,
           642663,
           633820,
           621008,
           613891,
           598673,
           551587,
           515645,
           507162,
           499531,
           492534,
           485895,
           446008,
           401384,
           399449,
           346428,
           342810,
           340763,
           334167,
           329227,
           297757,
           286355,
           275220,
           271378,
           266463,
           261606,
           250567,
           231994,
           208545,
           206592,
           201785,
           187908,
           185715,
           171112,
           170741,
           170400,
           153407,
           138693,
           133090,
           123993,
           117062,
           106157,
           105184,
           101116,
           98028,
           95514,
           88902,
           88559,
           87982,
           79845,
           74133,
           72950,
           70660,
           68820,
           67827,
           63742,
           63665,
           63229,
           62605,
           57453,
           53492,
           48981,
           47839,
           46750,
           45986,
           43993,
           41652,
           39354,
           38240,
           37491,
           34790,
           34076,
           32783,
           31472,
           29803,
           27989,
           27318,
           25375,
           23427,
           23415,
           22025,
           21340,
           20399,
           19680,
           18766,
           18368,
           17190,
           16734,
           16087,
           16056,
           15760,
           15690,
           15368,
           12586,
           12233,
           12014,
           11971,
           11945,
           11661,
           11010,
           10189,
           9931,
           9585,
           9106,
           8947,
           8062,
           7652,
           7011,
           6592,
           6522,
           6280,
           5986,
           4621,
           3904,
           3488,
           3452,
           3427,
           1403
          ],
          "sizemode": "area",
          "sizeref": 166714.9776,
          "symbol": "circle"
         },
         "mode": "markers",
         "name": "",
         "showlegend": false,
         "type": "scattergeo"
        }
       ],
       "layout": {
        "coloraxis": {
         "colorbar": {
          "title": {
           "text": "Total Cases"
          }
         },
         "colorscale": [
          [
           0,
           "rgb(252, 222, 156)"
          ],
          [
           0.16666666666666666,
           "rgb(250, 164, 118)"
          ],
          [
           0.3333333333333333,
           "rgb(240, 116, 110)"
          ],
          [
           0.5,
           "rgb(227, 79, 111)"
          ],
          [
           0.6666666666666666,
           "rgb(220, 57, 119)"
          ],
          [
           0.8333333333333334,
           "rgb(185, 37, 122)"
          ],
          [
           1,
           "rgb(124, 29, 111)"
          ]
         ]
        },
        "geo": {
         "center": {},
         "domain": {
          "x": [
           0,
           1
          ],
          "y": [
           0,
           1
          ]
         },
         "scope": "world"
        },
        "legend": {
         "itemsizing": "constant",
         "tracegroupgap": 0
        },
        "template": {
         "data": {
          "bar": [
           {
            "error_x": {
             "color": "rgb(36,36,36)"
            },
            "error_y": {
             "color": "rgb(36,36,36)"
            },
            "marker": {
             "line": {
              "color": "rgb(234,234,242)",
              "width": 0.5
             },
             "pattern": {
              "fillmode": "overlay",
              "size": 10,
              "solidity": 0.2
             }
            },
            "type": "bar"
           }
          ],
          "barpolar": [
           {
            "marker": {
             "line": {
              "color": "rgb(234,234,242)",
              "width": 0.5
             },
             "pattern": {
              "fillmode": "overlay",
              "size": 10,
              "solidity": 0.2
             }
            },
            "type": "barpolar"
           }
          ],
          "carpet": [
           {
            "aaxis": {
             "endlinecolor": "rgb(36,36,36)",
             "gridcolor": "white",
             "linecolor": "white",
             "minorgridcolor": "white",
             "startlinecolor": "rgb(36,36,36)"
            },
            "baxis": {
             "endlinecolor": "rgb(36,36,36)",
             "gridcolor": "white",
             "linecolor": "white",
             "minorgridcolor": "white",
             "startlinecolor": "rgb(36,36,36)"
            },
            "type": "carpet"
           }
          ],
          "choropleth": [
           {
            "colorbar": {
             "outlinewidth": 0,
             "tickcolor": "rgb(36,36,36)",
             "ticklen": 8,
             "ticks": "outside",
             "tickwidth": 2
            },
            "type": "choropleth"
           }
          ],
          "contour": [
           {
            "colorbar": {
             "outlinewidth": 0,
             "tickcolor": "rgb(36,36,36)",
             "ticklen": 8,
             "ticks": "outside",
             "tickwidth": 2
            },
            "colorscale": [
             [
              0,
              "rgb(2,4,25)"
             ],
             [
              0.06274509803921569,
              "rgb(24,15,41)"
             ],
             [
              0.12549019607843137,
              "rgb(47,23,57)"
             ],
             [
              0.18823529411764706,
              "rgb(71,28,72)"
             ],
             [
              0.25098039215686274,
              "rgb(97,30,82)"
             ],
             [
              0.3137254901960784,
              "rgb(123,30,89)"
             ],
             [
              0.3764705882352941,
              "rgb(150,27,91)"
             ],
             [
              0.4392156862745098,
              "rgb(177,22,88)"
             ],
             [
              0.5019607843137255,
              "rgb(203,26,79)"
             ],
             [
              0.5647058823529412,
              "rgb(223,47,67)"
             ],
             [
              0.6274509803921569,
              "rgb(236,76,61)"
             ],
             [
              0.6901960784313725,
              "rgb(242,107,73)"
             ],
             [
              0.7529411764705882,
              "rgb(244,135,95)"
             ],
             [
              0.8156862745098039,
              "rgb(245,162,122)"
             ],
             [
              0.8784313725490196,
              "rgb(246,188,153)"
             ],
             [
              0.9411764705882353,
              "rgb(247,212,187)"
             ],
             [
              1,
              "rgb(250,234,220)"
             ]
            ],
            "type": "contour"
           }
          ],
          "contourcarpet": [
           {
            "colorbar": {
             "outlinewidth": 0,
             "tickcolor": "rgb(36,36,36)",
             "ticklen": 8,
             "ticks": "outside",
             "tickwidth": 2
            },
            "type": "contourcarpet"
           }
          ],
          "heatmap": [
           {
            "colorbar": {
             "outlinewidth": 0,
             "tickcolor": "rgb(36,36,36)",
             "ticklen": 8,
             "ticks": "outside",
             "tickwidth": 2
            },
            "colorscale": [
             [
              0,
              "rgb(2,4,25)"
             ],
             [
              0.06274509803921569,
              "rgb(24,15,41)"
             ],
             [
              0.12549019607843137,
              "rgb(47,23,57)"
             ],
             [
              0.18823529411764706,
              "rgb(71,28,72)"
             ],
             [
              0.25098039215686274,
              "rgb(97,30,82)"
             ],
             [
              0.3137254901960784,
              "rgb(123,30,89)"
             ],
             [
              0.3764705882352941,
              "rgb(150,27,91)"
             ],
             [
              0.4392156862745098,
              "rgb(177,22,88)"
             ],
             [
              0.5019607843137255,
              "rgb(203,26,79)"
             ],
             [
              0.5647058823529412,
              "rgb(223,47,67)"
             ],
             [
              0.6274509803921569,
              "rgb(236,76,61)"
             ],
             [
              0.6901960784313725,
              "rgb(242,107,73)"
             ],
             [
              0.7529411764705882,
              "rgb(244,135,95)"
             ],
             [
              0.8156862745098039,
              "rgb(245,162,122)"
             ],
             [
              0.8784313725490196,
              "rgb(246,188,153)"
             ],
             [
              0.9411764705882353,
              "rgb(247,212,187)"
             ],
             [
              1,
              "rgb(250,234,220)"
             ]
            ],
            "type": "heatmap"
           }
          ],
          "heatmapgl": [
           {
            "colorbar": {
             "outlinewidth": 0,
             "tickcolor": "rgb(36,36,36)",
             "ticklen": 8,
             "ticks": "outside",
             "tickwidth": 2
            },
            "colorscale": [
             [
              0,
              "rgb(2,4,25)"
             ],
             [
              0.06274509803921569,
              "rgb(24,15,41)"
             ],
             [
              0.12549019607843137,
              "rgb(47,23,57)"
             ],
             [
              0.18823529411764706,
              "rgb(71,28,72)"
             ],
             [
              0.25098039215686274,
              "rgb(97,30,82)"
             ],
             [
              0.3137254901960784,
              "rgb(123,30,89)"
             ],
             [
              0.3764705882352941,
              "rgb(150,27,91)"
             ],
             [
              0.4392156862745098,
              "rgb(177,22,88)"
             ],
             [
              0.5019607843137255,
              "rgb(203,26,79)"
             ],
             [
              0.5647058823529412,
              "rgb(223,47,67)"
             ],
             [
              0.6274509803921569,
              "rgb(236,76,61)"
             ],
             [
              0.6901960784313725,
              "rgb(242,107,73)"
             ],
             [
              0.7529411764705882,
              "rgb(244,135,95)"
             ],
             [
              0.8156862745098039,
              "rgb(245,162,122)"
             ],
             [
              0.8784313725490196,
              "rgb(246,188,153)"
             ],
             [
              0.9411764705882353,
              "rgb(247,212,187)"
             ],
             [
              1,
              "rgb(250,234,220)"
             ]
            ],
            "type": "heatmapgl"
           }
          ],
          "histogram": [
           {
            "marker": {
             "pattern": {
              "fillmode": "overlay",
              "size": 10,
              "solidity": 0.2
             }
            },
            "type": "histogram"
           }
          ],
          "histogram2d": [
           {
            "colorbar": {
             "outlinewidth": 0,
             "tickcolor": "rgb(36,36,36)",
             "ticklen": 8,
             "ticks": "outside",
             "tickwidth": 2
            },
            "colorscale": [
             [
              0,
              "rgb(2,4,25)"
             ],
             [
              0.06274509803921569,
              "rgb(24,15,41)"
             ],
             [
              0.12549019607843137,
              "rgb(47,23,57)"
             ],
             [
              0.18823529411764706,
              "rgb(71,28,72)"
             ],
             [
              0.25098039215686274,
              "rgb(97,30,82)"
             ],
             [
              0.3137254901960784,
              "rgb(123,30,89)"
             ],
             [
              0.3764705882352941,
              "rgb(150,27,91)"
             ],
             [
              0.4392156862745098,
              "rgb(177,22,88)"
             ],
             [
              0.5019607843137255,
              "rgb(203,26,79)"
             ],
             [
              0.5647058823529412,
              "rgb(223,47,67)"
             ],
             [
              0.6274509803921569,
              "rgb(236,76,61)"
             ],
             [
              0.6901960784313725,
              "rgb(242,107,73)"
             ],
             [
              0.7529411764705882,
              "rgb(244,135,95)"
             ],
             [
              0.8156862745098039,
              "rgb(245,162,122)"
             ],
             [
              0.8784313725490196,
              "rgb(246,188,153)"
             ],
             [
              0.9411764705882353,
              "rgb(247,212,187)"
             ],
             [
              1,
              "rgb(250,234,220)"
             ]
            ],
            "type": "histogram2d"
           }
          ],
          "histogram2dcontour": [
           {
            "colorbar": {
             "outlinewidth": 0,
             "tickcolor": "rgb(36,36,36)",
             "ticklen": 8,
             "ticks": "outside",
             "tickwidth": 2
            },
            "colorscale": [
             [
              0,
              "rgb(2,4,25)"
             ],
             [
              0.06274509803921569,
              "rgb(24,15,41)"
             ],
             [
              0.12549019607843137,
              "rgb(47,23,57)"
             ],
             [
              0.18823529411764706,
              "rgb(71,28,72)"
             ],
             [
              0.25098039215686274,
              "rgb(97,30,82)"
             ],
             [
              0.3137254901960784,
              "rgb(123,30,89)"
             ],
             [
              0.3764705882352941,
              "rgb(150,27,91)"
             ],
             [
              0.4392156862745098,
              "rgb(177,22,88)"
             ],
             [
              0.5019607843137255,
              "rgb(203,26,79)"
             ],
             [
              0.5647058823529412,
              "rgb(223,47,67)"
             ],
             [
              0.6274509803921569,
              "rgb(236,76,61)"
             ],
             [
              0.6901960784313725,
              "rgb(242,107,73)"
             ],
             [
              0.7529411764705882,
              "rgb(244,135,95)"
             ],
             [
              0.8156862745098039,
              "rgb(245,162,122)"
             ],
             [
              0.8784313725490196,
              "rgb(246,188,153)"
             ],
             [
              0.9411764705882353,
              "rgb(247,212,187)"
             ],
             [
              1,
              "rgb(250,234,220)"
             ]
            ],
            "type": "histogram2dcontour"
           }
          ],
          "mesh3d": [
           {
            "colorbar": {
             "outlinewidth": 0,
             "tickcolor": "rgb(36,36,36)",
             "ticklen": 8,
             "ticks": "outside",
             "tickwidth": 2
            },
            "type": "mesh3d"
           }
          ],
          "parcoords": [
           {
            "line": {
             "colorbar": {
              "outlinewidth": 0,
              "tickcolor": "rgb(36,36,36)",
              "ticklen": 8,
              "ticks": "outside",
              "tickwidth": 2
             }
            },
            "type": "parcoords"
           }
          ],
          "pie": [
           {
            "automargin": true,
            "type": "pie"
           }
          ],
          "scatter": [
           {
            "fillpattern": {
             "fillmode": "overlay",
             "size": 10,
             "solidity": 0.2
            },
            "type": "scatter"
           }
          ],
          "scatter3d": [
           {
            "line": {
             "colorbar": {
              "outlinewidth": 0,
              "tickcolor": "rgb(36,36,36)",
              "ticklen": 8,
              "ticks": "outside",
              "tickwidth": 2
             }
            },
            "marker": {
             "colorbar": {
              "outlinewidth": 0,
              "tickcolor": "rgb(36,36,36)",
              "ticklen": 8,
              "ticks": "outside",
              "tickwidth": 2
             }
            },
            "type": "scatter3d"
           }
          ],
          "scattercarpet": [
           {
            "marker": {
             "colorbar": {
              "outlinewidth": 0,
              "tickcolor": "rgb(36,36,36)",
              "ticklen": 8,
              "ticks": "outside",
              "tickwidth": 2
             }
            },
            "type": "scattercarpet"
           }
          ],
          "scattergeo": [
           {
            "marker": {
             "colorbar": {
              "outlinewidth": 0,
              "tickcolor": "rgb(36,36,36)",
              "ticklen": 8,
              "ticks": "outside",
              "tickwidth": 2
             }
            },
            "type": "scattergeo"
           }
          ],
          "scattergl": [
           {
            "marker": {
             "colorbar": {
              "outlinewidth": 0,
              "tickcolor": "rgb(36,36,36)",
              "ticklen": 8,
              "ticks": "outside",
              "tickwidth": 2
             }
            },
            "type": "scattergl"
           }
          ],
          "scattermapbox": [
           {
            "marker": {
             "colorbar": {
              "outlinewidth": 0,
              "tickcolor": "rgb(36,36,36)",
              "ticklen": 8,
              "ticks": "outside",
              "tickwidth": 2
             }
            },
            "type": "scattermapbox"
           }
          ],
          "scatterpolar": [
           {
            "marker": {
             "colorbar": {
              "outlinewidth": 0,
              "tickcolor": "rgb(36,36,36)",
              "ticklen": 8,
              "ticks": "outside",
              "tickwidth": 2
             }
            },
            "type": "scatterpolar"
           }
          ],
          "scatterpolargl": [
           {
            "marker": {
             "colorbar": {
              "outlinewidth": 0,
              "tickcolor": "rgb(36,36,36)",
              "ticklen": 8,
              "ticks": "outside",
              "tickwidth": 2
             }
            },
            "type": "scatterpolargl"
           }
          ],
          "scatterternary": [
           {
            "marker": {
             "colorbar": {
              "outlinewidth": 0,
              "tickcolor": "rgb(36,36,36)",
              "ticklen": 8,
              "ticks": "outside",
              "tickwidth": 2
             }
            },
            "type": "scatterternary"
           }
          ],
          "surface": [
           {
            "colorbar": {
             "outlinewidth": 0,
             "tickcolor": "rgb(36,36,36)",
             "ticklen": 8,
             "ticks": "outside",
             "tickwidth": 2
            },
            "colorscale": [
             [
              0,
              "rgb(2,4,25)"
             ],
             [
              0.06274509803921569,
              "rgb(24,15,41)"
             ],
             [
              0.12549019607843137,
              "rgb(47,23,57)"
             ],
             [
              0.18823529411764706,
              "rgb(71,28,72)"
             ],
             [
              0.25098039215686274,
              "rgb(97,30,82)"
             ],
             [
              0.3137254901960784,
              "rgb(123,30,89)"
             ],
             [
              0.3764705882352941,
              "rgb(150,27,91)"
             ],
             [
              0.4392156862745098,
              "rgb(177,22,88)"
             ],
             [
              0.5019607843137255,
              "rgb(203,26,79)"
             ],
             [
              0.5647058823529412,
              "rgb(223,47,67)"
             ],
             [
              0.6274509803921569,
              "rgb(236,76,61)"
             ],
             [
              0.6901960784313725,
              "rgb(242,107,73)"
             ],
             [
              0.7529411764705882,
              "rgb(244,135,95)"
             ],
             [
              0.8156862745098039,
              "rgb(245,162,122)"
             ],
             [
              0.8784313725490196,
              "rgb(246,188,153)"
             ],
             [
              0.9411764705882353,
              "rgb(247,212,187)"
             ],
             [
              1,
              "rgb(250,234,220)"
             ]
            ],
            "type": "surface"
           }
          ],
          "table": [
           {
            "cells": {
             "fill": {
              "color": "rgb(231,231,240)"
             },
             "line": {
              "color": "white"
             }
            },
            "header": {
             "fill": {
              "color": "rgb(183,183,191)"
             },
             "line": {
              "color": "white"
             }
            },
            "type": "table"
           }
          ]
         },
         "layout": {
          "annotationdefaults": {
           "arrowcolor": "rgb(67,103,167)"
          },
          "autotypenumbers": "strict",
          "coloraxis": {
           "colorbar": {
            "outlinewidth": 0,
            "tickcolor": "rgb(36,36,36)",
            "ticklen": 8,
            "ticks": "outside",
            "tickwidth": 2
           }
          },
          "colorscale": {
           "sequential": [
            [
             0,
             "rgb(2,4,25)"
            ],
            [
             0.06274509803921569,
             "rgb(24,15,41)"
            ],
            [
             0.12549019607843137,
             "rgb(47,23,57)"
            ],
            [
             0.18823529411764706,
             "rgb(71,28,72)"
            ],
            [
             0.25098039215686274,
             "rgb(97,30,82)"
            ],
            [
             0.3137254901960784,
             "rgb(123,30,89)"
            ],
            [
             0.3764705882352941,
             "rgb(150,27,91)"
            ],
            [
             0.4392156862745098,
             "rgb(177,22,88)"
            ],
            [
             0.5019607843137255,
             "rgb(203,26,79)"
            ],
            [
             0.5647058823529412,
             "rgb(223,47,67)"
            ],
            [
             0.6274509803921569,
             "rgb(236,76,61)"
            ],
            [
             0.6901960784313725,
             "rgb(242,107,73)"
            ],
            [
             0.7529411764705882,
             "rgb(244,135,95)"
            ],
            [
             0.8156862745098039,
             "rgb(245,162,122)"
            ],
            [
             0.8784313725490196,
             "rgb(246,188,153)"
            ],
            [
             0.9411764705882353,
             "rgb(247,212,187)"
            ],
            [
             1,
             "rgb(250,234,220)"
            ]
           ],
           "sequentialminus": [
            [
             0,
             "rgb(2,4,25)"
            ],
            [
             0.06274509803921569,
             "rgb(24,15,41)"
            ],
            [
             0.12549019607843137,
             "rgb(47,23,57)"
            ],
            [
             0.18823529411764706,
             "rgb(71,28,72)"
            ],
            [
             0.25098039215686274,
             "rgb(97,30,82)"
            ],
            [
             0.3137254901960784,
             "rgb(123,30,89)"
            ],
            [
             0.3764705882352941,
             "rgb(150,27,91)"
            ],
            [
             0.4392156862745098,
             "rgb(177,22,88)"
            ],
            [
             0.5019607843137255,
             "rgb(203,26,79)"
            ],
            [
             0.5647058823529412,
             "rgb(223,47,67)"
            ],
            [
             0.6274509803921569,
             "rgb(236,76,61)"
            ],
            [
             0.6901960784313725,
             "rgb(242,107,73)"
            ],
            [
             0.7529411764705882,
             "rgb(244,135,95)"
            ],
            [
             0.8156862745098039,
             "rgb(245,162,122)"
            ],
            [
             0.8784313725490196,
             "rgb(246,188,153)"
            ],
            [
             0.9411764705882353,
             "rgb(247,212,187)"
            ],
            [
             1,
             "rgb(250,234,220)"
            ]
           ]
          },
          "colorway": [
           "rgb(76,114,176)",
           "rgb(221,132,82)",
           "rgb(85,168,104)",
           "rgb(196,78,82)",
           "rgb(129,114,179)",
           "rgb(147,120,96)",
           "rgb(218,139,195)",
           "rgb(140,140,140)",
           "rgb(204,185,116)",
           "rgb(100,181,205)"
          ],
          "font": {
           "color": "rgb(36,36,36)"
          },
          "geo": {
           "bgcolor": "white",
           "lakecolor": "white",
           "landcolor": "rgb(234,234,242)",
           "showlakes": true,
           "showland": true,
           "subunitcolor": "white"
          },
          "hoverlabel": {
           "align": "left"
          },
          "hovermode": "closest",
          "paper_bgcolor": "white",
          "plot_bgcolor": "rgb(234,234,242)",
          "polar": {
           "angularaxis": {
            "gridcolor": "white",
            "linecolor": "white",
            "showgrid": true,
            "ticks": ""
           },
           "bgcolor": "rgb(234,234,242)",
           "radialaxis": {
            "gridcolor": "white",
            "linecolor": "white",
            "showgrid": true,
            "ticks": ""
           }
          },
          "scene": {
           "xaxis": {
            "backgroundcolor": "rgb(234,234,242)",
            "gridcolor": "white",
            "gridwidth": 2,
            "linecolor": "white",
            "showbackground": true,
            "showgrid": true,
            "ticks": "",
            "zerolinecolor": "white"
           },
           "yaxis": {
            "backgroundcolor": "rgb(234,234,242)",
            "gridcolor": "white",
            "gridwidth": 2,
            "linecolor": "white",
            "showbackground": true,
            "showgrid": true,
            "ticks": "",
            "zerolinecolor": "white"
           },
           "zaxis": {
            "backgroundcolor": "rgb(234,234,242)",
            "gridcolor": "white",
            "gridwidth": 2,
            "linecolor": "white",
            "showbackground": true,
            "showgrid": true,
            "ticks": "",
            "zerolinecolor": "white"
           }
          },
          "shapedefaults": {
           "fillcolor": "rgb(67,103,167)",
           "line": {
            "width": 0
           },
           "opacity": 0.5
          },
          "ternary": {
           "aaxis": {
            "gridcolor": "white",
            "linecolor": "white",
            "showgrid": true,
            "ticks": ""
           },
           "baxis": {
            "gridcolor": "white",
            "linecolor": "white",
            "showgrid": true,
            "ticks": ""
           },
           "bgcolor": "rgb(234,234,242)",
           "caxis": {
            "gridcolor": "white",
            "linecolor": "white",
            "showgrid": true,
            "ticks": ""
           }
          },
          "xaxis": {
           "automargin": true,
           "gridcolor": "white",
           "linecolor": "white",
           "showgrid": true,
           "ticks": "",
           "title": {
            "standoff": 15
           },
           "zerolinecolor": "white"
          },
          "yaxis": {
           "automargin": true,
           "gridcolor": "white",
           "linecolor": "white",
           "showgrid": true,
           "ticks": "",
           "title": {
            "standoff": 15
           },
           "zerolinecolor": "white"
          }
         }
        },
        "title": {
         "text": "Covid-19: Total Cases Around the Globe"
        }
       }
      }
     },
     "metadata": {},
     "output_type": "display_data"
    }
   ],
   "source": [
    "fig = px.scatter_geo(data, locations='Country',locationmode=\"country names\",scope=\"world\",color=\"Total Cases\",size=\"Total Cases\",size_max=25,title=\"Covid-19: Total Cases Around the Globe\",template='seaborn',color_continuous_scale=\"sunsetdark\")\n",
    "fig.show()"
   ]
  },
  {
   "cell_type": "code",
   "execution_count": 50,
   "metadata": {},
   "outputs": [
    {
     "data": {
      "application/vnd.plotly.v1+json": {
       "config": {
        "plotlyServerURL": "https://plot.ly"
       },
       "data": [
        {
         "geo": "geo",
         "hovertemplate": "Total Deaths=%{marker.color}<br>Country=%{location}<extra></extra>",
         "legendgroup": "",
         "locationmode": "country names",
         "locations": [
          "USA",
          "India",
          "France",
          "Germany",
          "Brazil",
          "Japan",
          "S. Korea",
          "Italy",
          "UK",
          "Russia",
          "Spain",
          "Vietnam",
          "Australia",
          "Argentina",
          "Taiwan",
          "Netherlands",
          "Iran",
          "Mexico",
          "Indonesia",
          "Poland",
          "Colombia",
          "Austria",
          "Greece",
          "Portugal",
          "Ukraine",
          "Chile",
          "Malaysia",
          "Israel",
          "Thailand",
          "Belgium",
          "Czechia",
          "Canada",
          "Peru",
          "Switzerland",
          "Philippines",
          "South Africa",
          "Romania",
          "Denmark",
          "Hong Kong",
          "Sweden",
          "Serbia",
          "Iraq",
          "Singapore",
          "Hungary",
          "New Zealand",
          "Bangladesh",
          "Slovakia",
          "Georgia",
          "Jordan",
          "Ireland",
          "Pakistan",
          "Norway",
          "Finland",
          "Kazakhstan",
          "Slovenia",
          "Lithuania",
          "Bulgaria",
          "Morocco",
          "Croatia",
          "Lebanon",
          "Guatemala",
          "Bolivia",
          "Costa Rica",
          "Cuba",
          "Ecuador",
          "UAE",
          "Uruguay",
          "Panama",
          "Mongolia",
          "Nepal",
          "Belarus",
          "Latvia",
          "Saudi Arabia",
          "Azerbaijan",
          "Bahrain",
          "Sri Lanka",
          "Kuwait",
          "Dominican Republic",
          "Cyprus",
          "Myanmar",
          "Palestine",
          "Estonia",
          "Moldova",
          "Venezuela",
          "Egypt",
          "Libya",
          "Ethiopia",
          "Qatar",
          "RÃ©union",
          "Armenia",
          "Bosnia and Herzegovina",
          "Oman",
          "North Macedonia",
          "Kenya",
          "Zambia",
          "Albania",
          "Botswana",
          "Luxembourg",
          "Montenegro",
          "Brunei",
          "Algeria",
          "Nigeria",
          "Zimbabwe",
          "Uzbekistan",
          "Mozambique",
          "Afghanistan",
          "Kyrgyzstan",
          "El Salvador",
          "Trinidad and Tobago",
          "Maldives",
          "Ghana",
          "Namibia",
          "Uganda",
          "Jamaica",
          "Cambodia",
          "Rwanda",
          "Cameroon",
          "Malta",
          "Barbados",
          "Angola",
          "Channel Islands",
          "French Guiana",
          "DRC",
          "Senegal",
          "Malawi",
          "Ivory Coast",
          "New Caledonia",
          "Eswatini",
          "Guyana",
          "Belize",
          "Fiji",
          "Madagascar",
          "Sudan",
          "Mauritania",
          "Cabo Verde",
          "Bhutan",
          "Syria",
          "Burundi",
          "Gabon",
          "Andorra",
          "Papua New Guinea",
          "CuraÃ§ao",
          "Aruba",
          "Mauritius",
          "Togo",
          "Guinea",
          "Bahamas",
          "Lesotho",
          "Haiti",
          "Mali",
          "Cayman Islands",
          "Saint Lucia",
          "Benin",
          "Somalia",
          "Congo",
          "San Marino",
          "Timor-Leste",
          "Burkina Faso",
          "Liechtenstein",
          "Gibraltar",
          "Grenada",
          "Bermuda",
          "South Sudan",
          "Equatorial Guinea",
          "Tonga",
          "Samoa",
          "Monaco",
          "Dominica",
          "Djibouti",
          "CAR",
          "Gambia",
          "Saint Martin",
          "Vanuatu",
          "Greenland",
          "Yemen",
          "Caribbean Netherlands",
          "Sint Maarten",
          "Eritrea",
          "Niger",
          "St. Vincent Grenadines",
          "Antigua and Barbuda",
          "Guinea-Bissau",
          "Liberia",
          "Chad",
          "Cook Islands",
          "Saint Kitts and Nevis",
          "Turks and Caicos",
          "Sao Tome and Principe",
          "Palau",
          "Nauru",
          "Anguilla",
          "Macao",
          "Saint Pierre Miquelon",
          "Wallis and Futuna",
          "Montserrat"
         ],
         "marker": {
          "color": [
           1132935,
           530740,
           164233,
           165711,
           697074,
           68399,
           33486,
           186833,
           204171,
           395108,
           118434,
           43186,
           18615,
           130421,
           16356,
           22989,
           144749,
           332198,
           160817,
           118736,
           142486,
           21689,
           35630,
           26022,
           111020,
           63812,
           36942,
           12193,
           33865,
           33557,
           42312,
           50380,
           218931,
           14452,
           65802,
           102595,
           67576,
           8145,
           13358,
           23246,
           17701,
           25375,
           1722,
           48677,
           3781,
           29442,
           20946,
           16926,
           14122,
           8462,
           30640,
           5112,
           8639,
           13695,
           7056,
           9545,
           38179,
           16296,
           17877,
           10790,
           20106,
           22346,
           9158,
           8530,
           35942,
           2348,
           7609,
           8596,
           2179,
           12020,
           7118,
           6218,
           9574,
           10085,
           1543,
           16828,
           2570,
           4384,
           1287,
           19490,
           5404,
           2912,
           11953,
           5845,
           24613,
           6437,
           7572,
           686,
           919,
           8717,
           16255,
           4628,
           9638,
           5688,
           4047,
           3595,
           2800,
           1133,
           2797,
           225,
           6881,
           3155,
           5652,
           1637,
           2233,
           7882,
           2991,
           4230,
           4326,
           311,
           1462,
           4088,
           3630,
           3480,
           3056,
           1468,
           1965,
           824,
           571,
           1931,
           223,
           420,
           1463,
           1971,
           2686,
           833,
           314,
           1422,
           1294,
           688,
           883,
           1419,
           5001,
           997,
           413,
           21,
           3164,
           38,
           306,
           165,
           670,
           295,
           236,
           1043,
           290,
           467,
           833,
           723,
           860,
           743,
           37,
           409,
           163,
           1361,
           386,
           122,
           138,
           396,
           89,
           111,
           238,
           157,
           138,
           183,
           13,
           29,
           65,
           74,
           189,
           113,
           372,
           63,
           14,
           21,
           2159,
           38,
           89,
           103,
           312,
           123,
           146,
           176,
           294,
           194,
           2,
           46,
           38,
           77,
           9,
           1,
           12,
           120,
           2,
           7,
           8
          ],
          "coloraxis": "coloraxis",
          "size": [
           1132935,
           530740,
           164233,
           165711,
           697074,
           68399,
           33486,
           186833,
           204171,
           395108,
           118434,
           43186,
           18615,
           130421,
           16356,
           22989,
           144749,
           332198,
           160817,
           118736,
           142486,
           21689,
           35630,
           26022,
           111020,
           63812,
           36942,
           12193,
           33865,
           33557,
           42312,
           50380,
           218931,
           14452,
           65802,
           102595,
           67576,
           8145,
           13358,
           23246,
           17701,
           25375,
           1722,
           48677,
           3781,
           29442,
           20946,
           16926,
           14122,
           8462,
           30640,
           5112,
           8639,
           13695,
           7056,
           9545,
           38179,
           16296,
           17877,
           10790,
           20106,
           22346,
           9158,
           8530,
           35942,
           2348,
           7609,
           8596,
           2179,
           12020,
           7118,
           6218,
           9574,
           10085,
           1543,
           16828,
           2570,
           4384,
           1287,
           19490,
           5404,
           2912,
           11953,
           5845,
           24613,
           6437,
           7572,
           686,
           919,
           8717,
           16255,
           4628,
           9638,
           5688,
           4047,
           3595,
           2800,
           1133,
           2797,
           225,
           6881,
           3155,
           5652,
           1637,
           2233,
           7882,
           2991,
           4230,
           4326,
           311,
           1462,
           4088,
           3630,
           3480,
           3056,
           1468,
           1965,
           824,
           571,
           1931,
           223,
           420,
           1463,
           1971,
           2686,
           833,
           314,
           1422,
           1294,
           688,
           883,
           1419,
           5001,
           997,
           413,
           21,
           3164,
           38,
           306,
           165,
           670,
           295,
           236,
           1043,
           290,
           467,
           833,
           723,
           860,
           743,
           37,
           409,
           163,
           1361,
           386,
           122,
           138,
           396,
           89,
           111,
           238,
           157,
           138,
           183,
           13,
           29,
           65,
           74,
           189,
           113,
           372,
           63,
           14,
           21,
           2159,
           38,
           89,
           103,
           312,
           123,
           146,
           176,
           294,
           194,
           2,
           46,
           38,
           77,
           9,
           1,
           12,
           120,
           2,
           7,
           8
          ],
          "sizemode": "area",
          "sizeref": 1812.696,
          "symbol": "circle"
         },
         "mode": "markers",
         "name": "",
         "showlegend": false,
         "type": "scattergeo"
        }
       ],
       "layout": {
        "coloraxis": {
         "colorbar": {
          "title": {
           "text": "Total Deaths"
          }
         },
         "colorscale": [
          [
           0,
           "rgb(252, 222, 156)"
          ],
          [
           0.16666666666666666,
           "rgb(250, 164, 118)"
          ],
          [
           0.3333333333333333,
           "rgb(240, 116, 110)"
          ],
          [
           0.5,
           "rgb(227, 79, 111)"
          ],
          [
           0.6666666666666666,
           "rgb(220, 57, 119)"
          ],
          [
           0.8333333333333334,
           "rgb(185, 37, 122)"
          ],
          [
           1,
           "rgb(124, 29, 111)"
          ]
         ]
        },
        "geo": {
         "center": {},
         "domain": {
          "x": [
           0,
           1
          ],
          "y": [
           0,
           1
          ]
         },
         "scope": "world"
        },
        "legend": {
         "itemsizing": "constant",
         "tracegroupgap": 0
        },
        "template": {
         "data": {
          "bar": [
           {
            "error_x": {
             "color": "rgb(36,36,36)"
            },
            "error_y": {
             "color": "rgb(36,36,36)"
            },
            "marker": {
             "line": {
              "color": "rgb(234,234,242)",
              "width": 0.5
             },
             "pattern": {
              "fillmode": "overlay",
              "size": 10,
              "solidity": 0.2
             }
            },
            "type": "bar"
           }
          ],
          "barpolar": [
           {
            "marker": {
             "line": {
              "color": "rgb(234,234,242)",
              "width": 0.5
             },
             "pattern": {
              "fillmode": "overlay",
              "size": 10,
              "solidity": 0.2
             }
            },
            "type": "barpolar"
           }
          ],
          "carpet": [
           {
            "aaxis": {
             "endlinecolor": "rgb(36,36,36)",
             "gridcolor": "white",
             "linecolor": "white",
             "minorgridcolor": "white",
             "startlinecolor": "rgb(36,36,36)"
            },
            "baxis": {
             "endlinecolor": "rgb(36,36,36)",
             "gridcolor": "white",
             "linecolor": "white",
             "minorgridcolor": "white",
             "startlinecolor": "rgb(36,36,36)"
            },
            "type": "carpet"
           }
          ],
          "choropleth": [
           {
            "colorbar": {
             "outlinewidth": 0,
             "tickcolor": "rgb(36,36,36)",
             "ticklen": 8,
             "ticks": "outside",
             "tickwidth": 2
            },
            "type": "choropleth"
           }
          ],
          "contour": [
           {
            "colorbar": {
             "outlinewidth": 0,
             "tickcolor": "rgb(36,36,36)",
             "ticklen": 8,
             "ticks": "outside",
             "tickwidth": 2
            },
            "colorscale": [
             [
              0,
              "rgb(2,4,25)"
             ],
             [
              0.06274509803921569,
              "rgb(24,15,41)"
             ],
             [
              0.12549019607843137,
              "rgb(47,23,57)"
             ],
             [
              0.18823529411764706,
              "rgb(71,28,72)"
             ],
             [
              0.25098039215686274,
              "rgb(97,30,82)"
             ],
             [
              0.3137254901960784,
              "rgb(123,30,89)"
             ],
             [
              0.3764705882352941,
              "rgb(150,27,91)"
             ],
             [
              0.4392156862745098,
              "rgb(177,22,88)"
             ],
             [
              0.5019607843137255,
              "rgb(203,26,79)"
             ],
             [
              0.5647058823529412,
              "rgb(223,47,67)"
             ],
             [
              0.6274509803921569,
              "rgb(236,76,61)"
             ],
             [
              0.6901960784313725,
              "rgb(242,107,73)"
             ],
             [
              0.7529411764705882,
              "rgb(244,135,95)"
             ],
             [
              0.8156862745098039,
              "rgb(245,162,122)"
             ],
             [
              0.8784313725490196,
              "rgb(246,188,153)"
             ],
             [
              0.9411764705882353,
              "rgb(247,212,187)"
             ],
             [
              1,
              "rgb(250,234,220)"
             ]
            ],
            "type": "contour"
           }
          ],
          "contourcarpet": [
           {
            "colorbar": {
             "outlinewidth": 0,
             "tickcolor": "rgb(36,36,36)",
             "ticklen": 8,
             "ticks": "outside",
             "tickwidth": 2
            },
            "type": "contourcarpet"
           }
          ],
          "heatmap": [
           {
            "colorbar": {
             "outlinewidth": 0,
             "tickcolor": "rgb(36,36,36)",
             "ticklen": 8,
             "ticks": "outside",
             "tickwidth": 2
            },
            "colorscale": [
             [
              0,
              "rgb(2,4,25)"
             ],
             [
              0.06274509803921569,
              "rgb(24,15,41)"
             ],
             [
              0.12549019607843137,
              "rgb(47,23,57)"
             ],
             [
              0.18823529411764706,
              "rgb(71,28,72)"
             ],
             [
              0.25098039215686274,
              "rgb(97,30,82)"
             ],
             [
              0.3137254901960784,
              "rgb(123,30,89)"
             ],
             [
              0.3764705882352941,
              "rgb(150,27,91)"
             ],
             [
              0.4392156862745098,
              "rgb(177,22,88)"
             ],
             [
              0.5019607843137255,
              "rgb(203,26,79)"
             ],
             [
              0.5647058823529412,
              "rgb(223,47,67)"
             ],
             [
              0.6274509803921569,
              "rgb(236,76,61)"
             ],
             [
              0.6901960784313725,
              "rgb(242,107,73)"
             ],
             [
              0.7529411764705882,
              "rgb(244,135,95)"
             ],
             [
              0.8156862745098039,
              "rgb(245,162,122)"
             ],
             [
              0.8784313725490196,
              "rgb(246,188,153)"
             ],
             [
              0.9411764705882353,
              "rgb(247,212,187)"
             ],
             [
              1,
              "rgb(250,234,220)"
             ]
            ],
            "type": "heatmap"
           }
          ],
          "heatmapgl": [
           {
            "colorbar": {
             "outlinewidth": 0,
             "tickcolor": "rgb(36,36,36)",
             "ticklen": 8,
             "ticks": "outside",
             "tickwidth": 2
            },
            "colorscale": [
             [
              0,
              "rgb(2,4,25)"
             ],
             [
              0.06274509803921569,
              "rgb(24,15,41)"
             ],
             [
              0.12549019607843137,
              "rgb(47,23,57)"
             ],
             [
              0.18823529411764706,
              "rgb(71,28,72)"
             ],
             [
              0.25098039215686274,
              "rgb(97,30,82)"
             ],
             [
              0.3137254901960784,
              "rgb(123,30,89)"
             ],
             [
              0.3764705882352941,
              "rgb(150,27,91)"
             ],
             [
              0.4392156862745098,
              "rgb(177,22,88)"
             ],
             [
              0.5019607843137255,
              "rgb(203,26,79)"
             ],
             [
              0.5647058823529412,
              "rgb(223,47,67)"
             ],
             [
              0.6274509803921569,
              "rgb(236,76,61)"
             ],
             [
              0.6901960784313725,
              "rgb(242,107,73)"
             ],
             [
              0.7529411764705882,
              "rgb(244,135,95)"
             ],
             [
              0.8156862745098039,
              "rgb(245,162,122)"
             ],
             [
              0.8784313725490196,
              "rgb(246,188,153)"
             ],
             [
              0.9411764705882353,
              "rgb(247,212,187)"
             ],
             [
              1,
              "rgb(250,234,220)"
             ]
            ],
            "type": "heatmapgl"
           }
          ],
          "histogram": [
           {
            "marker": {
             "pattern": {
              "fillmode": "overlay",
              "size": 10,
              "solidity": 0.2
             }
            },
            "type": "histogram"
           }
          ],
          "histogram2d": [
           {
            "colorbar": {
             "outlinewidth": 0,
             "tickcolor": "rgb(36,36,36)",
             "ticklen": 8,
             "ticks": "outside",
             "tickwidth": 2
            },
            "colorscale": [
             [
              0,
              "rgb(2,4,25)"
             ],
             [
              0.06274509803921569,
              "rgb(24,15,41)"
             ],
             [
              0.12549019607843137,
              "rgb(47,23,57)"
             ],
             [
              0.18823529411764706,
              "rgb(71,28,72)"
             ],
             [
              0.25098039215686274,
              "rgb(97,30,82)"
             ],
             [
              0.3137254901960784,
              "rgb(123,30,89)"
             ],
             [
              0.3764705882352941,
              "rgb(150,27,91)"
             ],
             [
              0.4392156862745098,
              "rgb(177,22,88)"
             ],
             [
              0.5019607843137255,
              "rgb(203,26,79)"
             ],
             [
              0.5647058823529412,
              "rgb(223,47,67)"
             ],
             [
              0.6274509803921569,
              "rgb(236,76,61)"
             ],
             [
              0.6901960784313725,
              "rgb(242,107,73)"
             ],
             [
              0.7529411764705882,
              "rgb(244,135,95)"
             ],
             [
              0.8156862745098039,
              "rgb(245,162,122)"
             ],
             [
              0.8784313725490196,
              "rgb(246,188,153)"
             ],
             [
              0.9411764705882353,
              "rgb(247,212,187)"
             ],
             [
              1,
              "rgb(250,234,220)"
             ]
            ],
            "type": "histogram2d"
           }
          ],
          "histogram2dcontour": [
           {
            "colorbar": {
             "outlinewidth": 0,
             "tickcolor": "rgb(36,36,36)",
             "ticklen": 8,
             "ticks": "outside",
             "tickwidth": 2
            },
            "colorscale": [
             [
              0,
              "rgb(2,4,25)"
             ],
             [
              0.06274509803921569,
              "rgb(24,15,41)"
             ],
             [
              0.12549019607843137,
              "rgb(47,23,57)"
             ],
             [
              0.18823529411764706,
              "rgb(71,28,72)"
             ],
             [
              0.25098039215686274,
              "rgb(97,30,82)"
             ],
             [
              0.3137254901960784,
              "rgb(123,30,89)"
             ],
             [
              0.3764705882352941,
              "rgb(150,27,91)"
             ],
             [
              0.4392156862745098,
              "rgb(177,22,88)"
             ],
             [
              0.5019607843137255,
              "rgb(203,26,79)"
             ],
             [
              0.5647058823529412,
              "rgb(223,47,67)"
             ],
             [
              0.6274509803921569,
              "rgb(236,76,61)"
             ],
             [
              0.6901960784313725,
              "rgb(242,107,73)"
             ],
             [
              0.7529411764705882,
              "rgb(244,135,95)"
             ],
             [
              0.8156862745098039,
              "rgb(245,162,122)"
             ],
             [
              0.8784313725490196,
              "rgb(246,188,153)"
             ],
             [
              0.9411764705882353,
              "rgb(247,212,187)"
             ],
             [
              1,
              "rgb(250,234,220)"
             ]
            ],
            "type": "histogram2dcontour"
           }
          ],
          "mesh3d": [
           {
            "colorbar": {
             "outlinewidth": 0,
             "tickcolor": "rgb(36,36,36)",
             "ticklen": 8,
             "ticks": "outside",
             "tickwidth": 2
            },
            "type": "mesh3d"
           }
          ],
          "parcoords": [
           {
            "line": {
             "colorbar": {
              "outlinewidth": 0,
              "tickcolor": "rgb(36,36,36)",
              "ticklen": 8,
              "ticks": "outside",
              "tickwidth": 2
             }
            },
            "type": "parcoords"
           }
          ],
          "pie": [
           {
            "automargin": true,
            "type": "pie"
           }
          ],
          "scatter": [
           {
            "fillpattern": {
             "fillmode": "overlay",
             "size": 10,
             "solidity": 0.2
            },
            "type": "scatter"
           }
          ],
          "scatter3d": [
           {
            "line": {
             "colorbar": {
              "outlinewidth": 0,
              "tickcolor": "rgb(36,36,36)",
              "ticklen": 8,
              "ticks": "outside",
              "tickwidth": 2
             }
            },
            "marker": {
             "colorbar": {
              "outlinewidth": 0,
              "tickcolor": "rgb(36,36,36)",
              "ticklen": 8,
              "ticks": "outside",
              "tickwidth": 2
             }
            },
            "type": "scatter3d"
           }
          ],
          "scattercarpet": [
           {
            "marker": {
             "colorbar": {
              "outlinewidth": 0,
              "tickcolor": "rgb(36,36,36)",
              "ticklen": 8,
              "ticks": "outside",
              "tickwidth": 2
             }
            },
            "type": "scattercarpet"
           }
          ],
          "scattergeo": [
           {
            "marker": {
             "colorbar": {
              "outlinewidth": 0,
              "tickcolor": "rgb(36,36,36)",
              "ticklen": 8,
              "ticks": "outside",
              "tickwidth": 2
             }
            },
            "type": "scattergeo"
           }
          ],
          "scattergl": [
           {
            "marker": {
             "colorbar": {
              "outlinewidth": 0,
              "tickcolor": "rgb(36,36,36)",
              "ticklen": 8,
              "ticks": "outside",
              "tickwidth": 2
             }
            },
            "type": "scattergl"
           }
          ],
          "scattermapbox": [
           {
            "marker": {
             "colorbar": {
              "outlinewidth": 0,
              "tickcolor": "rgb(36,36,36)",
              "ticklen": 8,
              "ticks": "outside",
              "tickwidth": 2
             }
            },
            "type": "scattermapbox"
           }
          ],
          "scatterpolar": [
           {
            "marker": {
             "colorbar": {
              "outlinewidth": 0,
              "tickcolor": "rgb(36,36,36)",
              "ticklen": 8,
              "ticks": "outside",
              "tickwidth": 2
             }
            },
            "type": "scatterpolar"
           }
          ],
          "scatterpolargl": [
           {
            "marker": {
             "colorbar": {
              "outlinewidth": 0,
              "tickcolor": "rgb(36,36,36)",
              "ticklen": 8,
              "ticks": "outside",
              "tickwidth": 2
             }
            },
            "type": "scatterpolargl"
           }
          ],
          "scatterternary": [
           {
            "marker": {
             "colorbar": {
              "outlinewidth": 0,
              "tickcolor": "rgb(36,36,36)",
              "ticklen": 8,
              "ticks": "outside",
              "tickwidth": 2
             }
            },
            "type": "scatterternary"
           }
          ],
          "surface": [
           {
            "colorbar": {
             "outlinewidth": 0,
             "tickcolor": "rgb(36,36,36)",
             "ticklen": 8,
             "ticks": "outside",
             "tickwidth": 2
            },
            "colorscale": [
             [
              0,
              "rgb(2,4,25)"
             ],
             [
              0.06274509803921569,
              "rgb(24,15,41)"
             ],
             [
              0.12549019607843137,
              "rgb(47,23,57)"
             ],
             [
              0.18823529411764706,
              "rgb(71,28,72)"
             ],
             [
              0.25098039215686274,
              "rgb(97,30,82)"
             ],
             [
              0.3137254901960784,
              "rgb(123,30,89)"
             ],
             [
              0.3764705882352941,
              "rgb(150,27,91)"
             ],
             [
              0.4392156862745098,
              "rgb(177,22,88)"
             ],
             [
              0.5019607843137255,
              "rgb(203,26,79)"
             ],
             [
              0.5647058823529412,
              "rgb(223,47,67)"
             ],
             [
              0.6274509803921569,
              "rgb(236,76,61)"
             ],
             [
              0.6901960784313725,
              "rgb(242,107,73)"
             ],
             [
              0.7529411764705882,
              "rgb(244,135,95)"
             ],
             [
              0.8156862745098039,
              "rgb(245,162,122)"
             ],
             [
              0.8784313725490196,
              "rgb(246,188,153)"
             ],
             [
              0.9411764705882353,
              "rgb(247,212,187)"
             ],
             [
              1,
              "rgb(250,234,220)"
             ]
            ],
            "type": "surface"
           }
          ],
          "table": [
           {
            "cells": {
             "fill": {
              "color": "rgb(231,231,240)"
             },
             "line": {
              "color": "white"
             }
            },
            "header": {
             "fill": {
              "color": "rgb(183,183,191)"
             },
             "line": {
              "color": "white"
             }
            },
            "type": "table"
           }
          ]
         },
         "layout": {
          "annotationdefaults": {
           "arrowcolor": "rgb(67,103,167)"
          },
          "autotypenumbers": "strict",
          "coloraxis": {
           "colorbar": {
            "outlinewidth": 0,
            "tickcolor": "rgb(36,36,36)",
            "ticklen": 8,
            "ticks": "outside",
            "tickwidth": 2
           }
          },
          "colorscale": {
           "sequential": [
            [
             0,
             "rgb(2,4,25)"
            ],
            [
             0.06274509803921569,
             "rgb(24,15,41)"
            ],
            [
             0.12549019607843137,
             "rgb(47,23,57)"
            ],
            [
             0.18823529411764706,
             "rgb(71,28,72)"
            ],
            [
             0.25098039215686274,
             "rgb(97,30,82)"
            ],
            [
             0.3137254901960784,
             "rgb(123,30,89)"
            ],
            [
             0.3764705882352941,
             "rgb(150,27,91)"
            ],
            [
             0.4392156862745098,
             "rgb(177,22,88)"
            ],
            [
             0.5019607843137255,
             "rgb(203,26,79)"
            ],
            [
             0.5647058823529412,
             "rgb(223,47,67)"
            ],
            [
             0.6274509803921569,
             "rgb(236,76,61)"
            ],
            [
             0.6901960784313725,
             "rgb(242,107,73)"
            ],
            [
             0.7529411764705882,
             "rgb(244,135,95)"
            ],
            [
             0.8156862745098039,
             "rgb(245,162,122)"
            ],
            [
             0.8784313725490196,
             "rgb(246,188,153)"
            ],
            [
             0.9411764705882353,
             "rgb(247,212,187)"
            ],
            [
             1,
             "rgb(250,234,220)"
            ]
           ],
           "sequentialminus": [
            [
             0,
             "rgb(2,4,25)"
            ],
            [
             0.06274509803921569,
             "rgb(24,15,41)"
            ],
            [
             0.12549019607843137,
             "rgb(47,23,57)"
            ],
            [
             0.18823529411764706,
             "rgb(71,28,72)"
            ],
            [
             0.25098039215686274,
             "rgb(97,30,82)"
            ],
            [
             0.3137254901960784,
             "rgb(123,30,89)"
            ],
            [
             0.3764705882352941,
             "rgb(150,27,91)"
            ],
            [
             0.4392156862745098,
             "rgb(177,22,88)"
            ],
            [
             0.5019607843137255,
             "rgb(203,26,79)"
            ],
            [
             0.5647058823529412,
             "rgb(223,47,67)"
            ],
            [
             0.6274509803921569,
             "rgb(236,76,61)"
            ],
            [
             0.6901960784313725,
             "rgb(242,107,73)"
            ],
            [
             0.7529411764705882,
             "rgb(244,135,95)"
            ],
            [
             0.8156862745098039,
             "rgb(245,162,122)"
            ],
            [
             0.8784313725490196,
             "rgb(246,188,153)"
            ],
            [
             0.9411764705882353,
             "rgb(247,212,187)"
            ],
            [
             1,
             "rgb(250,234,220)"
            ]
           ]
          },
          "colorway": [
           "rgb(76,114,176)",
           "rgb(221,132,82)",
           "rgb(85,168,104)",
           "rgb(196,78,82)",
           "rgb(129,114,179)",
           "rgb(147,120,96)",
           "rgb(218,139,195)",
           "rgb(140,140,140)",
           "rgb(204,185,116)",
           "rgb(100,181,205)"
          ],
          "font": {
           "color": "rgb(36,36,36)"
          },
          "geo": {
           "bgcolor": "white",
           "lakecolor": "white",
           "landcolor": "rgb(234,234,242)",
           "showlakes": true,
           "showland": true,
           "subunitcolor": "white"
          },
          "hoverlabel": {
           "align": "left"
          },
          "hovermode": "closest",
          "paper_bgcolor": "white",
          "plot_bgcolor": "rgb(234,234,242)",
          "polar": {
           "angularaxis": {
            "gridcolor": "white",
            "linecolor": "white",
            "showgrid": true,
            "ticks": ""
           },
           "bgcolor": "rgb(234,234,242)",
           "radialaxis": {
            "gridcolor": "white",
            "linecolor": "white",
            "showgrid": true,
            "ticks": ""
           }
          },
          "scene": {
           "xaxis": {
            "backgroundcolor": "rgb(234,234,242)",
            "gridcolor": "white",
            "gridwidth": 2,
            "linecolor": "white",
            "showbackground": true,
            "showgrid": true,
            "ticks": "",
            "zerolinecolor": "white"
           },
           "yaxis": {
            "backgroundcolor": "rgb(234,234,242)",
            "gridcolor": "white",
            "gridwidth": 2,
            "linecolor": "white",
            "showbackground": true,
            "showgrid": true,
            "ticks": "",
            "zerolinecolor": "white"
           },
           "zaxis": {
            "backgroundcolor": "rgb(234,234,242)",
            "gridcolor": "white",
            "gridwidth": 2,
            "linecolor": "white",
            "showbackground": true,
            "showgrid": true,
            "ticks": "",
            "zerolinecolor": "white"
           }
          },
          "shapedefaults": {
           "fillcolor": "rgb(67,103,167)",
           "line": {
            "width": 0
           },
           "opacity": 0.5
          },
          "ternary": {
           "aaxis": {
            "gridcolor": "white",
            "linecolor": "white",
            "showgrid": true,
            "ticks": ""
           },
           "baxis": {
            "gridcolor": "white",
            "linecolor": "white",
            "showgrid": true,
            "ticks": ""
           },
           "bgcolor": "rgb(234,234,242)",
           "caxis": {
            "gridcolor": "white",
            "linecolor": "white",
            "showgrid": true,
            "ticks": ""
           }
          },
          "xaxis": {
           "automargin": true,
           "gridcolor": "white",
           "linecolor": "white",
           "showgrid": true,
           "ticks": "",
           "title": {
            "standoff": 15
           },
           "zerolinecolor": "white"
          },
          "yaxis": {
           "automargin": true,
           "gridcolor": "white",
           "linecolor": "white",
           "showgrid": true,
           "ticks": "",
           "title": {
            "standoff": 15
           },
           "zerolinecolor": "white"
          }
         }
        },
        "title": {
         "text": "Covid-19: Total Deaths Around the Globe"
        }
       }
      }
     },
     "metadata": {},
     "output_type": "display_data"
    }
   ],
   "source": [
    "fig = px.scatter_geo(data, locations='Country',locationmode=\"country names\",scope=\"world\",color=\"Total Deaths\",size=\"Total Deaths\",size_max=25,title=\"Covid-19: Total Deaths Around the Globe\",template='seaborn',color_continuous_scale=\"sunsetdark\")\n",
    "fig.show()"
   ]
  },
  {
   "cell_type": "code",
   "execution_count": 52,
   "metadata": {},
   "outputs": [
    {
     "data": {
      "application/vnd.plotly.v1+json": {
       "config": {
        "plotlyServerURL": "https://plot.ly"
       },
       "data": [
        {
         "geo": "geo",
         "hovertemplate": "Total Recovered=%{marker.color}<br>Country=%{location}<extra></extra>",
         "legendgroup": "",
         "locationmode": "country names",
         "locations": [
          "USA",
          "India",
          "France",
          "Germany",
          "Brazil",
          "Japan",
          "S. Korea",
          "Italy",
          "UK",
          "Russia",
          "Spain",
          "Vietnam",
          "Australia",
          "Argentina",
          "Taiwan",
          "Netherlands",
          "Iran",
          "Mexico",
          "Indonesia",
          "Poland",
          "Colombia",
          "Austria",
          "Greece",
          "Portugal",
          "Ukraine",
          "Chile",
          "Malaysia",
          "Israel",
          "Thailand",
          "Belgium",
          "Czechia",
          "Canada",
          "Peru",
          "Switzerland",
          "Philippines",
          "South Africa",
          "Romania",
          "Denmark",
          "Hong Kong",
          "Sweden",
          "Serbia",
          "Iraq",
          "Singapore",
          "Hungary",
          "New Zealand",
          "Bangladesh",
          "Slovakia",
          "Georgia",
          "Jordan",
          "Ireland",
          "Pakistan",
          "Norway",
          "Finland",
          "Kazakhstan",
          "Slovenia",
          "Lithuania",
          "Bulgaria",
          "Morocco",
          "Croatia",
          "Lebanon",
          "Guatemala",
          "Bolivia",
          "Costa Rica",
          "Cuba",
          "Ecuador",
          "UAE",
          "Uruguay",
          "Panama",
          "Mongolia",
          "Nepal",
          "Belarus",
          "Latvia",
          "Saudi Arabia",
          "Azerbaijan",
          "Bahrain",
          "Sri Lanka",
          "Kuwait",
          "Dominican Republic",
          "Cyprus",
          "Myanmar",
          "Palestine",
          "Estonia",
          "Moldova",
          "Venezuela",
          "Egypt",
          "Libya",
          "Ethiopia",
          "Qatar",
          "RÃ©union",
          "Armenia",
          "Bosnia and Herzegovina",
          "Oman",
          "North Macedonia",
          "Kenya",
          "Zambia",
          "Albania",
          "Botswana",
          "Luxembourg",
          "Montenegro",
          "Brunei",
          "Algeria",
          "Nigeria",
          "Zimbabwe",
          "Uzbekistan",
          "Mozambique",
          "Afghanistan",
          "Kyrgyzstan",
          "El Salvador",
          "Trinidad and Tobago",
          "Maldives",
          "Ghana",
          "Namibia",
          "Uganda",
          "Jamaica",
          "Cambodia",
          "Rwanda",
          "Cameroon",
          "Malta",
          "Barbados",
          "Angola",
          "Channel Islands",
          "French Guiana",
          "DRC",
          "Senegal",
          "Malawi",
          "Ivory Coast",
          "New Caledonia",
          "Eswatini",
          "Guyana",
          "Belize",
          "Fiji",
          "Madagascar",
          "Sudan",
          "Mauritania",
          "Cabo Verde",
          "Bhutan",
          "Syria",
          "Burundi",
          "Gabon",
          "Andorra",
          "Papua New Guinea",
          "CuraÃ§ao",
          "Aruba",
          "Mauritius",
          "Togo",
          "Guinea",
          "Bahamas",
          "Lesotho",
          "Haiti",
          "Mali",
          "Cayman Islands",
          "Saint Lucia",
          "Benin",
          "Somalia",
          "Congo",
          "San Marino",
          "Timor-Leste",
          "Burkina Faso",
          "Liechtenstein",
          "Gibraltar",
          "Grenada",
          "Bermuda",
          "South Sudan",
          "Equatorial Guinea",
          "Tonga",
          "Samoa",
          "Monaco",
          "Dominica",
          "Djibouti",
          "CAR",
          "Gambia",
          "Saint Martin",
          "Vanuatu",
          "Greenland",
          "Yemen",
          "Caribbean Netherlands",
          "Sint Maarten",
          "Eritrea",
          "Niger",
          "St. Vincent Grenadines",
          "Antigua and Barbuda",
          "Guinea-Bissau",
          "Liberia",
          "Chad",
          "Cook Islands",
          "Saint Kitts and Nevis",
          "Turks and Caicos",
          "Sao Tome and Principe",
          "Palau",
          "Nauru",
          "Anguilla",
          "Macao",
          "Saint Pierre Miquelon",
          "Wallis and Futuna",
          "Montserrat"
         ],
         "marker": {
          "color": [
           101322779,
           44150289,
           39264546,
           37398100,
           35919372,
           21567425,
           29740877,
           25014986,
           24020088,
           21356008,
           13557699,
           10612479,
           11235771,
           9877032,
           9129766,
           8547771,
           7337549,
           6606633,
           6565208,
           5335940,
           6179501,
           5730189,
           5662212,
           5532366,
           5253302,
           5051555,
           4989861,
           4768242,
           4692636,
           4644681,
           4538304,
           4444013,
           4258688,
           4366770,
           3998048,
           3912506,
           3252104,
           3163849,
           2509483,
           2658039,
           2440527,
           2439497,
           2144490,
           2139857,
           2169320,
           1992694,
           1839309,
           1776548,
           1731007,
           1685183,
           1538689,
           1471835,
           1447569,
           1383020,
           1311159,
           1282528,
           1254491,
           1255881,
           1249168,
           1087587,
           1204545,
           1146143,
           860711,
           1103799,
           1011682,
           1032735,
           1023939,
           1020206,
           1005658,
           989064,
           985592,
           968830,
           815528,
           817654,
           698400,
           655158,
           660237,
           644785,
           633422,
           614299,
           615445,
           524990,
           504142,
           545003,
           442182,
           500721,
           486531,
           491585,
           418572,
           435162,
           379084,
           384669,
           336623,
           337040,
           335104,
           328951,
           325934,
           288991,
           283210,
           243601,
           182749,
           259850,
           254951,
           241486,
           228805,
           186088,
           196406,
           179410,
           183264,
           163687,
           169636,
           166452,
           100431,
           102212,
           135624,
           131559,
           118616,
           115623,
           105570,
           103216,
           100778,
           11254,
           84264,
           86929,
           85369,
           87138,
           79526,
           72676,
           71357,
           69949,
           66780,
           66370,
           58284,
           62437,
           62756,
           61564,
           54289,
           53394,
           48674,
           47563,
           43982,
           44720,
           42438,
           39943,
           39061,
           37757,
           36366,
           25980,
           33033,
           31957,
           8553,
           29095,
           27823,
           13182,
           24006,
           23276,
           23102,
           21596,
           21237,
           16579,
           19358,
           18593,
           18115,
           16883,
           15638,
           1605,
           15982,
           15673,
           15427,
           15200,
           12189,
           1399,
           11976,
           2761,
           9124,
           10476,
           10905,
           10086,
           8890,
           9454,
           8954,
           8656,
           7766,
           4874,
           6993,
           6537,
           6451,
           6202,
           5976,
           4609,
           3879,
           3357,
           2449,
           438,
           1376
          ],
          "coloraxis": "coloraxis",
          "size": [
           101322779,
           44150289,
           39264546,
           37398100,
           35919372,
           21567425,
           29740877,
           25014986,
           24020088,
           21356008,
           13557699,
           10612479,
           11235771,
           9877032,
           9129766,
           8547771,
           7337549,
           6606633,
           6565208,
           5335940,
           6179501,
           5730189,
           5662212,
           5532366,
           5253302,
           5051555,
           4989861,
           4768242,
           4692636,
           4644681,
           4538304,
           4444013,
           4258688,
           4366770,
           3998048,
           3912506,
           3252104,
           3163849,
           2509483,
           2658039,
           2440527,
           2439497,
           2144490,
           2139857,
           2169320,
           1992694,
           1839309,
           1776548,
           1731007,
           1685183,
           1538689,
           1471835,
           1447569,
           1383020,
           1311159,
           1282528,
           1254491,
           1255881,
           1249168,
           1087587,
           1204545,
           1146143,
           860711,
           1103799,
           1011682,
           1032735,
           1023939,
           1020206,
           1005658,
           989064,
           985592,
           968830,
           815528,
           817654,
           698400,
           655158,
           660237,
           644785,
           633422,
           614299,
           615445,
           524990,
           504142,
           545003,
           442182,
           500721,
           486531,
           491585,
           418572,
           435162,
           379084,
           384669,
           336623,
           337040,
           335104,
           328951,
           325934,
           288991,
           283210,
           243601,
           182749,
           259850,
           254951,
           241486,
           228805,
           186088,
           196406,
           179410,
           183264,
           163687,
           169636,
           166452,
           100431,
           102212,
           135624,
           131559,
           118616,
           115623,
           105570,
           103216,
           100778,
           11254,
           84264,
           86929,
           85369,
           87138,
           79526,
           72676,
           71357,
           69949,
           66780,
           66370,
           58284,
           62437,
           62756,
           61564,
           54289,
           53394,
           48674,
           47563,
           43982,
           44720,
           42438,
           39943,
           39061,
           37757,
           36366,
           25980,
           33033,
           31957,
           8553,
           29095,
           27823,
           13182,
           24006,
           23276,
           23102,
           21596,
           21237,
           16579,
           19358,
           18593,
           18115,
           16883,
           15638,
           1605,
           15982,
           15673,
           15427,
           15200,
           12189,
           1399,
           11976,
           2761,
           9124,
           10476,
           10905,
           10086,
           8890,
           9454,
           8954,
           8656,
           7766,
           4874,
           6993,
           6537,
           6451,
           6202,
           5976,
           4609,
           3879,
           3357,
           2449,
           438,
           1376
          ],
          "sizemode": "area",
          "sizeref": 162116.4464,
          "symbol": "circle"
         },
         "mode": "markers",
         "name": "",
         "showlegend": false,
         "type": "scattergeo"
        }
       ],
       "layout": {
        "coloraxis": {
         "colorbar": {
          "title": {
           "text": "Total Recovered"
          }
         },
         "colorscale": [
          [
           0,
           "rgb(211, 242, 163)"
          ],
          [
           0.16666666666666666,
           "rgb(151, 225, 150)"
          ],
          [
           0.3333333333333333,
           "rgb(108, 192, 139)"
          ],
          [
           0.5,
           "rgb(76, 155, 130)"
          ],
          [
           0.6666666666666666,
           "rgb(33, 122, 121)"
          ],
          [
           0.8333333333333334,
           "rgb(16, 89, 101)"
          ],
          [
           1,
           "rgb(7, 64, 80)"
          ]
         ]
        },
        "geo": {
         "center": {},
         "domain": {
          "x": [
           0,
           1
          ],
          "y": [
           0,
           1
          ]
         },
         "scope": "world"
        },
        "legend": {
         "itemsizing": "constant",
         "tracegroupgap": 0
        },
        "template": {
         "data": {
          "bar": [
           {
            "error_x": {
             "color": "rgb(36,36,36)"
            },
            "error_y": {
             "color": "rgb(36,36,36)"
            },
            "marker": {
             "line": {
              "color": "rgb(234,234,242)",
              "width": 0.5
             },
             "pattern": {
              "fillmode": "overlay",
              "size": 10,
              "solidity": 0.2
             }
            },
            "type": "bar"
           }
          ],
          "barpolar": [
           {
            "marker": {
             "line": {
              "color": "rgb(234,234,242)",
              "width": 0.5
             },
             "pattern": {
              "fillmode": "overlay",
              "size": 10,
              "solidity": 0.2
             }
            },
            "type": "barpolar"
           }
          ],
          "carpet": [
           {
            "aaxis": {
             "endlinecolor": "rgb(36,36,36)",
             "gridcolor": "white",
             "linecolor": "white",
             "minorgridcolor": "white",
             "startlinecolor": "rgb(36,36,36)"
            },
            "baxis": {
             "endlinecolor": "rgb(36,36,36)",
             "gridcolor": "white",
             "linecolor": "white",
             "minorgridcolor": "white",
             "startlinecolor": "rgb(36,36,36)"
            },
            "type": "carpet"
           }
          ],
          "choropleth": [
           {
            "colorbar": {
             "outlinewidth": 0,
             "tickcolor": "rgb(36,36,36)",
             "ticklen": 8,
             "ticks": "outside",
             "tickwidth": 2
            },
            "type": "choropleth"
           }
          ],
          "contour": [
           {
            "colorbar": {
             "outlinewidth": 0,
             "tickcolor": "rgb(36,36,36)",
             "ticklen": 8,
             "ticks": "outside",
             "tickwidth": 2
            },
            "colorscale": [
             [
              0,
              "rgb(2,4,25)"
             ],
             [
              0.06274509803921569,
              "rgb(24,15,41)"
             ],
             [
              0.12549019607843137,
              "rgb(47,23,57)"
             ],
             [
              0.18823529411764706,
              "rgb(71,28,72)"
             ],
             [
              0.25098039215686274,
              "rgb(97,30,82)"
             ],
             [
              0.3137254901960784,
              "rgb(123,30,89)"
             ],
             [
              0.3764705882352941,
              "rgb(150,27,91)"
             ],
             [
              0.4392156862745098,
              "rgb(177,22,88)"
             ],
             [
              0.5019607843137255,
              "rgb(203,26,79)"
             ],
             [
              0.5647058823529412,
              "rgb(223,47,67)"
             ],
             [
              0.6274509803921569,
              "rgb(236,76,61)"
             ],
             [
              0.6901960784313725,
              "rgb(242,107,73)"
             ],
             [
              0.7529411764705882,
              "rgb(244,135,95)"
             ],
             [
              0.8156862745098039,
              "rgb(245,162,122)"
             ],
             [
              0.8784313725490196,
              "rgb(246,188,153)"
             ],
             [
              0.9411764705882353,
              "rgb(247,212,187)"
             ],
             [
              1,
              "rgb(250,234,220)"
             ]
            ],
            "type": "contour"
           }
          ],
          "contourcarpet": [
           {
            "colorbar": {
             "outlinewidth": 0,
             "tickcolor": "rgb(36,36,36)",
             "ticklen": 8,
             "ticks": "outside",
             "tickwidth": 2
            },
            "type": "contourcarpet"
           }
          ],
          "heatmap": [
           {
            "colorbar": {
             "outlinewidth": 0,
             "tickcolor": "rgb(36,36,36)",
             "ticklen": 8,
             "ticks": "outside",
             "tickwidth": 2
            },
            "colorscale": [
             [
              0,
              "rgb(2,4,25)"
             ],
             [
              0.06274509803921569,
              "rgb(24,15,41)"
             ],
             [
              0.12549019607843137,
              "rgb(47,23,57)"
             ],
             [
              0.18823529411764706,
              "rgb(71,28,72)"
             ],
             [
              0.25098039215686274,
              "rgb(97,30,82)"
             ],
             [
              0.3137254901960784,
              "rgb(123,30,89)"
             ],
             [
              0.3764705882352941,
              "rgb(150,27,91)"
             ],
             [
              0.4392156862745098,
              "rgb(177,22,88)"
             ],
             [
              0.5019607843137255,
              "rgb(203,26,79)"
             ],
             [
              0.5647058823529412,
              "rgb(223,47,67)"
             ],
             [
              0.6274509803921569,
              "rgb(236,76,61)"
             ],
             [
              0.6901960784313725,
              "rgb(242,107,73)"
             ],
             [
              0.7529411764705882,
              "rgb(244,135,95)"
             ],
             [
              0.8156862745098039,
              "rgb(245,162,122)"
             ],
             [
              0.8784313725490196,
              "rgb(246,188,153)"
             ],
             [
              0.9411764705882353,
              "rgb(247,212,187)"
             ],
             [
              1,
              "rgb(250,234,220)"
             ]
            ],
            "type": "heatmap"
           }
          ],
          "heatmapgl": [
           {
            "colorbar": {
             "outlinewidth": 0,
             "tickcolor": "rgb(36,36,36)",
             "ticklen": 8,
             "ticks": "outside",
             "tickwidth": 2
            },
            "colorscale": [
             [
              0,
              "rgb(2,4,25)"
             ],
             [
              0.06274509803921569,
              "rgb(24,15,41)"
             ],
             [
              0.12549019607843137,
              "rgb(47,23,57)"
             ],
             [
              0.18823529411764706,
              "rgb(71,28,72)"
             ],
             [
              0.25098039215686274,
              "rgb(97,30,82)"
             ],
             [
              0.3137254901960784,
              "rgb(123,30,89)"
             ],
             [
              0.3764705882352941,
              "rgb(150,27,91)"
             ],
             [
              0.4392156862745098,
              "rgb(177,22,88)"
             ],
             [
              0.5019607843137255,
              "rgb(203,26,79)"
             ],
             [
              0.5647058823529412,
              "rgb(223,47,67)"
             ],
             [
              0.6274509803921569,
              "rgb(236,76,61)"
             ],
             [
              0.6901960784313725,
              "rgb(242,107,73)"
             ],
             [
              0.7529411764705882,
              "rgb(244,135,95)"
             ],
             [
              0.8156862745098039,
              "rgb(245,162,122)"
             ],
             [
              0.8784313725490196,
              "rgb(246,188,153)"
             ],
             [
              0.9411764705882353,
              "rgb(247,212,187)"
             ],
             [
              1,
              "rgb(250,234,220)"
             ]
            ],
            "type": "heatmapgl"
           }
          ],
          "histogram": [
           {
            "marker": {
             "pattern": {
              "fillmode": "overlay",
              "size": 10,
              "solidity": 0.2
             }
            },
            "type": "histogram"
           }
          ],
          "histogram2d": [
           {
            "colorbar": {
             "outlinewidth": 0,
             "tickcolor": "rgb(36,36,36)",
             "ticklen": 8,
             "ticks": "outside",
             "tickwidth": 2
            },
            "colorscale": [
             [
              0,
              "rgb(2,4,25)"
             ],
             [
              0.06274509803921569,
              "rgb(24,15,41)"
             ],
             [
              0.12549019607843137,
              "rgb(47,23,57)"
             ],
             [
              0.18823529411764706,
              "rgb(71,28,72)"
             ],
             [
              0.25098039215686274,
              "rgb(97,30,82)"
             ],
             [
              0.3137254901960784,
              "rgb(123,30,89)"
             ],
             [
              0.3764705882352941,
              "rgb(150,27,91)"
             ],
             [
              0.4392156862745098,
              "rgb(177,22,88)"
             ],
             [
              0.5019607843137255,
              "rgb(203,26,79)"
             ],
             [
              0.5647058823529412,
              "rgb(223,47,67)"
             ],
             [
              0.6274509803921569,
              "rgb(236,76,61)"
             ],
             [
              0.6901960784313725,
              "rgb(242,107,73)"
             ],
             [
              0.7529411764705882,
              "rgb(244,135,95)"
             ],
             [
              0.8156862745098039,
              "rgb(245,162,122)"
             ],
             [
              0.8784313725490196,
              "rgb(246,188,153)"
             ],
             [
              0.9411764705882353,
              "rgb(247,212,187)"
             ],
             [
              1,
              "rgb(250,234,220)"
             ]
            ],
            "type": "histogram2d"
           }
          ],
          "histogram2dcontour": [
           {
            "colorbar": {
             "outlinewidth": 0,
             "tickcolor": "rgb(36,36,36)",
             "ticklen": 8,
             "ticks": "outside",
             "tickwidth": 2
            },
            "colorscale": [
             [
              0,
              "rgb(2,4,25)"
             ],
             [
              0.06274509803921569,
              "rgb(24,15,41)"
             ],
             [
              0.12549019607843137,
              "rgb(47,23,57)"
             ],
             [
              0.18823529411764706,
              "rgb(71,28,72)"
             ],
             [
              0.25098039215686274,
              "rgb(97,30,82)"
             ],
             [
              0.3137254901960784,
              "rgb(123,30,89)"
             ],
             [
              0.3764705882352941,
              "rgb(150,27,91)"
             ],
             [
              0.4392156862745098,
              "rgb(177,22,88)"
             ],
             [
              0.5019607843137255,
              "rgb(203,26,79)"
             ],
             [
              0.5647058823529412,
              "rgb(223,47,67)"
             ],
             [
              0.6274509803921569,
              "rgb(236,76,61)"
             ],
             [
              0.6901960784313725,
              "rgb(242,107,73)"
             ],
             [
              0.7529411764705882,
              "rgb(244,135,95)"
             ],
             [
              0.8156862745098039,
              "rgb(245,162,122)"
             ],
             [
              0.8784313725490196,
              "rgb(246,188,153)"
             ],
             [
              0.9411764705882353,
              "rgb(247,212,187)"
             ],
             [
              1,
              "rgb(250,234,220)"
             ]
            ],
            "type": "histogram2dcontour"
           }
          ],
          "mesh3d": [
           {
            "colorbar": {
             "outlinewidth": 0,
             "tickcolor": "rgb(36,36,36)",
             "ticklen": 8,
             "ticks": "outside",
             "tickwidth": 2
            },
            "type": "mesh3d"
           }
          ],
          "parcoords": [
           {
            "line": {
             "colorbar": {
              "outlinewidth": 0,
              "tickcolor": "rgb(36,36,36)",
              "ticklen": 8,
              "ticks": "outside",
              "tickwidth": 2
             }
            },
            "type": "parcoords"
           }
          ],
          "pie": [
           {
            "automargin": true,
            "type": "pie"
           }
          ],
          "scatter": [
           {
            "fillpattern": {
             "fillmode": "overlay",
             "size": 10,
             "solidity": 0.2
            },
            "type": "scatter"
           }
          ],
          "scatter3d": [
           {
            "line": {
             "colorbar": {
              "outlinewidth": 0,
              "tickcolor": "rgb(36,36,36)",
              "ticklen": 8,
              "ticks": "outside",
              "tickwidth": 2
             }
            },
            "marker": {
             "colorbar": {
              "outlinewidth": 0,
              "tickcolor": "rgb(36,36,36)",
              "ticklen": 8,
              "ticks": "outside",
              "tickwidth": 2
             }
            },
            "type": "scatter3d"
           }
          ],
          "scattercarpet": [
           {
            "marker": {
             "colorbar": {
              "outlinewidth": 0,
              "tickcolor": "rgb(36,36,36)",
              "ticklen": 8,
              "ticks": "outside",
              "tickwidth": 2
             }
            },
            "type": "scattercarpet"
           }
          ],
          "scattergeo": [
           {
            "marker": {
             "colorbar": {
              "outlinewidth": 0,
              "tickcolor": "rgb(36,36,36)",
              "ticklen": 8,
              "ticks": "outside",
              "tickwidth": 2
             }
            },
            "type": "scattergeo"
           }
          ],
          "scattergl": [
           {
            "marker": {
             "colorbar": {
              "outlinewidth": 0,
              "tickcolor": "rgb(36,36,36)",
              "ticklen": 8,
              "ticks": "outside",
              "tickwidth": 2
             }
            },
            "type": "scattergl"
           }
          ],
          "scattermapbox": [
           {
            "marker": {
             "colorbar": {
              "outlinewidth": 0,
              "tickcolor": "rgb(36,36,36)",
              "ticklen": 8,
              "ticks": "outside",
              "tickwidth": 2
             }
            },
            "type": "scattermapbox"
           }
          ],
          "scatterpolar": [
           {
            "marker": {
             "colorbar": {
              "outlinewidth": 0,
              "tickcolor": "rgb(36,36,36)",
              "ticklen": 8,
              "ticks": "outside",
              "tickwidth": 2
             }
            },
            "type": "scatterpolar"
           }
          ],
          "scatterpolargl": [
           {
            "marker": {
             "colorbar": {
              "outlinewidth": 0,
              "tickcolor": "rgb(36,36,36)",
              "ticklen": 8,
              "ticks": "outside",
              "tickwidth": 2
             }
            },
            "type": "scatterpolargl"
           }
          ],
          "scatterternary": [
           {
            "marker": {
             "colorbar": {
              "outlinewidth": 0,
              "tickcolor": "rgb(36,36,36)",
              "ticklen": 8,
              "ticks": "outside",
              "tickwidth": 2
             }
            },
            "type": "scatterternary"
           }
          ],
          "surface": [
           {
            "colorbar": {
             "outlinewidth": 0,
             "tickcolor": "rgb(36,36,36)",
             "ticklen": 8,
             "ticks": "outside",
             "tickwidth": 2
            },
            "colorscale": [
             [
              0,
              "rgb(2,4,25)"
             ],
             [
              0.06274509803921569,
              "rgb(24,15,41)"
             ],
             [
              0.12549019607843137,
              "rgb(47,23,57)"
             ],
             [
              0.18823529411764706,
              "rgb(71,28,72)"
             ],
             [
              0.25098039215686274,
              "rgb(97,30,82)"
             ],
             [
              0.3137254901960784,
              "rgb(123,30,89)"
             ],
             [
              0.3764705882352941,
              "rgb(150,27,91)"
             ],
             [
              0.4392156862745098,
              "rgb(177,22,88)"
             ],
             [
              0.5019607843137255,
              "rgb(203,26,79)"
             ],
             [
              0.5647058823529412,
              "rgb(223,47,67)"
             ],
             [
              0.6274509803921569,
              "rgb(236,76,61)"
             ],
             [
              0.6901960784313725,
              "rgb(242,107,73)"
             ],
             [
              0.7529411764705882,
              "rgb(244,135,95)"
             ],
             [
              0.8156862745098039,
              "rgb(245,162,122)"
             ],
             [
              0.8784313725490196,
              "rgb(246,188,153)"
             ],
             [
              0.9411764705882353,
              "rgb(247,212,187)"
             ],
             [
              1,
              "rgb(250,234,220)"
             ]
            ],
            "type": "surface"
           }
          ],
          "table": [
           {
            "cells": {
             "fill": {
              "color": "rgb(231,231,240)"
             },
             "line": {
              "color": "white"
             }
            },
            "header": {
             "fill": {
              "color": "rgb(183,183,191)"
             },
             "line": {
              "color": "white"
             }
            },
            "type": "table"
           }
          ]
         },
         "layout": {
          "annotationdefaults": {
           "arrowcolor": "rgb(67,103,167)"
          },
          "autotypenumbers": "strict",
          "coloraxis": {
           "colorbar": {
            "outlinewidth": 0,
            "tickcolor": "rgb(36,36,36)",
            "ticklen": 8,
            "ticks": "outside",
            "tickwidth": 2
           }
          },
          "colorscale": {
           "sequential": [
            [
             0,
             "rgb(2,4,25)"
            ],
            [
             0.06274509803921569,
             "rgb(24,15,41)"
            ],
            [
             0.12549019607843137,
             "rgb(47,23,57)"
            ],
            [
             0.18823529411764706,
             "rgb(71,28,72)"
            ],
            [
             0.25098039215686274,
             "rgb(97,30,82)"
            ],
            [
             0.3137254901960784,
             "rgb(123,30,89)"
            ],
            [
             0.3764705882352941,
             "rgb(150,27,91)"
            ],
            [
             0.4392156862745098,
             "rgb(177,22,88)"
            ],
            [
             0.5019607843137255,
             "rgb(203,26,79)"
            ],
            [
             0.5647058823529412,
             "rgb(223,47,67)"
            ],
            [
             0.6274509803921569,
             "rgb(236,76,61)"
            ],
            [
             0.6901960784313725,
             "rgb(242,107,73)"
            ],
            [
             0.7529411764705882,
             "rgb(244,135,95)"
            ],
            [
             0.8156862745098039,
             "rgb(245,162,122)"
            ],
            [
             0.8784313725490196,
             "rgb(246,188,153)"
            ],
            [
             0.9411764705882353,
             "rgb(247,212,187)"
            ],
            [
             1,
             "rgb(250,234,220)"
            ]
           ],
           "sequentialminus": [
            [
             0,
             "rgb(2,4,25)"
            ],
            [
             0.06274509803921569,
             "rgb(24,15,41)"
            ],
            [
             0.12549019607843137,
             "rgb(47,23,57)"
            ],
            [
             0.18823529411764706,
             "rgb(71,28,72)"
            ],
            [
             0.25098039215686274,
             "rgb(97,30,82)"
            ],
            [
             0.3137254901960784,
             "rgb(123,30,89)"
            ],
            [
             0.3764705882352941,
             "rgb(150,27,91)"
            ],
            [
             0.4392156862745098,
             "rgb(177,22,88)"
            ],
            [
             0.5019607843137255,
             "rgb(203,26,79)"
            ],
            [
             0.5647058823529412,
             "rgb(223,47,67)"
            ],
            [
             0.6274509803921569,
             "rgb(236,76,61)"
            ],
            [
             0.6901960784313725,
             "rgb(242,107,73)"
            ],
            [
             0.7529411764705882,
             "rgb(244,135,95)"
            ],
            [
             0.8156862745098039,
             "rgb(245,162,122)"
            ],
            [
             0.8784313725490196,
             "rgb(246,188,153)"
            ],
            [
             0.9411764705882353,
             "rgb(247,212,187)"
            ],
            [
             1,
             "rgb(250,234,220)"
            ]
           ]
          },
          "colorway": [
           "rgb(76,114,176)",
           "rgb(221,132,82)",
           "rgb(85,168,104)",
           "rgb(196,78,82)",
           "rgb(129,114,179)",
           "rgb(147,120,96)",
           "rgb(218,139,195)",
           "rgb(140,140,140)",
           "rgb(204,185,116)",
           "rgb(100,181,205)"
          ],
          "font": {
           "color": "rgb(36,36,36)"
          },
          "geo": {
           "bgcolor": "white",
           "lakecolor": "white",
           "landcolor": "rgb(234,234,242)",
           "showlakes": true,
           "showland": true,
           "subunitcolor": "white"
          },
          "hoverlabel": {
           "align": "left"
          },
          "hovermode": "closest",
          "paper_bgcolor": "white",
          "plot_bgcolor": "rgb(234,234,242)",
          "polar": {
           "angularaxis": {
            "gridcolor": "white",
            "linecolor": "white",
            "showgrid": true,
            "ticks": ""
           },
           "bgcolor": "rgb(234,234,242)",
           "radialaxis": {
            "gridcolor": "white",
            "linecolor": "white",
            "showgrid": true,
            "ticks": ""
           }
          },
          "scene": {
           "xaxis": {
            "backgroundcolor": "rgb(234,234,242)",
            "gridcolor": "white",
            "gridwidth": 2,
            "linecolor": "white",
            "showbackground": true,
            "showgrid": true,
            "ticks": "",
            "zerolinecolor": "white"
           },
           "yaxis": {
            "backgroundcolor": "rgb(234,234,242)",
            "gridcolor": "white",
            "gridwidth": 2,
            "linecolor": "white",
            "showbackground": true,
            "showgrid": true,
            "ticks": "",
            "zerolinecolor": "white"
           },
           "zaxis": {
            "backgroundcolor": "rgb(234,234,242)",
            "gridcolor": "white",
            "gridwidth": 2,
            "linecolor": "white",
            "showbackground": true,
            "showgrid": true,
            "ticks": "",
            "zerolinecolor": "white"
           }
          },
          "shapedefaults": {
           "fillcolor": "rgb(67,103,167)",
           "line": {
            "width": 0
           },
           "opacity": 0.5
          },
          "ternary": {
           "aaxis": {
            "gridcolor": "white",
            "linecolor": "white",
            "showgrid": true,
            "ticks": ""
           },
           "baxis": {
            "gridcolor": "white",
            "linecolor": "white",
            "showgrid": true,
            "ticks": ""
           },
           "bgcolor": "rgb(234,234,242)",
           "caxis": {
            "gridcolor": "white",
            "linecolor": "white",
            "showgrid": true,
            "ticks": ""
           }
          },
          "xaxis": {
           "automargin": true,
           "gridcolor": "white",
           "linecolor": "white",
           "showgrid": true,
           "ticks": "",
           "title": {
            "standoff": 15
           },
           "zerolinecolor": "white"
          },
          "yaxis": {
           "automargin": true,
           "gridcolor": "white",
           "linecolor": "white",
           "showgrid": true,
           "ticks": "",
           "title": {
            "standoff": 15
           },
           "zerolinecolor": "white"
          }
         }
        },
        "title": {
         "text": "Covid-19: Total Recovered Around the Globe"
        }
       }
      }
     },
     "metadata": {},
     "output_type": "display_data"
    }
   ],
   "source": [
    "fig = px.scatter_geo(data, locations='Country',locationmode=\"country names\",scope=\"world\",color=\"Total Recovered\",size=\"Total Recovered\",size_max=25,title=\"Covid-19: Total Recovered Around the Globe\",template='seaborn',color_continuous_scale=\"emrld\")\n",
    "fig.show()"
   ]
  },
  {
   "cell_type": "code",
   "execution_count": 59,
   "metadata": {},
   "outputs": [
    {
     "data": {
      "application/vnd.plotly.v1+json": {
       "config": {
        "plotlyServerURL": "https://plot.ly"
       },
       "data": [
        {
         "geo": "geo",
         "hovertemplate": "Active Cases=%{marker.color}<br>Country=%{location}<extra></extra>",
         "legendgroup": "",
         "locationmode": "country names",
         "locations": [
          "USA",
          "India",
          "France",
          "Germany",
          "Brazil",
          "Japan",
          "S. Korea",
          "Italy",
          "UK",
          "Russia",
          "Spain",
          "Vietnam",
          "Australia",
          "Argentina",
          "Taiwan",
          "Netherlands",
          "Iran",
          "Mexico",
          "Indonesia",
          "Poland",
          "Colombia",
          "Austria",
          "Greece",
          "Portugal",
          "Ukraine",
          "Chile",
          "Malaysia",
          "Israel",
          "Thailand",
          "Belgium",
          "Czechia",
          "Canada",
          "Peru",
          "Switzerland",
          "Philippines",
          "South Africa",
          "Romania",
          "Denmark",
          "Hong Kong",
          "Sweden",
          "Serbia",
          "Iraq",
          "Singapore",
          "Hungary",
          "New Zealand",
          "Bangladesh",
          "Slovakia",
          "Georgia",
          "Jordan",
          "Ireland",
          "Pakistan",
          "Norway",
          "Finland",
          "Kazakhstan",
          "Slovenia",
          "Lithuania",
          "Bulgaria",
          "Morocco",
          "Croatia",
          "Lebanon",
          "Guatemala",
          "Bolivia",
          "Costa Rica",
          "Cuba",
          "Ecuador",
          "UAE",
          "Uruguay",
          "Panama",
          "Mongolia",
          "Nepal",
          "Belarus",
          "Latvia",
          "Saudi Arabia",
          "Azerbaijan",
          "Bahrain",
          "Sri Lanka",
          "Kuwait",
          "Dominican Republic",
          "Cyprus",
          "Myanmar",
          "Palestine",
          "Estonia",
          "Moldova",
          "Venezuela",
          "Egypt",
          "Libya",
          "Ethiopia",
          "Qatar",
          "RÃ©union",
          "Armenia",
          "Bosnia and Herzegovina",
          "Oman",
          "North Macedonia",
          "Kenya",
          "Zambia",
          "Albania",
          "Botswana",
          "Luxembourg",
          "Montenegro",
          "Brunei",
          "Algeria",
          "Nigeria",
          "Zimbabwe",
          "Uzbekistan",
          "Mozambique",
          "Afghanistan",
          "Kyrgyzstan",
          "El Salvador",
          "Trinidad and Tobago",
          "Maldives",
          "Ghana",
          "Namibia",
          "Uganda",
          "Jamaica",
          "Cambodia",
          "Rwanda",
          "Cameroon",
          "Malta",
          "Barbados",
          "Angola",
          "Channel Islands",
          "French Guiana",
          "DRC",
          "Senegal",
          "Malawi",
          "Ivory Coast",
          "New Caledonia",
          "Eswatini",
          "Guyana",
          "Belize",
          "Fiji",
          "Madagascar",
          "Sudan",
          "Mauritania",
          "Cabo Verde",
          "Bhutan",
          "Syria",
          "Burundi",
          "Gabon",
          "Andorra",
          "Papua New Guinea",
          "CuraÃ§ao",
          "Aruba",
          "Mauritius",
          "Togo",
          "Guinea",
          "Bahamas",
          "Lesotho",
          "Haiti",
          "Mali",
          "Cayman Islands",
          "Saint Lucia",
          "Benin",
          "Somalia",
          "Congo",
          "San Marino",
          "Timor-Leste",
          "Burkina Faso",
          "Liechtenstein",
          "Gibraltar",
          "Grenada",
          "Bermuda",
          "South Sudan",
          "Equatorial Guinea",
          "Tonga",
          "Samoa",
          "Monaco",
          "Dominica",
          "Djibouti",
          "CAR",
          "Gambia",
          "Saint Martin",
          "Vanuatu",
          "Greenland",
          "Yemen",
          "Caribbean Netherlands",
          "Sint Maarten",
          "Eritrea",
          "Niger",
          "St. Vincent Grenadines",
          "Antigua and Barbuda",
          "Guinea-Bissau",
          "Liberia",
          "Chad",
          "Cook Islands",
          "Saint Kitts and Nevis",
          "Turks and Caicos",
          "Sao Tome and Principe",
          "Palau",
          "Nauru",
          "Anguilla",
          "Macao",
          "Saint Pierre Miquelon",
          "Wallis and Futuna",
          "Montserrat"
         ],
         "marker": {
          "color": [
           1741147,
           1755,
           95532,
           216022,
           208134,
           10952618,
           422703,
           251970,
           50102,
           207580,
           55345,
           870843,
           41060,
           29682,
           423489,
           11740,
           82052,
           429421,
           4264,
           925549,
           34322,
           28351,
           10459,
           5519,
           5809,
           3614,
           9790,
           5754,
           483,
           13261,
           9403,
           55863,
           4002,
           4479,
           9604,
           40865,
           5326,
           1253,
           354439,
           12173,
           12970,
           673,
           70898,
           3913,
           9254,
           15420,
           638,
           20706,
           1868,
           6608,
           6984,
           909,
           2411,
           9202,
           3637,
           4792,
           2756,
           63,
           535,
           130262,
           3202,
           19497,
           316307,
           109,
           3615,
           14326,
           1162,
           899,
           34,
           18,
           1327,
           307,
           2860,
           205,
           509,
           3,
           51,
           10926,
           7954,
           31,
           159,
           85989,
           82578,
           739,
           48850,
           4,
           5428,
           263,
           66404,
           2129,
           6045,
           10152,
           167,
           82,
           1612,
           1621,
           493,
           7633,
           348,
           31394,
           81748,
           3458,
           1003,
           7444,
           956,
           14575,
           7195,
           18145,
           318,
           21717,
           14,
           201,
           66339,
           47715,
           13,
           63,
           3412,
           615,
           16,
           37,
           115,
           86354,
           9787,
           2,
           504,
           11,
           5,
           35,
           299,
           23,
           1157,
           38,
           457,
           231,
           60,
           1020,
           0,
           60,
           1,
           111,
           2098,
           971,
           1319,
           666,
           3,
           16,
           292,
           8087,
           183,
           83,
           22882,
           299,
           3,
           12775,
           983,
           29,
           175,
           33,
           14,
           3709,
           84,
           16,
           115,
           124,
           1083,
           14453,
           9,
           13,
           74,
           55,
           25,
           10771,
           24,
           9189,
           662,
           1147,
           16,
           0,
           729,
           8,
           6,
           115,
           2,
           2584,
           16,
           9,
           33,
           1,
           1,
           11,
           13,
           11,
           1001,
           2982,
           19
          ],
          "coloraxis": "coloraxis",
          "size": [
           1741147,
           1755,
           95532,
           216022,
           208134,
           10952618,
           422703,
           251970,
           50102,
           207580,
           55345,
           870843,
           41060,
           29682,
           423489,
           11740,
           82052,
           429421,
           4264,
           925549,
           34322,
           28351,
           10459,
           5519,
           5809,
           3614,
           9790,
           5754,
           483,
           13261,
           9403,
           55863,
           4002,
           4479,
           9604,
           40865,
           5326,
           1253,
           354439,
           12173,
           12970,
           673,
           70898,
           3913,
           9254,
           15420,
           638,
           20706,
           1868,
           6608,
           6984,
           909,
           2411,
           9202,
           3637,
           4792,
           2756,
           63,
           535,
           130262,
           3202,
           19497,
           316307,
           109,
           3615,
           14326,
           1162,
           899,
           34,
           18,
           1327,
           307,
           2860,
           205,
           509,
           3,
           51,
           10926,
           7954,
           31,
           159,
           85989,
           82578,
           739,
           48850,
           4,
           5428,
           263,
           66404,
           2129,
           6045,
           10152,
           167,
           82,
           1612,
           1621,
           493,
           7633,
           348,
           31394,
           81748,
           3458,
           1003,
           7444,
           956,
           14575,
           7195,
           18145,
           318,
           21717,
           14,
           201,
           66339,
           47715,
           13,
           63,
           3412,
           615,
           16,
           37,
           115,
           86354,
           9787,
           2,
           504,
           11,
           5,
           35,
           299,
           23,
           1157,
           38,
           457,
           231,
           60,
           1020,
           0,
           60,
           1,
           111,
           2098,
           971,
           1319,
           666,
           3,
           16,
           292,
           8087,
           183,
           83,
           22882,
           299,
           3,
           12775,
           983,
           29,
           175,
           33,
           14,
           3709,
           84,
           16,
           115,
           124,
           1083,
           14453,
           9,
           13,
           74,
           55,
           25,
           10771,
           24,
           9189,
           662,
           1147,
           16,
           0,
           729,
           8,
           6,
           115,
           2,
           2584,
           16,
           9,
           33,
           1,
           1,
           11,
           13,
           11,
           1001,
           2982,
           19
          ],
          "sizemode": "area",
          "sizeref": 17524.1888,
          "symbol": "circle"
         },
         "mode": "markers",
         "name": "",
         "showlegend": false,
         "type": "scattergeo"
        }
       ],
       "layout": {
        "coloraxis": {
         "colorbar": {
          "title": {
           "text": "Active Cases"
          }
         },
         "colorscale": [
          [
           0,
           "rgb(211, 242, 163)"
          ],
          [
           0.16666666666666666,
           "rgb(151, 225, 150)"
          ],
          [
           0.3333333333333333,
           "rgb(108, 192, 139)"
          ],
          [
           0.5,
           "rgb(76, 155, 130)"
          ],
          [
           0.6666666666666666,
           "rgb(33, 122, 121)"
          ],
          [
           0.8333333333333334,
           "rgb(16, 89, 101)"
          ],
          [
           1,
           "rgb(7, 64, 80)"
          ]
         ]
        },
        "geo": {
         "center": {},
         "domain": {
          "x": [
           0,
           1
          ],
          "y": [
           0,
           1
          ]
         },
         "scope": "world"
        },
        "legend": {
         "itemsizing": "constant",
         "tracegroupgap": 0
        },
        "template": {
         "data": {
          "bar": [
           {
            "error_x": {
             "color": "rgb(36,36,36)"
            },
            "error_y": {
             "color": "rgb(36,36,36)"
            },
            "marker": {
             "line": {
              "color": "rgb(234,234,242)",
              "width": 0.5
             },
             "pattern": {
              "fillmode": "overlay",
              "size": 10,
              "solidity": 0.2
             }
            },
            "type": "bar"
           }
          ],
          "barpolar": [
           {
            "marker": {
             "line": {
              "color": "rgb(234,234,242)",
              "width": 0.5
             },
             "pattern": {
              "fillmode": "overlay",
              "size": 10,
              "solidity": 0.2
             }
            },
            "type": "barpolar"
           }
          ],
          "carpet": [
           {
            "aaxis": {
             "endlinecolor": "rgb(36,36,36)",
             "gridcolor": "white",
             "linecolor": "white",
             "minorgridcolor": "white",
             "startlinecolor": "rgb(36,36,36)"
            },
            "baxis": {
             "endlinecolor": "rgb(36,36,36)",
             "gridcolor": "white",
             "linecolor": "white",
             "minorgridcolor": "white",
             "startlinecolor": "rgb(36,36,36)"
            },
            "type": "carpet"
           }
          ],
          "choropleth": [
           {
            "colorbar": {
             "outlinewidth": 0,
             "tickcolor": "rgb(36,36,36)",
             "ticklen": 8,
             "ticks": "outside",
             "tickwidth": 2
            },
            "type": "choropleth"
           }
          ],
          "contour": [
           {
            "colorbar": {
             "outlinewidth": 0,
             "tickcolor": "rgb(36,36,36)",
             "ticklen": 8,
             "ticks": "outside",
             "tickwidth": 2
            },
            "colorscale": [
             [
              0,
              "rgb(2,4,25)"
             ],
             [
              0.06274509803921569,
              "rgb(24,15,41)"
             ],
             [
              0.12549019607843137,
              "rgb(47,23,57)"
             ],
             [
              0.18823529411764706,
              "rgb(71,28,72)"
             ],
             [
              0.25098039215686274,
              "rgb(97,30,82)"
             ],
             [
              0.3137254901960784,
              "rgb(123,30,89)"
             ],
             [
              0.3764705882352941,
              "rgb(150,27,91)"
             ],
             [
              0.4392156862745098,
              "rgb(177,22,88)"
             ],
             [
              0.5019607843137255,
              "rgb(203,26,79)"
             ],
             [
              0.5647058823529412,
              "rgb(223,47,67)"
             ],
             [
              0.6274509803921569,
              "rgb(236,76,61)"
             ],
             [
              0.6901960784313725,
              "rgb(242,107,73)"
             ],
             [
              0.7529411764705882,
              "rgb(244,135,95)"
             ],
             [
              0.8156862745098039,
              "rgb(245,162,122)"
             ],
             [
              0.8784313725490196,
              "rgb(246,188,153)"
             ],
             [
              0.9411764705882353,
              "rgb(247,212,187)"
             ],
             [
              1,
              "rgb(250,234,220)"
             ]
            ],
            "type": "contour"
           }
          ],
          "contourcarpet": [
           {
            "colorbar": {
             "outlinewidth": 0,
             "tickcolor": "rgb(36,36,36)",
             "ticklen": 8,
             "ticks": "outside",
             "tickwidth": 2
            },
            "type": "contourcarpet"
           }
          ],
          "heatmap": [
           {
            "colorbar": {
             "outlinewidth": 0,
             "tickcolor": "rgb(36,36,36)",
             "ticklen": 8,
             "ticks": "outside",
             "tickwidth": 2
            },
            "colorscale": [
             [
              0,
              "rgb(2,4,25)"
             ],
             [
              0.06274509803921569,
              "rgb(24,15,41)"
             ],
             [
              0.12549019607843137,
              "rgb(47,23,57)"
             ],
             [
              0.18823529411764706,
              "rgb(71,28,72)"
             ],
             [
              0.25098039215686274,
              "rgb(97,30,82)"
             ],
             [
              0.3137254901960784,
              "rgb(123,30,89)"
             ],
             [
              0.3764705882352941,
              "rgb(150,27,91)"
             ],
             [
              0.4392156862745098,
              "rgb(177,22,88)"
             ],
             [
              0.5019607843137255,
              "rgb(203,26,79)"
             ],
             [
              0.5647058823529412,
              "rgb(223,47,67)"
             ],
             [
              0.6274509803921569,
              "rgb(236,76,61)"
             ],
             [
              0.6901960784313725,
              "rgb(242,107,73)"
             ],
             [
              0.7529411764705882,
              "rgb(244,135,95)"
             ],
             [
              0.8156862745098039,
              "rgb(245,162,122)"
             ],
             [
              0.8784313725490196,
              "rgb(246,188,153)"
             ],
             [
              0.9411764705882353,
              "rgb(247,212,187)"
             ],
             [
              1,
              "rgb(250,234,220)"
             ]
            ],
            "type": "heatmap"
           }
          ],
          "heatmapgl": [
           {
            "colorbar": {
             "outlinewidth": 0,
             "tickcolor": "rgb(36,36,36)",
             "ticklen": 8,
             "ticks": "outside",
             "tickwidth": 2
            },
            "colorscale": [
             [
              0,
              "rgb(2,4,25)"
             ],
             [
              0.06274509803921569,
              "rgb(24,15,41)"
             ],
             [
              0.12549019607843137,
              "rgb(47,23,57)"
             ],
             [
              0.18823529411764706,
              "rgb(71,28,72)"
             ],
             [
              0.25098039215686274,
              "rgb(97,30,82)"
             ],
             [
              0.3137254901960784,
              "rgb(123,30,89)"
             ],
             [
              0.3764705882352941,
              "rgb(150,27,91)"
             ],
             [
              0.4392156862745098,
              "rgb(177,22,88)"
             ],
             [
              0.5019607843137255,
              "rgb(203,26,79)"
             ],
             [
              0.5647058823529412,
              "rgb(223,47,67)"
             ],
             [
              0.6274509803921569,
              "rgb(236,76,61)"
             ],
             [
              0.6901960784313725,
              "rgb(242,107,73)"
             ],
             [
              0.7529411764705882,
              "rgb(244,135,95)"
             ],
             [
              0.8156862745098039,
              "rgb(245,162,122)"
             ],
             [
              0.8784313725490196,
              "rgb(246,188,153)"
             ],
             [
              0.9411764705882353,
              "rgb(247,212,187)"
             ],
             [
              1,
              "rgb(250,234,220)"
             ]
            ],
            "type": "heatmapgl"
           }
          ],
          "histogram": [
           {
            "marker": {
             "pattern": {
              "fillmode": "overlay",
              "size": 10,
              "solidity": 0.2
             }
            },
            "type": "histogram"
           }
          ],
          "histogram2d": [
           {
            "colorbar": {
             "outlinewidth": 0,
             "tickcolor": "rgb(36,36,36)",
             "ticklen": 8,
             "ticks": "outside",
             "tickwidth": 2
            },
            "colorscale": [
             [
              0,
              "rgb(2,4,25)"
             ],
             [
              0.06274509803921569,
              "rgb(24,15,41)"
             ],
             [
              0.12549019607843137,
              "rgb(47,23,57)"
             ],
             [
              0.18823529411764706,
              "rgb(71,28,72)"
             ],
             [
              0.25098039215686274,
              "rgb(97,30,82)"
             ],
             [
              0.3137254901960784,
              "rgb(123,30,89)"
             ],
             [
              0.3764705882352941,
              "rgb(150,27,91)"
             ],
             [
              0.4392156862745098,
              "rgb(177,22,88)"
             ],
             [
              0.5019607843137255,
              "rgb(203,26,79)"
             ],
             [
              0.5647058823529412,
              "rgb(223,47,67)"
             ],
             [
              0.6274509803921569,
              "rgb(236,76,61)"
             ],
             [
              0.6901960784313725,
              "rgb(242,107,73)"
             ],
             [
              0.7529411764705882,
              "rgb(244,135,95)"
             ],
             [
              0.8156862745098039,
              "rgb(245,162,122)"
             ],
             [
              0.8784313725490196,
              "rgb(246,188,153)"
             ],
             [
              0.9411764705882353,
              "rgb(247,212,187)"
             ],
             [
              1,
              "rgb(250,234,220)"
             ]
            ],
            "type": "histogram2d"
           }
          ],
          "histogram2dcontour": [
           {
            "colorbar": {
             "outlinewidth": 0,
             "tickcolor": "rgb(36,36,36)",
             "ticklen": 8,
             "ticks": "outside",
             "tickwidth": 2
            },
            "colorscale": [
             [
              0,
              "rgb(2,4,25)"
             ],
             [
              0.06274509803921569,
              "rgb(24,15,41)"
             ],
             [
              0.12549019607843137,
              "rgb(47,23,57)"
             ],
             [
              0.18823529411764706,
              "rgb(71,28,72)"
             ],
             [
              0.25098039215686274,
              "rgb(97,30,82)"
             ],
             [
              0.3137254901960784,
              "rgb(123,30,89)"
             ],
             [
              0.3764705882352941,
              "rgb(150,27,91)"
             ],
             [
              0.4392156862745098,
              "rgb(177,22,88)"
             ],
             [
              0.5019607843137255,
              "rgb(203,26,79)"
             ],
             [
              0.5647058823529412,
              "rgb(223,47,67)"
             ],
             [
              0.6274509803921569,
              "rgb(236,76,61)"
             ],
             [
              0.6901960784313725,
              "rgb(242,107,73)"
             ],
             [
              0.7529411764705882,
              "rgb(244,135,95)"
             ],
             [
              0.8156862745098039,
              "rgb(245,162,122)"
             ],
             [
              0.8784313725490196,
              "rgb(246,188,153)"
             ],
             [
              0.9411764705882353,
              "rgb(247,212,187)"
             ],
             [
              1,
              "rgb(250,234,220)"
             ]
            ],
            "type": "histogram2dcontour"
           }
          ],
          "mesh3d": [
           {
            "colorbar": {
             "outlinewidth": 0,
             "tickcolor": "rgb(36,36,36)",
             "ticklen": 8,
             "ticks": "outside",
             "tickwidth": 2
            },
            "type": "mesh3d"
           }
          ],
          "parcoords": [
           {
            "line": {
             "colorbar": {
              "outlinewidth": 0,
              "tickcolor": "rgb(36,36,36)",
              "ticklen": 8,
              "ticks": "outside",
              "tickwidth": 2
             }
            },
            "type": "parcoords"
           }
          ],
          "pie": [
           {
            "automargin": true,
            "type": "pie"
           }
          ],
          "scatter": [
           {
            "fillpattern": {
             "fillmode": "overlay",
             "size": 10,
             "solidity": 0.2
            },
            "type": "scatter"
           }
          ],
          "scatter3d": [
           {
            "line": {
             "colorbar": {
              "outlinewidth": 0,
              "tickcolor": "rgb(36,36,36)",
              "ticklen": 8,
              "ticks": "outside",
              "tickwidth": 2
             }
            },
            "marker": {
             "colorbar": {
              "outlinewidth": 0,
              "tickcolor": "rgb(36,36,36)",
              "ticklen": 8,
              "ticks": "outside",
              "tickwidth": 2
             }
            },
            "type": "scatter3d"
           }
          ],
          "scattercarpet": [
           {
            "marker": {
             "colorbar": {
              "outlinewidth": 0,
              "tickcolor": "rgb(36,36,36)",
              "ticklen": 8,
              "ticks": "outside",
              "tickwidth": 2
             }
            },
            "type": "scattercarpet"
           }
          ],
          "scattergeo": [
           {
            "marker": {
             "colorbar": {
              "outlinewidth": 0,
              "tickcolor": "rgb(36,36,36)",
              "ticklen": 8,
              "ticks": "outside",
              "tickwidth": 2
             }
            },
            "type": "scattergeo"
           }
          ],
          "scattergl": [
           {
            "marker": {
             "colorbar": {
              "outlinewidth": 0,
              "tickcolor": "rgb(36,36,36)",
              "ticklen": 8,
              "ticks": "outside",
              "tickwidth": 2
             }
            },
            "type": "scattergl"
           }
          ],
          "scattermapbox": [
           {
            "marker": {
             "colorbar": {
              "outlinewidth": 0,
              "tickcolor": "rgb(36,36,36)",
              "ticklen": 8,
              "ticks": "outside",
              "tickwidth": 2
             }
            },
            "type": "scattermapbox"
           }
          ],
          "scatterpolar": [
           {
            "marker": {
             "colorbar": {
              "outlinewidth": 0,
              "tickcolor": "rgb(36,36,36)",
              "ticklen": 8,
              "ticks": "outside",
              "tickwidth": 2
             }
            },
            "type": "scatterpolar"
           }
          ],
          "scatterpolargl": [
           {
            "marker": {
             "colorbar": {
              "outlinewidth": 0,
              "tickcolor": "rgb(36,36,36)",
              "ticklen": 8,
              "ticks": "outside",
              "tickwidth": 2
             }
            },
            "type": "scatterpolargl"
           }
          ],
          "scatterternary": [
           {
            "marker": {
             "colorbar": {
              "outlinewidth": 0,
              "tickcolor": "rgb(36,36,36)",
              "ticklen": 8,
              "ticks": "outside",
              "tickwidth": 2
             }
            },
            "type": "scatterternary"
           }
          ],
          "surface": [
           {
            "colorbar": {
             "outlinewidth": 0,
             "tickcolor": "rgb(36,36,36)",
             "ticklen": 8,
             "ticks": "outside",
             "tickwidth": 2
            },
            "colorscale": [
             [
              0,
              "rgb(2,4,25)"
             ],
             [
              0.06274509803921569,
              "rgb(24,15,41)"
             ],
             [
              0.12549019607843137,
              "rgb(47,23,57)"
             ],
             [
              0.18823529411764706,
              "rgb(71,28,72)"
             ],
             [
              0.25098039215686274,
              "rgb(97,30,82)"
             ],
             [
              0.3137254901960784,
              "rgb(123,30,89)"
             ],
             [
              0.3764705882352941,
              "rgb(150,27,91)"
             ],
             [
              0.4392156862745098,
              "rgb(177,22,88)"
             ],
             [
              0.5019607843137255,
              "rgb(203,26,79)"
             ],
             [
              0.5647058823529412,
              "rgb(223,47,67)"
             ],
             [
              0.6274509803921569,
              "rgb(236,76,61)"
             ],
             [
              0.6901960784313725,
              "rgb(242,107,73)"
             ],
             [
              0.7529411764705882,
              "rgb(244,135,95)"
             ],
             [
              0.8156862745098039,
              "rgb(245,162,122)"
             ],
             [
              0.8784313725490196,
              "rgb(246,188,153)"
             ],
             [
              0.9411764705882353,
              "rgb(247,212,187)"
             ],
             [
              1,
              "rgb(250,234,220)"
             ]
            ],
            "type": "surface"
           }
          ],
          "table": [
           {
            "cells": {
             "fill": {
              "color": "rgb(231,231,240)"
             },
             "line": {
              "color": "white"
             }
            },
            "header": {
             "fill": {
              "color": "rgb(183,183,191)"
             },
             "line": {
              "color": "white"
             }
            },
            "type": "table"
           }
          ]
         },
         "layout": {
          "annotationdefaults": {
           "arrowcolor": "rgb(67,103,167)"
          },
          "autotypenumbers": "strict",
          "coloraxis": {
           "colorbar": {
            "outlinewidth": 0,
            "tickcolor": "rgb(36,36,36)",
            "ticklen": 8,
            "ticks": "outside",
            "tickwidth": 2
           }
          },
          "colorscale": {
           "sequential": [
            [
             0,
             "rgb(2,4,25)"
            ],
            [
             0.06274509803921569,
             "rgb(24,15,41)"
            ],
            [
             0.12549019607843137,
             "rgb(47,23,57)"
            ],
            [
             0.18823529411764706,
             "rgb(71,28,72)"
            ],
            [
             0.25098039215686274,
             "rgb(97,30,82)"
            ],
            [
             0.3137254901960784,
             "rgb(123,30,89)"
            ],
            [
             0.3764705882352941,
             "rgb(150,27,91)"
            ],
            [
             0.4392156862745098,
             "rgb(177,22,88)"
            ],
            [
             0.5019607843137255,
             "rgb(203,26,79)"
            ],
            [
             0.5647058823529412,
             "rgb(223,47,67)"
            ],
            [
             0.6274509803921569,
             "rgb(236,76,61)"
            ],
            [
             0.6901960784313725,
             "rgb(242,107,73)"
            ],
            [
             0.7529411764705882,
             "rgb(244,135,95)"
            ],
            [
             0.8156862745098039,
             "rgb(245,162,122)"
            ],
            [
             0.8784313725490196,
             "rgb(246,188,153)"
            ],
            [
             0.9411764705882353,
             "rgb(247,212,187)"
            ],
            [
             1,
             "rgb(250,234,220)"
            ]
           ],
           "sequentialminus": [
            [
             0,
             "rgb(2,4,25)"
            ],
            [
             0.06274509803921569,
             "rgb(24,15,41)"
            ],
            [
             0.12549019607843137,
             "rgb(47,23,57)"
            ],
            [
             0.18823529411764706,
             "rgb(71,28,72)"
            ],
            [
             0.25098039215686274,
             "rgb(97,30,82)"
            ],
            [
             0.3137254901960784,
             "rgb(123,30,89)"
            ],
            [
             0.3764705882352941,
             "rgb(150,27,91)"
            ],
            [
             0.4392156862745098,
             "rgb(177,22,88)"
            ],
            [
             0.5019607843137255,
             "rgb(203,26,79)"
            ],
            [
             0.5647058823529412,
             "rgb(223,47,67)"
            ],
            [
             0.6274509803921569,
             "rgb(236,76,61)"
            ],
            [
             0.6901960784313725,
             "rgb(242,107,73)"
            ],
            [
             0.7529411764705882,
             "rgb(244,135,95)"
            ],
            [
             0.8156862745098039,
             "rgb(245,162,122)"
            ],
            [
             0.8784313725490196,
             "rgb(246,188,153)"
            ],
            [
             0.9411764705882353,
             "rgb(247,212,187)"
            ],
            [
             1,
             "rgb(250,234,220)"
            ]
           ]
          },
          "colorway": [
           "rgb(76,114,176)",
           "rgb(221,132,82)",
           "rgb(85,168,104)",
           "rgb(196,78,82)",
           "rgb(129,114,179)",
           "rgb(147,120,96)",
           "rgb(218,139,195)",
           "rgb(140,140,140)",
           "rgb(204,185,116)",
           "rgb(100,181,205)"
          ],
          "font": {
           "color": "rgb(36,36,36)"
          },
          "geo": {
           "bgcolor": "white",
           "lakecolor": "white",
           "landcolor": "rgb(234,234,242)",
           "showlakes": true,
           "showland": true,
           "subunitcolor": "white"
          },
          "hoverlabel": {
           "align": "left"
          },
          "hovermode": "closest",
          "paper_bgcolor": "white",
          "plot_bgcolor": "rgb(234,234,242)",
          "polar": {
           "angularaxis": {
            "gridcolor": "white",
            "linecolor": "white",
            "showgrid": true,
            "ticks": ""
           },
           "bgcolor": "rgb(234,234,242)",
           "radialaxis": {
            "gridcolor": "white",
            "linecolor": "white",
            "showgrid": true,
            "ticks": ""
           }
          },
          "scene": {
           "xaxis": {
            "backgroundcolor": "rgb(234,234,242)",
            "gridcolor": "white",
            "gridwidth": 2,
            "linecolor": "white",
            "showbackground": true,
            "showgrid": true,
            "ticks": "",
            "zerolinecolor": "white"
           },
           "yaxis": {
            "backgroundcolor": "rgb(234,234,242)",
            "gridcolor": "white",
            "gridwidth": 2,
            "linecolor": "white",
            "showbackground": true,
            "showgrid": true,
            "ticks": "",
            "zerolinecolor": "white"
           },
           "zaxis": {
            "backgroundcolor": "rgb(234,234,242)",
            "gridcolor": "white",
            "gridwidth": 2,
            "linecolor": "white",
            "showbackground": true,
            "showgrid": true,
            "ticks": "",
            "zerolinecolor": "white"
           }
          },
          "shapedefaults": {
           "fillcolor": "rgb(67,103,167)",
           "line": {
            "width": 0
           },
           "opacity": 0.5
          },
          "ternary": {
           "aaxis": {
            "gridcolor": "white",
            "linecolor": "white",
            "showgrid": true,
            "ticks": ""
           },
           "baxis": {
            "gridcolor": "white",
            "linecolor": "white",
            "showgrid": true,
            "ticks": ""
           },
           "bgcolor": "rgb(234,234,242)",
           "caxis": {
            "gridcolor": "white",
            "linecolor": "white",
            "showgrid": true,
            "ticks": ""
           }
          },
          "xaxis": {
           "automargin": true,
           "gridcolor": "white",
           "linecolor": "white",
           "showgrid": true,
           "ticks": "",
           "title": {
            "standoff": 15
           },
           "zerolinecolor": "white"
          },
          "yaxis": {
           "automargin": true,
           "gridcolor": "white",
           "linecolor": "white",
           "showgrid": true,
           "ticks": "",
           "title": {
            "standoff": 15
           },
           "zerolinecolor": "white"
          }
         }
        },
        "title": {
         "text": "Covid-19: Active Cases Around the Globe"
        }
       }
      }
     },
     "metadata": {},
     "output_type": "display_data"
    }
   ],
   "source": [
    "fig = px.scatter_geo(data, locations='Country',locationmode=\"country names\",scope=\"world\",color=\"Active Cases\",size=\"Active Cases\",size_max=25,title=\"Covid-19: Active Cases Around the Globe\",template='seaborn',color_continuous_scale=\"emrld\")\n",
    "fig.show()"
   ]
  },
  {
   "cell_type": "code",
   "execution_count": 65,
   "metadata": {},
   "outputs": [
    {
     "data": {
      "text/html": [
       "<div>\n",
       "<style scoped>\n",
       "    .dataframe tbody tr th:only-of-type {\n",
       "        vertical-align: middle;\n",
       "    }\n",
       "\n",
       "    .dataframe tbody tr th {\n",
       "        vertical-align: top;\n",
       "    }\n",
       "\n",
       "    .dataframe thead th {\n",
       "        text-align: right;\n",
       "    }\n",
       "</style>\n",
       "<table border=\"1\" class=\"dataframe\">\n",
       "  <thead>\n",
       "    <tr style=\"text-align: right;\">\n",
       "      <th></th>\n",
       "      <th>Total Deaths</th>\n",
       "      <th>Country</th>\n",
       "    </tr>\n",
       "  </thead>\n",
       "  <tbody>\n",
       "    <tr>\n",
       "      <th>216</th>\n",
       "      <td>1</td>\n",
       "      <td>Nauru</td>\n",
       "    </tr>\n",
       "    <tr>\n",
       "      <th>209</th>\n",
       "      <td>2</td>\n",
       "      <td>Cook Islands</td>\n",
       "    </tr>\n",
       "    <tr>\n",
       "      <th>219</th>\n",
       "      <td>2</td>\n",
       "      <td>Saint Pierre Miquelon</td>\n",
       "    </tr>\n",
       "    <tr>\n",
       "      <th>220</th>\n",
       "      <td>7</td>\n",
       "      <td>Wallis and Futuna</td>\n",
       "    </tr>\n",
       "    <tr>\n",
       "      <th>224</th>\n",
       "      <td>8</td>\n",
       "      <td>Montserrat</td>\n",
       "    </tr>\n",
       "    <tr>\n",
       "      <th>213</th>\n",
       "      <td>9</td>\n",
       "      <td>Palau</td>\n",
       "    </tr>\n",
       "    <tr>\n",
       "      <th>217</th>\n",
       "      <td>12</td>\n",
       "      <td>Anguilla</td>\n",
       "    </tr>\n",
       "    <tr>\n",
       "      <th>185</th>\n",
       "      <td>13</td>\n",
       "      <td>Tonga</td>\n",
       "    </tr>\n",
       "    <tr>\n",
       "      <th>194</th>\n",
       "      <td>14</td>\n",
       "      <td>Vanuatu</td>\n",
       "    </tr>\n",
       "    <tr>\n",
       "      <th>147</th>\n",
       "      <td>21</td>\n",
       "      <td>Bhutan</td>\n",
       "    </tr>\n",
       "  </tbody>\n",
       "</table>\n",
       "</div>"
      ],
      "text/plain": [
       "     Total Deaths                Country\n",
       "216             1                  Nauru\n",
       "209             2           Cook Islands\n",
       "219             2  Saint Pierre Miquelon\n",
       "220             7      Wallis and Futuna\n",
       "224             8             Montserrat\n",
       "213             9                  Palau\n",
       "217            12               Anguilla\n",
       "185            13                  Tonga\n",
       "194            14                Vanuatu\n",
       "147            21                 Bhutan"
      ]
     },
     "execution_count": 65,
     "metadata": {},
     "output_type": "execute_result"
    }
   ],
   "source": [
    "least_deaths = data[['Total Deaths', 'Country']].sort_values(by=\"Total Deaths\",ascending=True)\n",
    "least_deaths = least_deaths.head(10)\n",
    "least_deaths"
   ]
  },
  {
   "cell_type": "code",
   "execution_count": 68,
   "metadata": {},
   "outputs": [
    {
     "data": {
      "text/html": [
       "<div>\n",
       "<style scoped>\n",
       "    .dataframe tbody tr th:only-of-type {\n",
       "        vertical-align: middle;\n",
       "    }\n",
       "\n",
       "    .dataframe tbody tr th {\n",
       "        vertical-align: top;\n",
       "    }\n",
       "\n",
       "    .dataframe thead th {\n",
       "        text-align: right;\n",
       "    }\n",
       "</style>\n",
       "<table border=\"1\" class=\"dataframe\">\n",
       "  <thead>\n",
       "    <tr style=\"text-align: right;\">\n",
       "      <th></th>\n",
       "      <th>Total Deaths</th>\n",
       "      <th>Country</th>\n",
       "    </tr>\n",
       "  </thead>\n",
       "  <tbody>\n",
       "    <tr>\n",
       "      <th>2</th>\n",
       "      <td>164233</td>\n",
       "      <td>France</td>\n",
       "    </tr>\n",
       "    <tr>\n",
       "      <th>3</th>\n",
       "      <td>165711</td>\n",
       "      <td>Germany</td>\n",
       "    </tr>\n",
       "    <tr>\n",
       "      <th>7</th>\n",
       "      <td>186833</td>\n",
       "      <td>Italy</td>\n",
       "    </tr>\n",
       "    <tr>\n",
       "      <th>8</th>\n",
       "      <td>204171</td>\n",
       "      <td>UK</td>\n",
       "    </tr>\n",
       "    <tr>\n",
       "      <th>34</th>\n",
       "      <td>218931</td>\n",
       "      <td>Peru</td>\n",
       "    </tr>\n",
       "    <tr>\n",
       "      <th>18</th>\n",
       "      <td>332198</td>\n",
       "      <td>Mexico</td>\n",
       "    </tr>\n",
       "    <tr>\n",
       "      <th>9</th>\n",
       "      <td>395108</td>\n",
       "      <td>Russia</td>\n",
       "    </tr>\n",
       "    <tr>\n",
       "      <th>1</th>\n",
       "      <td>530740</td>\n",
       "      <td>India</td>\n",
       "    </tr>\n",
       "    <tr>\n",
       "      <th>4</th>\n",
       "      <td>697074</td>\n",
       "      <td>Brazil</td>\n",
       "    </tr>\n",
       "    <tr>\n",
       "      <th>0</th>\n",
       "      <td>1132935</td>\n",
       "      <td>USA</td>\n",
       "    </tr>\n",
       "  </tbody>\n",
       "</table>\n",
       "</div>"
      ],
      "text/plain": [
       "    Total Deaths  Country\n",
       "2         164233   France\n",
       "3         165711  Germany\n",
       "7         186833    Italy\n",
       "8         204171       UK\n",
       "34        218931     Peru\n",
       "18        332198   Mexico\n",
       "9         395108   Russia\n",
       "1         530740    India\n",
       "4         697074   Brazil\n",
       "0        1132935      USA"
      ]
     },
     "execution_count": 68,
     "metadata": {},
     "output_type": "execute_result"
    }
   ],
   "source": [
    "most_deaths = data[['Total Deaths', 'Country']].sort_values(by=\"Total Deaths\",ascending=False)\n",
    "most_deaths = most_deaths.head(10)\n",
    "most_deaths = most_deaths.sort_values(by=\"Total Deaths\", ascending=True)\n",
    "most_deaths"
   ]
  },
  {
   "cell_type": "code",
   "execution_count": 77,
   "metadata": {},
   "outputs": [
    {
     "data": {
      "image/png": "[encoded data removed]",
      "text/plain": [
       "<Figure size 800x800 with 1 Axes>"
      ]
     },
     "metadata": {},
     "output_type": "display_data"
    }
   ],
   "source": [
    "plt.figure(figsize=(8,8))\n",
    "graph=sns.barplot(y='Total Deaths',x='Country', color=\"lightgreen\",data=least_deaths)\n",
    "graph.set_title('Covid 19: Countries with least deaths')\n",
    "plt.xticks(rotation=85)\n",
    "plt.savefig('least_bar.png')\n",
    "plt.show()"
   ]
  },
  {
   "cell_type": "code",
   "execution_count": 79,
   "metadata": {},
   "outputs": [
    {
     "data": {
      "image/png": "[encoded data removed]",
      "text/plain": [
       "<Figure size 800x800 with 1 Axes>"
      ]
     },
     "metadata": {},
     "output_type": "display_data"
    }
   ],
   "source": [
    "plt.figure(figsize=(8,8))\n",
    "graph=sns.barplot(y='Total Deaths',x='Country', color=\"indianred\",data=most_deaths)\n",
    "graph.set_title('Covid 19: Countries with most deaths')\n",
    "plt.xticks(rotation=85)\n",
    "plt.savefig('most_bar.png')\n",
    "plt.show()"
   ]
  },
  {
   "cell_type": "code",
   "execution_count": 83,
   "metadata": {},
   "outputs": [
    {
     "data": {
      "text/html": [
       "<div>\n",
       "<style scoped>\n",
       "    .dataframe tbody tr th:only-of-type {\n",
       "        vertical-align: middle;\n",
       "    }\n",
       "\n",
       "    .dataframe tbody tr th {\n",
       "        vertical-align: top;\n",
       "    }\n",
       "\n",
       "    .dataframe thead th {\n",
       "        text-align: right;\n",
       "    }\n",
       "</style>\n",
       "<table border=\"1\" class=\"dataframe\">\n",
       "  <thead>\n",
       "    <tr style=\"text-align: right;\">\n",
       "      <th></th>\n",
       "      <th>Total Deaths</th>\n",
       "      <th>Country</th>\n",
       "      <th>Total Recovered</th>\n",
       "    </tr>\n",
       "  </thead>\n",
       "  <tbody>\n",
       "    <tr>\n",
       "      <th>0</th>\n",
       "      <td>1132935</td>\n",
       "      <td>USA</td>\n",
       "      <td>101322779</td>\n",
       "    </tr>\n",
       "    <tr>\n",
       "      <th>4</th>\n",
       "      <td>697074</td>\n",
       "      <td>Brazil</td>\n",
       "      <td>35919372</td>\n",
       "    </tr>\n",
       "    <tr>\n",
       "      <th>1</th>\n",
       "      <td>530740</td>\n",
       "      <td>India</td>\n",
       "      <td>44150289</td>\n",
       "    </tr>\n",
       "    <tr>\n",
       "      <th>9</th>\n",
       "      <td>395108</td>\n",
       "      <td>Russia</td>\n",
       "      <td>21356008</td>\n",
       "    </tr>\n",
       "    <tr>\n",
       "      <th>18</th>\n",
       "      <td>332198</td>\n",
       "      <td>Mexico</td>\n",
       "      <td>6606633</td>\n",
       "    </tr>\n",
       "    <tr>\n",
       "      <th>34</th>\n",
       "      <td>218931</td>\n",
       "      <td>Peru</td>\n",
       "      <td>4258688</td>\n",
       "    </tr>\n",
       "    <tr>\n",
       "      <th>8</th>\n",
       "      <td>204171</td>\n",
       "      <td>UK</td>\n",
       "      <td>24020088</td>\n",
       "    </tr>\n",
       "    <tr>\n",
       "      <th>7</th>\n",
       "      <td>186833</td>\n",
       "      <td>Italy</td>\n",
       "      <td>25014986</td>\n",
       "    </tr>\n",
       "    <tr>\n",
       "      <th>3</th>\n",
       "      <td>165711</td>\n",
       "      <td>Germany</td>\n",
       "      <td>37398100</td>\n",
       "    </tr>\n",
       "    <tr>\n",
       "      <th>2</th>\n",
       "      <td>164233</td>\n",
       "      <td>France</td>\n",
       "      <td>39264546</td>\n",
       "    </tr>\n",
       "  </tbody>\n",
       "</table>\n",
       "</div>"
      ],
      "text/plain": [
       "    Total Deaths  Country  Total Recovered\n",
       "0        1132935      USA        101322779\n",
       "4         697074   Brazil         35919372\n",
       "1         530740    India         44150289\n",
       "9         395108   Russia         21356008\n",
       "18        332198   Mexico          6606633\n",
       "34        218931     Peru          4258688\n",
       "8         204171       UK         24020088\n",
       "7         186833    Italy         25014986\n",
       "3         165711  Germany         37398100\n",
       "2         164233   France         39264546"
      ]
     },
     "execution_count": 83,
     "metadata": {},
     "output_type": "execute_result"
    }
   ],
   "source": [
    "compare = data[['Total Deaths', 'Country','Total Recovered']].sort_values(by=\"Total Deaths\",ascending=False)\n",
    "compare = compare.head(10)\n",
    "compare.head(10)"
   ]
  },
  {
   "cell_type": "code",
   "execution_count": 85,
   "metadata": {},
   "outputs": [
    {
     "data": {
      "image/png": "[encoded data removed]",
      "text/plain": [
       "<Figure size 1400x1000 with 1 Axes>"
      ]
     },
     "metadata": {},
     "output_type": "display_data"
    }
   ],
   "source": [
    "plt.figure(figsize=(14, 10))\n",
    "\n",
    "sns.scatterplot(data=compare, x='Total Deaths', y='Total Recovered', hue='Country')\n",
    "\n",
    "plt.xlabel('Total Deaths')\n",
    "plt.ylabel('Total Recovered')\n",
    "plt.title('Covid 19: Relation between Total Deaths and Total Recovered')\n",
    "\n",
    "plt.legend(bbox_to_anchor=(1.05, 1), loc='upper left')\n",
    "for index, row in compare.iterrows():\n",
    "    plt.text(row['Total Deaths'] + 10000, row['Total Recovered'] + 10000, row['Country'])\n",
    "plt.savefig('death_to_recovered.png')\n",
    "plt.show()"
   ]
  },
  {
   "cell_type": "code",
   "execution_count": 120,
   "metadata": {},
   "outputs": [
    {
     "data": {
      "application/vnd.plotly.v1+json": {
       "config": {
        "plotlyServerURL": "https://plot.ly"
       },
       "data": [
        {
         "hovertemplate": "Total Deaths=%{x}<br>Total Recovered=%{marker.size}<extra></extra>",
         "legendgroup": "",
         "marker": {
          "color": "#636efa",
          "size": [
           101322779,
           44150289,
           39264546,
           37398100,
           35919372,
           21567425,
           29740877,
           25014986,
           24020088,
           21356008,
           13557699,
           10612479,
           11235771,
           9877032,
           9129766,
           8547771,
           7337549,
           6606633,
           6565208,
           5335940,
           6179501,
           5730189,
           5662212,
           5532366,
           5253302,
           5051555,
           4989861,
           4768242,
           4692636,
           4644681,
           4538304,
           4444013,
           4258688,
           4366770,
           3998048,
           3912506,
           3252104,
           3163849,
           2509483,
           2658039,
           2440527,
           2439497,
           2144490,
           2139857,
           2169320,
           1992694,
           1839309,
           1776548,
           1731007,
           1685183,
           1538689,
           1471835,
           1447569,
           1383020,
           1311159,
           1282528,
           1254491,
           1255881,
           1249168,
           1087587,
           1204545,
           1146143,
           860711,
           1103799,
           1011682,
           1032735,
           1023939,
           1020206,
           1005658,
           989064,
           985592,
           968830,
           815528,
           817654,
           698400,
           655158,
           660237,
           644785,
           633422,
           614299,
           615445,
           524990,
           504142,
           545003,
           442182,
           500721,
           486531,
           491585,
           418572,
           435162,
           379084,
           384669,
           336623,
           337040,
           335104,
           328951,
           325934,
           288991,
           283210,
           243601,
           182749,
           259850,
           254951,
           241486,
           228805,
           186088,
           196406,
           179410,
           183264,
           163687,
           169636,
           166452,
           100431,
           102212,
           135624,
           131559,
           118616,
           115623,
           105570,
           103216,
           100778,
           11254,
           84264,
           86929,
           85369,
           87138,
           79526,
           72676,
           71357,
           69949,
           66780,
           66370,
           58284,
           62437,
           62756,
           61564,
           54289,
           53394,
           48674,
           47563,
           43982,
           44720,
           42438,
           39943,
           39061,
           37757,
           36366,
           25980,
           33033,
           31957,
           8553,
           29095,
           27823,
           13182,
           24006,
           23276,
           23102,
           21596,
           21237,
           16579,
           19358,
           18593,
           18115,
           16883,
           15638,
           1605,
           15982,
           15673,
           15427,
           15200,
           12189,
           1399,
           11976,
           2761,
           9124,
           10476,
           10905,
           10086,
           8890,
           9454,
           8954,
           8656,
           7766,
           4874,
           6993,
           6537,
           6451,
           6202,
           5976,
           4609,
           3879,
           3357,
           2449,
           438,
           1376
          ],
          "sizemode": "area",
          "sizeref": 253306.9475,
          "symbol": "circle"
         },
         "mode": "markers",
         "name": "",
         "orientation": "v",
         "showlegend": false,
         "type": "scatter",
         "x": [
          1132935,
          530740,
          164233,
          165711,
          697074,
          68399,
          33486,
          186833,
          204171,
          395108,
          118434,
          43186,
          18615,
          130421,
          16356,
          22989,
          144749,
          332198,
          160817,
          118736,
          142486,
          21689,
          35630,
          26022,
          111020,
          63812,
          36942,
          12193,
          33865,
          33557,
          42312,
          50380,
          218931,
          14452,
          65802,
          102595,
          67576,
          8145,
          13358,
          23246,
          17701,
          25375,
          1722,
          48677,
          3781,
          29442,
          20946,
          16926,
          14122,
          8462,
          30640,
          5112,
          8639,
          13695,
          7056,
          9545,
          38179,
          16296,
          17877,
          10790,
          20106,
          22346,
          9158,
          8530,
          35942,
          2348,
          7609,
          8596,
          2179,
          12020,
          7118,
          6218,
          9574,
          10085,
          1543,
          16828,
          2570,
          4384,
          1287,
          19490,
          5404,
          2912,
          11953,
          5845,
          24613,
          6437,
          7572,
          686,
          919,
          8717,
          16255,
          4628,
          9638,
          5688,
          4047,
          3595,
          2800,
          1133,
          2797,
          225,
          6881,
          3155,
          5652,
          1637,
          2233,
          7882,
          2991,
          4230,
          4326,
          311,
          1462,
          4088,
          3630,
          3480,
          3056,
          1468,
          1965,
          824,
          571,
          1931,
          223,
          420,
          1463,
          1971,
          2686,
          833,
          314,
          1422,
          1294,
          688,
          883,
          1419,
          5001,
          997,
          413,
          21,
          3164,
          38,
          306,
          165,
          670,
          295,
          236,
          1043,
          290,
          467,
          833,
          723,
          860,
          743,
          37,
          409,
          163,
          1361,
          386,
          122,
          138,
          396,
          89,
          111,
          238,
          157,
          138,
          183,
          13,
          29,
          65,
          74,
          189,
          113,
          372,
          63,
          14,
          21,
          2159,
          38,
          89,
          103,
          312,
          123,
          146,
          176,
          294,
          194,
          2,
          46,
          38,
          77,
          9,
          1,
          12,
          120,
          2,
          7,
          8
         ],
         "xaxis": "x",
         "y": [
          101322779,
          44150289,
          39264546,
          37398100,
          35919372,
          21567425,
          29740877,
          25014986,
          24020088,
          21356008,
          13557699,
          10612479,
          11235771,
          9877032,
          9129766,
          8547771,
          7337549,
          6606633,
          6565208,
          5335940,
          6179501,
          5730189,
          5662212,
          5532366,
          5253302,
          5051555,
          4989861,
          4768242,
          4692636,
          4644681,
          4538304,
          4444013,
          4258688,
          4366770,
          3998048,
          3912506,
          3252104,
          3163849,
          2509483,
          2658039,
          2440527,
          2439497,
          2144490,
          2139857,
          2169320,
          1992694,
          1839309,
          1776548,
          1731007,
          1685183,
          1538689,
          1471835,
          1447569,
          1383020,
          1311159,
          1282528,
          1254491,
          1255881,
          1249168,
          1087587,
          1204545,
          1146143,
          860711,
          1103799,
          1011682,
          1032735,
          1023939,
          1020206,
          1005658,
          989064,
          985592,
          968830,
          815528,
          817654,
          698400,
          655158,
          660237,
          644785,
          633422,
          614299,
          615445,
          524990,
          504142,
          545003,
          442182,
          500721,
          486531,
          491585,
          418572,
          435162,
          379084,
          384669,
          336623,
          337040,
          335104,
          328951,
          325934,
          288991,
          283210,
          243601,
          182749,
          259850,
          254951,
          241486,
          228805,
          186088,
          196406,
          179410,
          183264,
          163687,
          169636,
          166452,
          100431,
          102212,
          135624,
          131559,
          118616,
          115623,
          105570,
          103216,
          100778,
          11254,
          84264,
          86929,
          85369,
          87138,
          79526,
          72676,
          71357,
          69949,
          66780,
          66370,
          58284,
          62437,
          62756,
          61564,
          54289,
          53394,
          48674,
          47563,
          43982,
          44720,
          42438,
          39943,
          39061,
          37757,
          36366,
          25980,
          33033,
          31957,
          8553,
          29095,
          27823,
          13182,
          24006,
          23276,
          23102,
          21596,
          21237,
          16579,
          19358,
          18593,
          18115,
          16883,
          15638,
          1605,
          15982,
          15673,
          15427,
          15200,
          12189,
          1399,
          11976,
          2761,
          9124,
          10476,
          10905,
          10086,
          8890,
          9454,
          8954,
          8656,
          7766,
          4874,
          6993,
          6537,
          6451,
          6202,
          5976,
          4609,
          3879,
          3357,
          2449,
          438,
          1376
         ],
         "yaxis": "y"
        },
        {
         "hovertemplate": "<b>OLS trendline</b><br>Total Recovered = 77.457 * Total Deaths + 580219<br>R<sup>2</sup>=0.783576<br><br>Total Deaths=%{x}<br>Total Recovered=%{y} <b>(trend)</b><extra></extra>",
         "legendgroup": "",
         "marker": {
          "color": "#636efa",
          "symbol": "circle"
         },
         "mode": "lines",
         "name": "",
         "showlegend": false,
         "type": "scatter",
         "x": [
          1,
          2,
          2,
          7,
          8,
          9,
          12,
          13,
          14,
          21,
          21,
          29,
          37,
          38,
          38,
          38,
          46,
          63,
          65,
          74,
          77,
          89,
          89,
          103,
          111,
          113,
          120,
          122,
          123,
          138,
          138,
          146,
          157,
          163,
          165,
          176,
          183,
          189,
          194,
          223,
          225,
          236,
          238,
          290,
          294,
          295,
          306,
          311,
          312,
          314,
          372,
          386,
          396,
          409,
          413,
          420,
          467,
          571,
          670,
          686,
          688,
          723,
          743,
          824,
          833,
          833,
          860,
          883,
          919,
          997,
          1043,
          1133,
          1287,
          1294,
          1361,
          1419,
          1422,
          1462,
          1463,
          1468,
          1543,
          1637,
          1722,
          1931,
          1965,
          1971,
          2159,
          2179,
          2233,
          2348,
          2570,
          2686,
          2797,
          2800,
          2912,
          2991,
          3056,
          3155,
          3164,
          3480,
          3595,
          3630,
          3781,
          4047,
          4088,
          4230,
          4326,
          4384,
          4628,
          5001,
          5112,
          5404,
          5652,
          5688,
          5845,
          6218,
          6437,
          6881,
          7056,
          7118,
          7572,
          7609,
          7882,
          8145,
          8462,
          8530,
          8596,
          8639,
          8717,
          9158,
          9545,
          9574,
          9638,
          10085,
          10790,
          11953,
          12020,
          12193,
          13358,
          13695,
          14122,
          14452,
          16255,
          16296,
          16356,
          16828,
          16926,
          17701,
          17877,
          18615,
          19490,
          20106,
          20946,
          21689,
          22346,
          22989,
          23246,
          24613,
          25375,
          26022,
          29442,
          30640,
          33486,
          33557,
          33865,
          35630,
          35942,
          36942,
          38179,
          42312,
          43186,
          48677,
          50380,
          63812,
          65802,
          67576,
          68399,
          102595,
          111020,
          118434,
          118736,
          130421,
          142486,
          144749,
          160817,
          164233,
          165711,
          186833,
          204171,
          218931,
          332198,
          395108,
          530740,
          697074,
          1132935
         ],
         "xaxis": "x",
         "y": [
          580296.1669285063,
          580373.6239094427,
          580373.6239094427,
          580760.9088141241,
          580838.3657950604,
          580915.8227759966,
          581148.1937188056,
          581225.6506997418,
          581303.1076806781,
          581845.3065472321,
          581845.3065472321,
          582464.9623947224,
          583084.6182422126,
          583162.0752231489,
          583162.0752231489,
          583162.0752231489,
          583781.7310706392,
          585098.499746556,
          585253.4137084286,
          585950.5265368551,
          586182.897479664,
          587112.3812508994,
          587112.3812508994,
          588196.7789840074,
          588816.4348314976,
          588971.3487933702,
          589513.5476599243,
          589668.4616217968,
          589745.918602733,
          590907.7733167773,
          590907.7733167773,
          591527.4291642676,
          592379.4559545667,
          592844.1978401844,
          592999.111802057,
          593851.1385923561,
          594393.3374589102,
          594858.0793445278,
          595245.3642492093,
          597491.6166963615,
          597646.530658234,
          598498.5574485332,
          598653.4714104058,
          602681.2344190925,
          602991.0623428377,
          603068.5193237739,
          603920.5461140731,
          604307.8310187545,
          604385.2879996909,
          604540.2019615634,
          609032.7068558679,
          610117.1045889759,
          610891.6743983387,
          611898.6151505103,
          612208.4430742555,
          612750.6419408096,
          616391.1200448149,
          624446.6460621884,
          632114.8871748806,
          633354.1988698611,
          633509.1128317337,
          636220.1071645037,
          637769.2467832293,
          644043.2622390684,
          644740.3750674949,
          644740.3750674949,
          646831.7135527746,
          648613.2241143092,
          651401.6754280154,
          657443.3199410455,
          661006.3410641146,
          667977.4693483802,
          679905.844412568,
          680448.043279122,
          685637.6610018531,
          690130.1658961575,
          690362.5368389664,
          693460.8160764177,
          693538.273057354,
          693925.5579620354,
          699734.8315322568,
          707015.7877402675,
          713599.6311198516,
          729788.140135535,
          732421.6774873687,
          732886.4193729864,
          747448.3317890079,
          748997.4714077336,
          753180.1483782929,
          762087.7011859656,
          779283.1509538207,
          788268.1607424297,
          796865.8856263573,
          797098.2565691661,
          805773.4384340299,
          811892.5399279965,
          816927.2436888549,
          824595.484801547,
          825292.5976299735,
          849769.0036058393,
          858676.5564135121,
          861387.5507462821,
          873083.554867661,
          893687.1117967126,
          896862.8480151002,
          907861.7393080527,
          915297.6094779359,
          919790.1143722404,
          938689.6177206938,
          967581.0716099278,
          976178.7964938553,
          998796.2349272503,
          1018005.5661994489,
          1020794.0175131551,
          1032954.7635201517,
          1061846.2174093858,
          1078809.2962344321,
          1113200.1957701421,
          1126755.167433992,
          1131557.5002520415,
          1166722.9695971147,
          1169588.877891757,
          1190734.6336873628,
          1211105.8196736057,
          1235659.6826304076,
          1240926.757334075,
          1246038.9180758698,
          1249369.56825613,
          1255411.21276916,
          1289569.7413620616,
          1319545.5929844035,
          1321791.845431556,
          1326749.092211478,
          1361372.362689997,
          1415979.5342500776,
          1506062.0030789762,
          1511251.6208017073,
          1524651.6785036842,
          1614889.0612944555,
          1640992.0638699834,
          1674066.1947297766,
          1699626.9984387504,
          1839281.9350668709,
          1842457.6712852586,
          1847105.0901414356,
          1883664.785143362,
          1891255.569275118,
          1951284.729500738,
          1964917.158145524,
          2022080.4100765022,
          2089855.2683957508,
          2137568.768652502,
          2202632.6326389806,
          2260183.16947464,
          2311072.405949779,
          2360877.2446918096,
          2380783.6887924345,
          2486667.3817323353,
          2545689.601205784,
          2595804.2678715596,
          2860707.142673652,
          2953500.6058353204,
          3173943.1735799857,
          3179442.6192264617,
          3203299.3693548376,
          3340010.940707379,
          3364177.5187595,
          3441634.499695784,
          3537448.785113968,
          3857578.4873236306,
          3925275.8886619434,
          4350592.17098308,
          4482501.409517572,
          5522903.577453743,
          5677042.969516949,
          5814451.653697917,
          5878198.749008479,
          8526917.669105656,
          9179492.73349385,
          9753758.790155461,
          9777150.798398219,
          10682235.620638702,
          11616754.09563497,
          11792039.243493782,
          13036618.013177998,
          13301211.060056346,
          13415692.477880174,
          15051738.82921637,
          16394687.964689668,
          17537953.003309224,
          26311272.863019336,
          31184091.53372098,
          41689736.77207109,
          54573466.239127,
          88333943.4069968
         ],
         "yaxis": "y"
        }
       ],
       "layout": {
        "legend": {
         "itemsizing": "constant",
         "tracegroupgap": 0
        },
        "template": {
         "data": {
          "bar": [
           {
            "error_x": {
             "color": "#2a3f5f"
            },
            "error_y": {
             "color": "#2a3f5f"
            },
            "marker": {
             "line": {
              "color": "#E5ECF6",
              "width": 0.5
             },
             "pattern": {
              "fillmode": "overlay",
              "size": 10,
              "solidity": 0.2
             }
            },
            "type": "bar"
           }
          ],
          "barpolar": [
           {
            "marker": {
             "line": {
              "color": "#E5ECF6",
              "width": 0.5
             },
             "pattern": {
              "fillmode": "overlay",
              "size": 10,
              "solidity": 0.2
             }
            },
            "type": "barpolar"
           }
          ],
          "carpet": [
           {
            "aaxis": {
             "endlinecolor": "#2a3f5f",
             "gridcolor": "white",
             "linecolor": "white",
             "minorgridcolor": "white",
             "startlinecolor": "#2a3f5f"
            },
            "baxis": {
             "endlinecolor": "#2a3f5f",
             "gridcolor": "white",
             "linecolor": "white",
             "minorgridcolor": "white",
             "startlinecolor": "#2a3f5f"
            },
            "type": "carpet"
           }
          ],
          "choropleth": [
           {
            "colorbar": {
             "outlinewidth": 0,
             "ticks": ""
            },
            "type": "choropleth"
           }
          ],
          "contour": [
           {
            "colorbar": {
             "outlinewidth": 0,
             "ticks": ""
            },
            "colorscale": [
             [
              0,
              "#0d0887"
             ],
             [
              0.1111111111111111,
              "#46039f"
             ],
             [
              0.2222222222222222,
              "#7201a8"
             ],
             [
              0.3333333333333333,
              "#9c179e"
             ],
             [
              0.4444444444444444,
              "#bd3786"
             ],
             [
              0.5555555555555556,
              "#d8576b"
             ],
             [
              0.6666666666666666,
              "#ed7953"
             ],
             [
              0.7777777777777778,
              "#fb9f3a"
             ],
             [
              0.8888888888888888,
              "#fdca26"
             ],
             [
              1,
              "#f0f921"
             ]
            ],
            "type": "contour"
           }
          ],
          "contourcarpet": [
           {
            "colorbar": {
             "outlinewidth": 0,
             "ticks": ""
            },
            "type": "contourcarpet"
           }
          ],
          "heatmap": [
           {
            "colorbar": {
             "outlinewidth": 0,
             "ticks": ""
            },
            "colorscale": [
             [
              0,
              "#0d0887"
             ],
             [
              0.1111111111111111,
              "#46039f"
             ],
             [
              0.2222222222222222,
              "#7201a8"
             ],
             [
              0.3333333333333333,
              "#9c179e"
             ],
             [
              0.4444444444444444,
              "#bd3786"
             ],
             [
              0.5555555555555556,
              "#d8576b"
             ],
             [
              0.6666666666666666,
              "#ed7953"
             ],
             [
              0.7777777777777778,
              "#fb9f3a"
             ],
             [
              0.8888888888888888,
              "#fdca26"
             ],
             [
              1,
              "#f0f921"
             ]
            ],
            "type": "heatmap"
           }
          ],
          "heatmapgl": [
           {
            "colorbar": {
             "outlinewidth": 0,
             "ticks": ""
            },
            "colorscale": [
             [
              0,
              "#0d0887"
             ],
             [
              0.1111111111111111,
              "#46039f"
             ],
             [
              0.2222222222222222,
              "#7201a8"
             ],
             [
              0.3333333333333333,
              "#9c179e"
             ],
             [
              0.4444444444444444,
              "#bd3786"
             ],
             [
              0.5555555555555556,
              "#d8576b"
             ],
             [
              0.6666666666666666,
              "#ed7953"
             ],
             [
              0.7777777777777778,
              "#fb9f3a"
             ],
             [
              0.8888888888888888,
              "#fdca26"
             ],
             [
              1,
              "#f0f921"
             ]
            ],
            "type": "heatmapgl"
           }
          ],
          "histogram": [
           {
            "marker": {
             "pattern": {
              "fillmode": "overlay",
              "size": 10,
              "solidity": 0.2
             }
            },
            "type": "histogram"
           }
          ],
          "histogram2d": [
           {
            "colorbar": {
             "outlinewidth": 0,
             "ticks": ""
            },
            "colorscale": [
             [
              0,
              "#0d0887"
             ],
             [
              0.1111111111111111,
              "#46039f"
             ],
             [
              0.2222222222222222,
              "#7201a8"
             ],
             [
              0.3333333333333333,
              "#9c179e"
             ],
             [
              0.4444444444444444,
              "#bd3786"
             ],
             [
              0.5555555555555556,
              "#d8576b"
             ],
             [
              0.6666666666666666,
              "#ed7953"
             ],
             [
              0.7777777777777778,
              "#fb9f3a"
             ],
             [
              0.8888888888888888,
              "#fdca26"
             ],
             [
              1,
              "#f0f921"
             ]
            ],
            "type": "histogram2d"
           }
          ],
          "histogram2dcontour": [
           {
            "colorbar": {
             "outlinewidth": 0,
             "ticks": ""
            },
            "colorscale": [
             [
              0,
              "#0d0887"
             ],
             [
              0.1111111111111111,
              "#46039f"
             ],
             [
              0.2222222222222222,
              "#7201a8"
             ],
             [
              0.3333333333333333,
              "#9c179e"
             ],
             [
              0.4444444444444444,
              "#bd3786"
             ],
             [
              0.5555555555555556,
              "#d8576b"
             ],
             [
              0.6666666666666666,
              "#ed7953"
             ],
             [
              0.7777777777777778,
              "#fb9f3a"
             ],
             [
              0.8888888888888888,
              "#fdca26"
             ],
             [
              1,
              "#f0f921"
             ]
            ],
            "type": "histogram2dcontour"
           }
          ],
          "mesh3d": [
           {
            "colorbar": {
             "outlinewidth": 0,
             "ticks": ""
            },
            "type": "mesh3d"
           }
          ],
          "parcoords": [
           {
            "line": {
             "colorbar": {
              "outlinewidth": 0,
              "ticks": ""
             }
            },
            "type": "parcoords"
           }
          ],
          "pie": [
           {
            "automargin": true,
            "type": "pie"
           }
          ],
          "scatter": [
           {
            "fillpattern": {
             "fillmode": "overlay",
             "size": 10,
             "solidity": 0.2
            },
            "type": "scatter"
           }
          ],
          "scatter3d": [
           {
            "line": {
             "colorbar": {
              "outlinewidth": 0,
              "ticks": ""
             }
            },
            "marker": {
             "colorbar": {
              "outlinewidth": 0,
              "ticks": ""
             }
            },
            "type": "scatter3d"
           }
          ],
          "scattercarpet": [
           {
            "marker": {
             "colorbar": {
              "outlinewidth": 0,
              "ticks": ""
             }
            },
            "type": "scattercarpet"
           }
          ],
          "scattergeo": [
           {
            "marker": {
             "colorbar": {
              "outlinewidth": 0,
              "ticks": ""
             }
            },
            "type": "scattergeo"
           }
          ],
          "scattergl": [
           {
            "marker": {
             "colorbar": {
              "outlinewidth": 0,
              "ticks": ""
             }
            },
            "type": "scattergl"
           }
          ],
          "scattermapbox": [
           {
            "marker": {
             "colorbar": {
              "outlinewidth": 0,
              "ticks": ""
             }
            },
            "type": "scattermapbox"
           }
          ],
          "scatterpolar": [
           {
            "marker": {
             "colorbar": {
              "outlinewidth": 0,
              "ticks": ""
             }
            },
            "type": "scatterpolar"
           }
          ],
          "scatterpolargl": [
           {
            "marker": {
             "colorbar": {
              "outlinewidth": 0,
              "ticks": ""
             }
            },
            "type": "scatterpolargl"
           }
          ],
          "scatterternary": [
           {
            "marker": {
             "colorbar": {
              "outlinewidth": 0,
              "ticks": ""
             }
            },
            "type": "scatterternary"
           }
          ],
          "surface": [
           {
            "colorbar": {
             "outlinewidth": 0,
             "ticks": ""
            },
            "colorscale": [
             [
              0,
              "#0d0887"
             ],
             [
              0.1111111111111111,
              "#46039f"
             ],
             [
              0.2222222222222222,
              "#7201a8"
             ],
             [
              0.3333333333333333,
              "#9c179e"
             ],
             [
              0.4444444444444444,
              "#bd3786"
             ],
             [
              0.5555555555555556,
              "#d8576b"
             ],
             [
              0.6666666666666666,
              "#ed7953"
             ],
             [
              0.7777777777777778,
              "#fb9f3a"
             ],
             [
              0.8888888888888888,
              "#fdca26"
             ],
             [
              1,
              "#f0f921"
             ]
            ],
            "type": "surface"
           }
          ],
          "table": [
           {
            "cells": {
             "fill": {
              "color": "#EBF0F8"
             },
             "line": {
              "color": "white"
             }
            },
            "header": {
             "fill": {
              "color": "#C8D4E3"
             },
             "line": {
              "color": "white"
             }
            },
            "type": "table"
           }
          ]
         },
         "layout": {
          "annotationdefaults": {
           "arrowcolor": "#2a3f5f",
           "arrowhead": 0,
           "arrowwidth": 1
          },
          "autotypenumbers": "strict",
          "coloraxis": {
           "colorbar": {
            "outlinewidth": 0,
            "ticks": ""
           }
          },
          "colorscale": {
           "diverging": [
            [
             0,
             "#8e0152"
            ],
            [
             0.1,
             "#c51b7d"
            ],
            [
             0.2,
             "#de77ae"
            ],
            [
             0.3,
             "#f1b6da"
            ],
            [
             0.4,
             "#fde0ef"
            ],
            [
             0.5,
             "#f7f7f7"
            ],
            [
             0.6,
             "#e6f5d0"
            ],
            [
             0.7,
             "#b8e186"
            ],
            [
             0.8,
             "#7fbc41"
            ],
            [
             0.9,
             "#4d9221"
            ],
            [
             1,
             "#276419"
            ]
           ],
           "sequential": [
            [
             0,
             "#0d0887"
            ],
            [
             0.1111111111111111,
             "#46039f"
            ],
            [
             0.2222222222222222,
             "#7201a8"
            ],
            [
             0.3333333333333333,
             "#9c179e"
            ],
            [
             0.4444444444444444,
             "#bd3786"
            ],
            [
             0.5555555555555556,
             "#d8576b"
            ],
            [
             0.6666666666666666,
             "#ed7953"
            ],
            [
             0.7777777777777778,
             "#fb9f3a"
            ],
            [
             0.8888888888888888,
             "#fdca26"
            ],
            [
             1,
             "#f0f921"
            ]
           ],
           "sequentialminus": [
            [
             0,
             "#0d0887"
            ],
            [
             0.1111111111111111,
             "#46039f"
            ],
            [
             0.2222222222222222,
             "#7201a8"
            ],
            [
             0.3333333333333333,
             "#9c179e"
            ],
            [
             0.4444444444444444,
             "#bd3786"
            ],
            [
             0.5555555555555556,
             "#d8576b"
            ],
            [
             0.6666666666666666,
             "#ed7953"
            ],
            [
             0.7777777777777778,
             "#fb9f3a"
            ],
            [
             0.8888888888888888,
             "#fdca26"
            ],
            [
             1,
             "#f0f921"
            ]
           ]
          },
          "colorway": [
           "#636efa",
           "#EF553B",
           "#00cc96",
           "#ab63fa",
           "#FFA15A",
           "#19d3f3",
           "#FF6692",
           "#B6E880",
           "#FF97FF",
           "#FECB52"
          ],
          "font": {
           "color": "#2a3f5f"
          },
          "geo": {
           "bgcolor": "white",
           "lakecolor": "white",
           "landcolor": "#E5ECF6",
           "showlakes": true,
           "showland": true,
           "subunitcolor": "white"
          },
          "hoverlabel": {
           "align": "left"
          },
          "hovermode": "closest",
          "mapbox": {
           "style": "light"
          },
          "paper_bgcolor": "white",
          "plot_bgcolor": "#E5ECF6",
          "polar": {
           "angularaxis": {
            "gridcolor": "white",
            "linecolor": "white",
            "ticks": ""
           },
           "bgcolor": "#E5ECF6",
           "radialaxis": {
            "gridcolor": "white",
            "linecolor": "white",
            "ticks": ""
           }
          },
          "scene": {
           "xaxis": {
            "backgroundcolor": "#E5ECF6",
            "gridcolor": "white",
            "gridwidth": 2,
            "linecolor": "white",
            "showbackground": true,
            "ticks": "",
            "zerolinecolor": "white"
           },
           "yaxis": {
            "backgroundcolor": "#E5ECF6",
            "gridcolor": "white",
            "gridwidth": 2,
            "linecolor": "white",
            "showbackground": true,
            "ticks": "",
            "zerolinecolor": "white"
           },
           "zaxis": {
            "backgroundcolor": "#E5ECF6",
            "gridcolor": "white",
            "gridwidth": 2,
            "linecolor": "white",
            "showbackground": true,
            "ticks": "",
            "zerolinecolor": "white"
           }
          },
          "shapedefaults": {
           "line": {
            "color": "#2a3f5f"
           }
          },
          "ternary": {
           "aaxis": {
            "gridcolor": "white",
            "linecolor": "white",
            "ticks": ""
           },
           "baxis": {
            "gridcolor": "white",
            "linecolor": "white",
            "ticks": ""
           },
           "bgcolor": "#E5ECF6",
           "caxis": {
            "gridcolor": "white",
            "linecolor": "white",
            "ticks": ""
           }
          },
          "title": {
           "x": 0.05
          },
          "xaxis": {
           "automargin": true,
           "gridcolor": "white",
           "linecolor": "white",
           "ticks": "",
           "title": {
            "standoff": 15
           },
           "zerolinecolor": "white",
           "zerolinewidth": 2
          },
          "yaxis": {
           "automargin": true,
           "gridcolor": "white",
           "linecolor": "white",
           "ticks": "",
           "title": {
            "standoff": 15
           },
           "zerolinecolor": "white",
           "zerolinewidth": 2
          }
         }
        },
        "title": {
         "text": "Covid 19: Relation between Total Deaths and Total Recovered"
        },
        "xaxis": {
         "anchor": "y",
         "domain": [
          0,
          1
         ],
         "title": {
          "text": "Total Deaths"
         }
        },
        "yaxis": {
         "anchor": "x",
         "domain": [
          0,
          1
         ],
         "title": {
          "text": "Total Recovered"
         }
        }
       }
      }
     },
     "metadata": {},
     "output_type": "display_data"
    }
   ],
   "source": [
    "deaths_to_recovered = px.scatter(data_frame = data, x=\"Total Deaths\", y=\"Total Recovered\", size=\"Total Recovered\", trendline=\"ols\", title=\"Covid 19: Relation between Total Deaths and Total Recovered\")\n",
    "deaths_to_recovered.show()"
   ]
  },
  {
   "cell_type": "code",
   "execution_count": 91,
   "metadata": {},
   "outputs": [
    {
     "data": {
      "text/html": [
       "<div>\n",
       "<style scoped>\n",
       "    .dataframe tbody tr th:only-of-type {\n",
       "        vertical-align: middle;\n",
       "    }\n",
       "\n",
       "    .dataframe tbody tr th {\n",
       "        vertical-align: top;\n",
       "    }\n",
       "\n",
       "    .dataframe thead th {\n",
       "        text-align: right;\n",
       "    }\n",
       "</style>\n",
       "<table border=\"1\" class=\"dataframe\">\n",
       "  <thead>\n",
       "    <tr style=\"text-align: right;\">\n",
       "      <th></th>\n",
       "      <th>Total Deaths</th>\n",
       "      <th>Country</th>\n",
       "      <th>Population</th>\n",
       "    </tr>\n",
       "  </thead>\n",
       "  <tbody>\n",
       "    <tr>\n",
       "      <th>1</th>\n",
       "      <td>530740</td>\n",
       "      <td>India</td>\n",
       "      <td>1406631776</td>\n",
       "    </tr>\n",
       "    <tr>\n",
       "      <th>0</th>\n",
       "      <td>1132935</td>\n",
       "      <td>USA</td>\n",
       "      <td>334805269</td>\n",
       "    </tr>\n",
       "    <tr>\n",
       "      <th>19</th>\n",
       "      <td>160817</td>\n",
       "      <td>Indonesia</td>\n",
       "      <td>279134505</td>\n",
       "    </tr>\n",
       "    <tr>\n",
       "      <th>52</th>\n",
       "      <td>30640</td>\n",
       "      <td>Pakistan</td>\n",
       "      <td>229488994</td>\n",
       "    </tr>\n",
       "    <tr>\n",
       "      <th>107</th>\n",
       "      <td>3155</td>\n",
       "      <td>Nigeria</td>\n",
       "      <td>216746934</td>\n",
       "    </tr>\n",
       "    <tr>\n",
       "      <th>4</th>\n",
       "      <td>697074</td>\n",
       "      <td>Brazil</td>\n",
       "      <td>215353593</td>\n",
       "    </tr>\n",
       "    <tr>\n",
       "      <th>47</th>\n",
       "      <td>29442</td>\n",
       "      <td>Bangladesh</td>\n",
       "      <td>167885689</td>\n",
       "    </tr>\n",
       "    <tr>\n",
       "      <th>9</th>\n",
       "      <td>395108</td>\n",
       "      <td>Russia</td>\n",
       "      <td>145805947</td>\n",
       "    </tr>\n",
       "    <tr>\n",
       "      <th>18</th>\n",
       "      <td>332198</td>\n",
       "      <td>Mexico</td>\n",
       "      <td>131562772</td>\n",
       "    </tr>\n",
       "    <tr>\n",
       "      <th>5</th>\n",
       "      <td>68399</td>\n",
       "      <td>Japan</td>\n",
       "      <td>125584838</td>\n",
       "    </tr>\n",
       "  </tbody>\n",
       "</table>\n",
       "</div>"
      ],
      "text/plain": [
       "     Total Deaths     Country  Population\n",
       "1          530740       India  1406631776\n",
       "0         1132935         USA   334805269\n",
       "19         160817   Indonesia   279134505\n",
       "52          30640    Pakistan   229488994\n",
       "107          3155     Nigeria   216746934\n",
       "4          697074      Brazil   215353593\n",
       "47          29442  Bangladesh   167885689\n",
       "9          395108      Russia   145805947\n",
       "18         332198      Mexico   131562772\n",
       "5           68399       Japan   125584838"
      ]
     },
     "execution_count": 91,
     "metadata": {},
     "output_type": "execute_result"
    }
   ],
   "source": [
    "population_to_deaths = data[['Total Deaths','Country','Population']].sort_values(by=\"Population\",ascending=False)\n",
    "population_to_deaths = population_to_deaths.head(10)\n",
    "population_to_deaths"
   ]
  },
  {
   "cell_type": "code",
   "execution_count": 119,
   "metadata": {},
   "outputs": [
    {
     "data": {
      "application/vnd.plotly.v1+json": {
       "config": {
        "plotlyServerURL": "https://plot.ly"
       },
       "data": [
        {
         "hovertemplate": "Total Deaths=%{x}<br>Population=%{marker.size}<extra></extra>",
         "legendgroup": "",
         "marker": {
          "color": "#636efa",
          "size": [
           1406631776,
           334805269,
           279134505,
           229488994,
           216746934,
           215353593,
           167885689,
           145805947,
           131562772,
           125584838,
           120812698,
           112508994,
           106156692,
           98953541,
           95240792,
           86022837,
           83883596,
           70078203,
           68497907,
           65584518,
           60756135,
           60262770,
           56215221,
           55227143,
           51512762,
           51329899,
           48432863,
           46719142,
           46010234,
           45992020,
           45350148,
           43192122,
           42164965,
           40754388,
           38388419,
           37772756,
           37739785,
           35844909,
           35027343,
           34382084,
           33684208,
           33181072,
           33089461,
           32395450,
           31154867,
           30225582,
           29266991,
           29178077,
           27911548,
           27742298,
           26083660,
           26068792,
           23888595,
           22102838,
           21575842,
           21473764,
           20180839,
           19470234,
           19364809,
           19250195,
           19205043,
           19031335,
           18584039,
           18113361,
           17653671,
           17413580,
           17211447,
           17168639,
           16841795,
           15331428,
           13865691,
           13600464,
           12784726,
           12624840,
           11992656,
           11680283,
           11668278,
           11618511,
           11305652,
           11056370,
           10736784,
           10316637,
           10300869,
           10300205,
           10218971,
           10140570,
           10081785,
           9606259,
           9432800,
           9326000,
           9292169,
           9066710,
           8773637,
           8680837,
           8653016,
           7604299,
           7040745,
           6844597,
           6728271,
           6684849,
           6550389,
           5943546,
           5834950,
           5797805,
           5554960,
           5511370,
           5460193,
           5345541,
           5323993,
           5305117,
           5182354,
           5020199,
           5016678,
           4901981,
           4898203,
           4446964,
           4380326,
           4059286,
           4013171,
           3968738,
           3662244,
           3496016,
           3378078,
           3249317,
           2985094,
           2979915,
           2971966,
           2866374,
           2661708,
           2633874,
           2558482,
           2441162,
           2331533,
           2175699,
           2081304,
           2078034,
           2063367,
           1848837,
           1783983,
           1496662,
           1406585,
           1369429,
           1321910,
           1274727,
           1223387,
           1184817,
           1016097,
           909466,
           908061,
           794045,
           787941,
           667490,
           642371,
           627950,
           567678,
           540985,
           445431,
           444033,
           412190,
           400516,
           321832,
           314169,
           290915,
           288023,
           227679,
           202239,
           185113,
           176463,
           165529,
           113475,
           111551,
           107749,
           107609,
           99509,
           77463,
           72344,
           67277,
           61939,
           56973,
           53871,
           43966,
           39783,
           39741,
           39730,
           38387,
           34085,
           33704,
           26647,
           18233,
           17571,
           15230,
           10982,
           10903,
           5759,
           4965
          ],
          "sizemode": "area",
          "sizeref": 3516579.44,
          "symbol": "circle"
         },
         "mode": "markers",
         "name": "",
         "orientation": "v",
         "showlegend": false,
         "type": "scatter",
         "x": [
          530740,
          1132935,
          160817,
          30640,
          3155,
          697074,
          29442,
          395108,
          332198,
          68399,
          7572,
          65802,
          24613,
          43186,
          1463,
          144749,
          165711,
          33865,
          204171,
          164233,
          102595,
          186833,
          5688,
          19490,
          142486,
          33486,
          3630,
          118434,
          130421,
          5001,
          6881,
          111020,
          25375,
          7882,
          50380,
          16296,
          118736,
          9574,
          1931,
          1637,
          218931,
          36942,
          2233,
          1462,
          2159,
          12020,
          5845,
          1419,
          1965,
          833,
          312,
          18615,
          16356,
          396,
          16828,
          743,
          2686,
          4047,
          3164,
          63812,
          13695,
          67576,
          20106,
          35942,
          1971,
          194,
          22989,
          3056,
          1361,
          5652,
          467,
          1468,
          163,
          38,
          22346,
          860,
          33557,
          138,
          8530,
          4384,
          42312,
          35630,
          14122,
          10085,
          23246,
          26022,
          2348,
          48677,
          7118,
          12193,
          670,
          21689,
          14452,
          290,
          17701,
          13358,
          6437,
          38179,
          2991,
          10790,
          4230,
          1722,
          8145,
          386,
          8639,
          5112,
          20946,
          5404,
          4628,
          294,
          9158,
          8462,
          113,
          997,
          3781,
          8596,
          2570,
          17877,
          11953,
          16926,
          103,
          7609,
          2179,
          16255,
          3480,
          686,
          8717,
          3595,
          9545,
          4088,
          372,
          2800,
          306,
          723,
          9638,
          7056,
          176,
          6218,
          1543,
          183,
          4326,
          138,
          2912,
          1043,
          1287,
          1422,
          189,
          883,
          919,
          1294,
          21,
          120,
          1133,
          2797,
          413,
          311,
          225,
          824,
          688,
          833,
          14,
          420,
          314,
          571,
          77,
          29,
          409,
          223,
          295,
          238,
          123,
          13,
          236,
          146,
          165,
          74,
          37,
          157,
          21,
          46,
          89,
          65,
          38,
          63,
          89,
          122,
          111,
          38,
          9,
          2,
          12,
          7,
          1,
          2,
          8
         ],
         "xaxis": "x",
         "y": [
          1406631776,
          334805269,
          279134505,
          229488994,
          216746934,
          215353593,
          167885689,
          145805947,
          131562772,
          125584838,
          120812698,
          112508994,
          106156692,
          98953541,
          95240792,
          86022837,
          83883596,
          70078203,
          68497907,
          65584518,
          60756135,
          60262770,
          56215221,
          55227143,
          51512762,
          51329899,
          48432863,
          46719142,
          46010234,
          45992020,
          45350148,
          43192122,
          42164965,
          40754388,
          38388419,
          37772756,
          37739785,
          35844909,
          35027343,
          34382084,
          33684208,
          33181072,
          33089461,
          32395450,
          31154867,
          30225582,
          29266991,
          29178077,
          27911548,
          27742298,
          26083660,
          26068792,
          23888595,
          22102838,
          21575842,
          21473764,
          20180839,
          19470234,
          19364809,
          19250195,
          19205043,
          19031335,
          18584039,
          18113361,
          17653671,
          17413580,
          17211447,
          17168639,
          16841795,
          15331428,
          13865691,
          13600464,
          12784726,
          12624840,
          11992656,
          11680283,
          11668278,
          11618511,
          11305652,
          11056370,
          10736784,
          10316637,
          10300869,
          10300205,
          10218971,
          10140570,
          10081785,
          9606259,
          9432800,
          9326000,
          9292169,
          9066710,
          8773637,
          8680837,
          8653016,
          7604299,
          7040745,
          6844597,
          6728271,
          6684849,
          6550389,
          5943546,
          5834950,
          5797805,
          5554960,
          5511370,
          5460193,
          5345541,
          5323993,
          5305117,
          5182354,
          5020199,
          5016678,
          4901981,
          4898203,
          4446964,
          4380326,
          4059286,
          4013171,
          3968738,
          3662244,
          3496016,
          3378078,
          3249317,
          2985094,
          2979915,
          2971966,
          2866374,
          2661708,
          2633874,
          2558482,
          2441162,
          2331533,
          2175699,
          2081304,
          2078034,
          2063367,
          1848837,
          1783983,
          1496662,
          1406585,
          1369429,
          1321910,
          1274727,
          1223387,
          1184817,
          1016097,
          909466,
          908061,
          794045,
          787941,
          667490,
          642371,
          627950,
          567678,
          540985,
          445431,
          444033,
          412190,
          400516,
          321832,
          314169,
          290915,
          288023,
          227679,
          202239,
          185113,
          176463,
          165529,
          113475,
          111551,
          107749,
          107609,
          99509,
          77463,
          72344,
          67277,
          61939,
          56973,
          53871,
          43966,
          39783,
          39741,
          39730,
          38387,
          34085,
          33704,
          26647,
          18233,
          17571,
          15230,
          10982,
          10903,
          5759,
          4965
         ],
         "yaxis": "y"
        },
        {
         "hovertemplate": "<b>OLS trendline</b><br>Population = 559.801 * Total Deaths + 1.31597e+07<br>R<sup>2</sup>=0.328049<br><br>Total Deaths=%{x}<br>Population=%{y} <b>(trend)</b><extra></extra>",
         "legendgroup": "",
         "marker": {
          "color": "#636efa",
          "symbol": "circle"
         },
         "mode": "lines",
         "name": "",
         "showlegend": false,
         "type": "scatter",
         "x": [
          1,
          2,
          2,
          7,
          8,
          9,
          12,
          13,
          14,
          21,
          21,
          29,
          37,
          38,
          38,
          38,
          46,
          63,
          65,
          74,
          77,
          89,
          89,
          103,
          111,
          113,
          120,
          122,
          123,
          138,
          138,
          146,
          157,
          163,
          165,
          176,
          183,
          189,
          194,
          223,
          225,
          236,
          238,
          290,
          294,
          295,
          306,
          311,
          312,
          314,
          372,
          386,
          396,
          409,
          413,
          420,
          467,
          571,
          670,
          686,
          688,
          723,
          743,
          824,
          833,
          833,
          860,
          883,
          919,
          997,
          1043,
          1133,
          1287,
          1294,
          1361,
          1419,
          1422,
          1462,
          1463,
          1468,
          1543,
          1637,
          1722,
          1931,
          1965,
          1971,
          2159,
          2179,
          2233,
          2348,
          2570,
          2686,
          2797,
          2800,
          2912,
          2991,
          3056,
          3155,
          3164,
          3480,
          3595,
          3630,
          3781,
          4047,
          4088,
          4230,
          4326,
          4384,
          4628,
          5001,
          5112,
          5404,
          5652,
          5688,
          5845,
          6218,
          6437,
          6881,
          7056,
          7118,
          7572,
          7609,
          7882,
          8145,
          8462,
          8530,
          8596,
          8639,
          8717,
          9158,
          9545,
          9574,
          9638,
          10085,
          10790,
          11953,
          12020,
          12193,
          13358,
          13695,
          14122,
          14452,
          16255,
          16296,
          16356,
          16828,
          16926,
          17701,
          17877,
          18615,
          19490,
          20106,
          20946,
          21689,
          22346,
          22989,
          23246,
          24613,
          25375,
          26022,
          29442,
          30640,
          33486,
          33557,
          33865,
          35630,
          35942,
          36942,
          38179,
          42312,
          43186,
          48677,
          50380,
          63812,
          65802,
          67576,
          68399,
          102595,
          111020,
          118434,
          118736,
          130421,
          142486,
          144749,
          160817,
          164233,
          165711,
          186833,
          204171,
          218931,
          332198,
          395108,
          530740,
          697074,
          1132935
         ],
         "xaxis": "x",
         "y": [
          13160259.14329091,
          13160818.943824686,
          13160818.943824686,
          13163617.94649356,
          13164177.747027336,
          13164737.54756111,
          13166416.949162437,
          13166976.749696212,
          13167536.550229985,
          13171455.153966412,
          13171455.153966412,
          13175933.558236612,
          13180411.962506812,
          13180971.763040587,
          13180971.763040587,
          13180971.763040587,
          13185450.167310787,
          13194966.776384963,
          13196086.377452513,
          13201124.582256489,
          13202803.983857812,
          13209521.590263113,
          13209521.590263113,
          13217358.797735963,
          13221837.202006163,
          13222956.803073714,
          13226875.406810138,
          13227995.007877689,
          13228554.808411464,
          13236951.816418089,
          13236951.816418089,
          13241430.220688289,
          13247588.026559815,
          13250946.829762464,
          13252066.430830015,
          13258224.23670154,
          13262142.840437965,
          13265501.643640615,
          13268300.646309491,
          13284534.861788968,
          13285654.462856516,
          13291812.268728042,
          13292931.869795593,
          13322041.497551894,
          13324280.699686993,
          13324840.500220768,
          13330998.306092294,
          13333797.30876117,
          13334357.109294944,
          13335476.710362494,
          13367945.141321447,
          13375782.348794296,
          13381380.354132047,
          13388657.761071121,
          13390896.963206222,
          13394815.566942647,
          13421126.192030074,
          13479345.447542677,
          13534765.700386405,
          13543722.508926805,
          13544842.109994356,
          13564435.128676482,
          13575631.13935198,
          13620974.982587758,
          13626013.187391734,
          13626013.187391734,
          13641127.80180366,
          13654003.214080485,
          13674156.033296386,
          13717820.474930838,
          13743571.29948449,
          13793953.347524242,
          13880162.629725596,
          13884081.23346202,
          13921587.869224949,
          13954056.3001839,
          13955735.701785225,
          13978127.723136226,
          13978687.523670001,
          13981486.526338877,
          14023471.566372003,
          14076092.816546855,
          14123675.861917734,
          14240674.173476715,
          14259707.391625065,
          14263066.194827715,
          14368308.695177421,
          14379504.705852922,
          14409733.934676772,
          14474110.9960609,
          14598386.714558957,
          14663323.57647686,
          14725461.435725888,
          14727140.837327214,
          14789838.497110017,
          14834062.739278244,
          14870449.773973621,
          14925870.026817348,
          14930908.231621323,
          15107805.200294232,
          15172182.26167836,
          15191775.280360486,
          15276305.160960516,
          15425212.102944672,
          15448163.92482945,
          15527655.600625504,
          15581396.451867906,
          15613864.882826857,
          15750456.213067964,
          15959261.81216605,
          16021399.671415078,
          16184861.427277386,
          16323691.959653594,
          16343844.778869495,
          16431733.462672174,
          16640539.061770258,
          16763135.37866699,
          17011686.815663103,
          17109651.909073733,
          17144359.542167783,
          17398508.984501645,
          17419221.60425132,
          17572047.149971906,
          17719274.69035474,
          17896731.459561422,
          17934797.895858124,
          17971744.731087275,
          17995816.1540396,
          18039480.595674053,
          18286352.63106884,
          18502995.437639777,
          18519229.65311925,
          18555056.88728085,
          18805287.72587829,
          19199947.102189686,
          19850995.122970045,
          19888501.75873297,
          19985347.25107605,
          20637514.872923955,
          20826167.65280614,
          21065202.48072808,
          21249936.656873837,
          22259257.01927021,
          22282208.84115499,
          22315796.873181492,
          22580022.7251233,
          22634883.177433256,
          23068728.591108903,
          23167253.48505331,
          23580386.27897928,
          24070211.746032428,
          24415048.874837846,
          24885281.32320887,
          25301213.11980371,
          25669002.070493907,
          26028953.81371125,
          26172822.550891433,
          26938069.880561896,
          27364637.887298465,
          27726828.832650907,
          29641346.658161506,
          30311987.697623987,
          31905180.016747717,
          31944925.854645744,
          32117344.41904845,
          33105392.361161377,
          33280050.127699185,
          33839850.66147421,
          34532323.92175393,
          36845979.52784611,
          37335245.19436549,
          40409109.925324164,
          41362450.23434304,
          48881691.00400921,
          49995694.06622151,
          50988780.21313842,
          51449496.052435264,
          70592435.1054061,
          75308754.60246073,
          79459115.75986877,
          79628175.52106884,
          86169444.75823005,
          92923438.19822575,
          94190266.80615863,
          103185141.78285578,
          105097420.40623128,
          105924805.59515077,
          117748912.46954691,
          127454734.12413834,
          135717390.00265777,
          199124317.06175384,
          234341368.64154083,
          310268234.63851535,
          403382096.6234509,
          647377317.0751683
         ],
         "yaxis": "y"
        }
       ],
       "layout": {
        "legend": {
         "itemsizing": "constant",
         "tracegroupgap": 0
        },
        "template": {
         "data": {
          "bar": [
           {
            "error_x": {
             "color": "#2a3f5f"
            },
            "error_y": {
             "color": "#2a3f5f"
            },
            "marker": {
             "line": {
              "color": "#E5ECF6",
              "width": 0.5
             },
             "pattern": {
              "fillmode": "overlay",
              "size": 10,
              "solidity": 0.2
             }
            },
            "type": "bar"
           }
          ],
          "barpolar": [
           {
            "marker": {
             "line": {
              "color": "#E5ECF6",
              "width": 0.5
             },
             "pattern": {
              "fillmode": "overlay",
              "size": 10,
              "solidity": 0.2
             }
            },
            "type": "barpolar"
           }
          ],
          "carpet": [
           {
            "aaxis": {
             "endlinecolor": "#2a3f5f",
             "gridcolor": "white",
             "linecolor": "white",
             "minorgridcolor": "white",
             "startlinecolor": "#2a3f5f"
            },
            "baxis": {
             "endlinecolor": "#2a3f5f",
             "gridcolor": "white",
             "linecolor": "white",
             "minorgridcolor": "white",
             "startlinecolor": "#2a3f5f"
            },
            "type": "carpet"
           }
          ],
          "choropleth": [
           {
            "colorbar": {
             "outlinewidth": 0,
             "ticks": ""
            },
            "type": "choropleth"
           }
          ],
          "contour": [
           {
            "colorbar": {
             "outlinewidth": 0,
             "ticks": ""
            },
            "colorscale": [
             [
              0,
              "#0d0887"
             ],
             [
              0.1111111111111111,
              "#46039f"
             ],
             [
              0.2222222222222222,
              "#7201a8"
             ],
             [
              0.3333333333333333,
              "#9c179e"
             ],
             [
              0.4444444444444444,
              "#bd3786"
             ],
             [
              0.5555555555555556,
              "#d8576b"
             ],
             [
              0.6666666666666666,
              "#ed7953"
             ],
             [
              0.7777777777777778,
              "#fb9f3a"
             ],
             [
              0.8888888888888888,
              "#fdca26"
             ],
             [
              1,
              "#f0f921"
             ]
            ],
            "type": "contour"
           }
          ],
          "contourcarpet": [
           {
            "colorbar": {
             "outlinewidth": 0,
             "ticks": ""
            },
            "type": "contourcarpet"
           }
          ],
          "heatmap": [
           {
            "colorbar": {
             "outlinewidth": 0,
             "ticks": ""
            },
            "colorscale": [
             [
              0,
              "#0d0887"
             ],
             [
              0.1111111111111111,
              "#46039f"
             ],
             [
              0.2222222222222222,
              "#7201a8"
             ],
             [
              0.3333333333333333,
              "#9c179e"
             ],
             [
              0.4444444444444444,
              "#bd3786"
             ],
             [
              0.5555555555555556,
              "#d8576b"
             ],
             [
              0.6666666666666666,
              "#ed7953"
             ],
             [
              0.7777777777777778,
              "#fb9f3a"
             ],
             [
              0.8888888888888888,
              "#fdca26"
             ],
             [
              1,
              "#f0f921"
             ]
            ],
            "type": "heatmap"
           }
          ],
          "heatmapgl": [
           {
            "colorbar": {
             "outlinewidth": 0,
             "ticks": ""
            },
            "colorscale": [
             [
              0,
              "#0d0887"
             ],
             [
              0.1111111111111111,
              "#46039f"
             ],
             [
              0.2222222222222222,
              "#7201a8"
             ],
             [
              0.3333333333333333,
              "#9c179e"
             ],
             [
              0.4444444444444444,
              "#bd3786"
             ],
             [
              0.5555555555555556,
              "#d8576b"
             ],
             [
              0.6666666666666666,
              "#ed7953"
             ],
             [
              0.7777777777777778,
              "#fb9f3a"
             ],
             [
              0.8888888888888888,
              "#fdca26"
             ],
             [
              1,
              "#f0f921"
             ]
            ],
            "type": "heatmapgl"
           }
          ],
          "histogram": [
           {
            "marker": {
             "pattern": {
              "fillmode": "overlay",
              "size": 10,
              "solidity": 0.2
             }
            },
            "type": "histogram"
           }
          ],
          "histogram2d": [
           {
            "colorbar": {
             "outlinewidth": 0,
             "ticks": ""
            },
            "colorscale": [
             [
              0,
              "#0d0887"
             ],
             [
              0.1111111111111111,
              "#46039f"
             ],
             [
              0.2222222222222222,
              "#7201a8"
             ],
             [
              0.3333333333333333,
              "#9c179e"
             ],
             [
              0.4444444444444444,
              "#bd3786"
             ],
             [
              0.5555555555555556,
              "#d8576b"
             ],
             [
              0.6666666666666666,
              "#ed7953"
             ],
             [
              0.7777777777777778,
              "#fb9f3a"
             ],
             [
              0.8888888888888888,
              "#fdca26"
             ],
             [
              1,
              "#f0f921"
             ]
            ],
            "type": "histogram2d"
           }
          ],
          "histogram2dcontour": [
           {
            "colorbar": {
             "outlinewidth": 0,
             "ticks": ""
            },
            "colorscale": [
             [
              0,
              "#0d0887"
             ],
             [
              0.1111111111111111,
              "#46039f"
             ],
             [
              0.2222222222222222,
              "#7201a8"
             ],
             [
              0.3333333333333333,
              "#9c179e"
             ],
             [
              0.4444444444444444,
              "#bd3786"
             ],
             [
              0.5555555555555556,
              "#d8576b"
             ],
             [
              0.6666666666666666,
              "#ed7953"
             ],
             [
              0.7777777777777778,
              "#fb9f3a"
             ],
             [
              0.8888888888888888,
              "#fdca26"
             ],
             [
              1,
              "#f0f921"
             ]
            ],
            "type": "histogram2dcontour"
           }
          ],
          "mesh3d": [
           {
            "colorbar": {
             "outlinewidth": 0,
             "ticks": ""
            },
            "type": "mesh3d"
           }
          ],
          "parcoords": [
           {
            "line": {
             "colorbar": {
              "outlinewidth": 0,
              "ticks": ""
             }
            },
            "type": "parcoords"
           }
          ],
          "pie": [
           {
            "automargin": true,
            "type": "pie"
           }
          ],
          "scatter": [
           {
            "fillpattern": {
             "fillmode": "overlay",
             "size": 10,
             "solidity": 0.2
            },
            "type": "scatter"
           }
          ],
          "scatter3d": [
           {
            "line": {
             "colorbar": {
              "outlinewidth": 0,
              "ticks": ""
             }
            },
            "marker": {
             "colorbar": {
              "outlinewidth": 0,
              "ticks": ""
             }
            },
            "type": "scatter3d"
           }
          ],
          "scattercarpet": [
           {
            "marker": {
             "colorbar": {
              "outlinewidth": 0,
              "ticks": ""
             }
            },
            "type": "scattercarpet"
           }
          ],
          "scattergeo": [
           {
            "marker": {
             "colorbar": {
              "outlinewidth": 0,
              "ticks": ""
             }
            },
            "type": "scattergeo"
           }
          ],
          "scattergl": [
           {
            "marker": {
             "colorbar": {
              "outlinewidth": 0,
              "ticks": ""
             }
            },
            "type": "scattergl"
           }
          ],
          "scattermapbox": [
           {
            "marker": {
             "colorbar": {
              "outlinewidth": 0,
              "ticks": ""
             }
            },
            "type": "scattermapbox"
           }
          ],
          "scatterpolar": [
           {
            "marker": {
             "colorbar": {
              "outlinewidth": 0,
              "ticks": ""
             }
            },
            "type": "scatterpolar"
           }
          ],
          "scatterpolargl": [
           {
            "marker": {
             "colorbar": {
              "outlinewidth": 0,
              "ticks": ""
             }
            },
            "type": "scatterpolargl"
           }
          ],
          "scatterternary": [
           {
            "marker": {
             "colorbar": {
              "outlinewidth": 0,
              "ticks": ""
             }
            },
            "type": "scatterternary"
           }
          ],
          "surface": [
           {
            "colorbar": {
             "outlinewidth": 0,
             "ticks": ""
            },
            "colorscale": [
             [
              0,
              "#0d0887"
             ],
             [
              0.1111111111111111,
              "#46039f"
             ],
             [
              0.2222222222222222,
              "#7201a8"
             ],
             [
              0.3333333333333333,
              "#9c179e"
             ],
             [
              0.4444444444444444,
              "#bd3786"
             ],
             [
              0.5555555555555556,
              "#d8576b"
             ],
             [
              0.6666666666666666,
              "#ed7953"
             ],
             [
              0.7777777777777778,
              "#fb9f3a"
             ],
             [
              0.8888888888888888,
              "#fdca26"
             ],
             [
              1,
              "#f0f921"
             ]
            ],
            "type": "surface"
           }
          ],
          "table": [
           {
            "cells": {
             "fill": {
              "color": "#EBF0F8"
             },
             "line": {
              "color": "white"
             }
            },
            "header": {
             "fill": {
              "color": "#C8D4E3"
             },
             "line": {
              "color": "white"
             }
            },
            "type": "table"
           }
          ]
         },
         "layout": {
          "annotationdefaults": {
           "arrowcolor": "#2a3f5f",
           "arrowhead": 0,
           "arrowwidth": 1
          },
          "autotypenumbers": "strict",
          "coloraxis": {
           "colorbar": {
            "outlinewidth": 0,
            "ticks": ""
           }
          },
          "colorscale": {
           "diverging": [
            [
             0,
             "#8e0152"
            ],
            [
             0.1,
             "#c51b7d"
            ],
            [
             0.2,
             "#de77ae"
            ],
            [
             0.3,
             "#f1b6da"
            ],
            [
             0.4,
             "#fde0ef"
            ],
            [
             0.5,
             "#f7f7f7"
            ],
            [
             0.6,
             "#e6f5d0"
            ],
            [
             0.7,
             "#b8e186"
            ],
            [
             0.8,
             "#7fbc41"
            ],
            [
             0.9,
             "#4d9221"
            ],
            [
             1,
             "#276419"
            ]
           ],
           "sequential": [
            [
             0,
             "#0d0887"
            ],
            [
             0.1111111111111111,
             "#46039f"
            ],
            [
             0.2222222222222222,
             "#7201a8"
            ],
            [
             0.3333333333333333,
             "#9c179e"
            ],
            [
             0.4444444444444444,
             "#bd3786"
            ],
            [
             0.5555555555555556,
             "#d8576b"
            ],
            [
             0.6666666666666666,
             "#ed7953"
            ],
            [
             0.7777777777777778,
             "#fb9f3a"
            ],
            [
             0.8888888888888888,
             "#fdca26"
            ],
            [
             1,
             "#f0f921"
            ]
           ],
           "sequentialminus": [
            [
             0,
             "#0d0887"
            ],
            [
             0.1111111111111111,
             "#46039f"
            ],
            [
             0.2222222222222222,
             "#7201a8"
            ],
            [
             0.3333333333333333,
             "#9c179e"
            ],
            [
             0.4444444444444444,
             "#bd3786"
            ],
            [
             0.5555555555555556,
             "#d8576b"
            ],
            [
             0.6666666666666666,
             "#ed7953"
            ],
            [
             0.7777777777777778,
             "#fb9f3a"
            ],
            [
             0.8888888888888888,
             "#fdca26"
            ],
            [
             1,
             "#f0f921"
            ]
           ]
          },
          "colorway": [
           "#636efa",
           "#EF553B",
           "#00cc96",
           "#ab63fa",
           "#FFA15A",
           "#19d3f3",
           "#FF6692",
           "#B6E880",
           "#FF97FF",
           "#FECB52"
          ],
          "font": {
           "color": "#2a3f5f"
          },
          "geo": {
           "bgcolor": "white",
           "lakecolor": "white",
           "landcolor": "#E5ECF6",
           "showlakes": true,
           "showland": true,
           "subunitcolor": "white"
          },
          "hoverlabel": {
           "align": "left"
          },
          "hovermode": "closest",
          "mapbox": {
           "style": "light"
          },
          "paper_bgcolor": "white",
          "plot_bgcolor": "#E5ECF6",
          "polar": {
           "angularaxis": {
            "gridcolor": "white",
            "linecolor": "white",
            "ticks": ""
           },
           "bgcolor": "#E5ECF6",
           "radialaxis": {
            "gridcolor": "white",
            "linecolor": "white",
            "ticks": ""
           }
          },
          "scene": {
           "xaxis": {
            "backgroundcolor": "#E5ECF6",
            "gridcolor": "white",
            "gridwidth": 2,
            "linecolor": "white",
            "showbackground": true,
            "ticks": "",
            "zerolinecolor": "white"
           },
           "yaxis": {
            "backgroundcolor": "#E5ECF6",
            "gridcolor": "white",
            "gridwidth": 2,
            "linecolor": "white",
            "showbackground": true,
            "ticks": "",
            "zerolinecolor": "white"
           },
           "zaxis": {
            "backgroundcolor": "#E5ECF6",
            "gridcolor": "white",
            "gridwidth": 2,
            "linecolor": "white",
            "showbackground": true,
            "ticks": "",
            "zerolinecolor": "white"
           }
          },
          "shapedefaults": {
           "line": {
            "color": "#2a3f5f"
           }
          },
          "ternary": {
           "aaxis": {
            "gridcolor": "white",
            "linecolor": "white",
            "ticks": ""
           },
           "baxis": {
            "gridcolor": "white",
            "linecolor": "white",
            "ticks": ""
           },
           "bgcolor": "#E5ECF6",
           "caxis": {
            "gridcolor": "white",
            "linecolor": "white",
            "ticks": ""
           }
          },
          "title": {
           "x": 0.05
          },
          "xaxis": {
           "automargin": true,
           "gridcolor": "white",
           "linecolor": "white",
           "ticks": "",
           "title": {
            "standoff": 15
           },
           "zerolinecolor": "white",
           "zerolinewidth": 2
          },
          "yaxis": {
           "automargin": true,
           "gridcolor": "white",
           "linecolor": "white",
           "ticks": "",
           "title": {
            "standoff": 15
           },
           "zerolinecolor": "white",
           "zerolinewidth": 2
          }
         }
        },
        "title": {
         "text": "Covid 19: Relation between Total Deaths and Population size"
        },
        "xaxis": {
         "anchor": "y",
         "domain": [
          0,
          1
         ],
         "title": {
          "text": "Total Deaths"
         }
        },
        "yaxis": {
         "anchor": "x",
         "domain": [
          0,
          1
         ],
         "title": {
          "text": "Population"
         }
        }
       }
      }
     },
     "metadata": {},
     "output_type": "display_data"
    }
   ],
   "source": [
    "population_to_deaths = data[['Total Deaths','Country','Population']].sort_values(by=\"Population\",ascending=False)\n",
    "\n",
    "deaths_to_population = px.scatter(data_frame = population_to_deaths, x=\"Total Deaths\", y=\"Population\", size=\"Population\", trendline=\"ols\", title=\"Covid 19: Relation between Total Deaths and Population size\")\n",
    "deaths_to_population.show()"
   ]
  },
  {
   "cell_type": "code",
   "execution_count": 133,
   "metadata": {},
   "outputs": [
    {
     "data": {
      "image/png": "[encoded data removed]",
      "text/plain": [
       "<Figure size 1400x1200 with 2 Axes>"
      ]
     },
     "metadata": {},
     "output_type": "display_data"
    }
   ],
   "source": [
    "plt.figure(figsize=(14,12))\n",
    "heatmap = sns.heatmap(data.corr(), annot = True, cmap= 'YlOrRd', fmt= '.2f')\n",
    "heatmap.set_title(\"Covid 19: Correlation Heatmap\", pad = 15)\n",
    "plt.savefig('heatmap.png')\n",
    "plt.show()"
   ]
  },
  {
   "cell_type": "code",
   "execution_count": null,
   "metadata": {},
   "outputs": [],
   "source": []
  }
 ],
 "metadata": {
  "kernelspec": {
   "display_name": "Python 3.9.13 ('base')",
   "language": "python",
   "name": "python3"
  },
  "language_info": {
   "codemirror_mode": {
    "name": "ipython",
    "version": 3
   },
   "file_extension": ".py",
   "mimetype": "text/x-python",
   "name": "python",
   "nbconvert_exporter": "python",
   "pygments_lexer": "ipython3",
   "version": "3.9.13"
  },
  "orig_nbformat": 4,
  "vscode": {
   "interpreter": {
    "hash": "f86e033560dc217afad629eb11cf4b6f6c24601fd52c14e417e3ac981bcaf74f"
   }
  }
 },
 "nbformat": 4,
 "nbformat_minor": 2
}
